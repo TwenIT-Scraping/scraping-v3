{
 "cells": [
  {
   "cell_type": "code",
   "execution_count": 1,
   "metadata": {},
   "outputs": [],
   "source": [
    "from bs4 import BeautifulSoup\n",
    "from selenium import webdriver\n",
    "from selenium.webdriver.common.by import By\n",
    "from selenium.webdriver.common.keys import Keys\n",
    "from selenium.webdriver.support.ui import WebDriverWait\n",
    "from selenium.common.exceptions import ElementNotVisibleException, ElementNotSelectableException, NoSuchElementException\n",
    "from selenium.webdriver.support import expected_conditions as EC\n",
    "from webdriver_manager.chrome import ChromeDriverManager\n",
    "from selenium.webdriver.chrome.service import Service as ChromeService\n",
    "from unidecode import unidecode\n",
    "from pathlib import Path\n",
    "from datetime import datetime, timedelta\n",
    "from lingua import Language, LanguageDetectorBuilder\n",
    "import pandas as pd\n",
    "import json\n",
    "import time"
   ]
  },
  {
   "cell_type": "code",
   "execution_count": 99,
   "metadata": {},
   "outputs": [],
   "source": [
    "#tripadvisor\n",
    "tripadvisor = [\n",
    "    {'url': 'https://www.tripadvisor.com/Restaurant_Review-g187259-d27427020-Reviews-Le_Carre_D_as-Aix_les_Bains_Savoie_Auvergne_Rhone_Alpes.html', 'settings': 136}, \n",
    "    {'url': 'https://www.tripadvisor.com/Restaurant_Review-g187259-d27427020-Reviews-Le_Carre_D_as-Aix_les_Bains_Savoie_Auvergne_Rhone_Alpes.html', 'settings': 130}, \n",
    "    {'url': 'https://www.tripadvisor.com/Restaurant_Review-g1079358-d10302464-Reviews-Le_Central-Cap_Ferret_Lege_Cap_Ferret_Gironde_Nouvelle_Aquitaine.html', 'settings': 104}\n",
    "]"
   ]
  },
  {
   "cell_type": "code",
   "execution_count": 100,
   "metadata": {},
   "outputs": [],
   "source": [
    "#tripadvisor ES\n",
    "tripadvisor_es = [\n",
    "    {'url': 'https://www.tripadvisor.es/Hotel_Review-g187514-d228623-Reviews-Hotel_Chamartin_The_One-Madrid.html', 'settings': 82}, \n",
    "    {'url': 'https://www.tripadvisor.es/Hotel_Review-g315910-d325898-Reviews-Hotel_Antequera-Antequera_Costa_del_Sol_Province_of_Malaga_Andalucia.html', 'settings': 81}\n",
    "]"
   ]
  },
  {
   "cell_type": "code",
   "execution_count": 101,
   "metadata": {},
   "outputs": [],
   "source": [
    "#tripadvisor FR\n",
    "tripadvisor_fr = [\n",
    "    {'url': 'https://www.tripadvisor.fr/Hotel_Review-g187140-d313054-Reviews-Hotel_du_Golfe-Ajaccio_Communaute_d_Agglomeration_du_Pays_Ajaccien_Corse_du_Sud_Corsica.html', 'settings': 144}, \n",
    "    {'url': 'https://www.tripadvisor.fr/Hotel_Review-g666541-d623991-Reviews-Hotel_Dolce_Notte-Saint_Florent_Haute_Corse_Corsica.html', 'settings': 137}, \n",
    "    {'url': 'https://www.tripadvisor.fr/Hotel_Review-g196707-d7120453-Reviews-Hotel_Ibiza-Les_Deux_Alpes_Isere_Auvergne_Rhone_Alpes.html', 'settings': 70}, \n",
    "    {'url': 'https://www.tripadvisor.fr/Attraction_Review-g187261-d2463830-Reviews-ESF_Chamonix_Ski_and_Guide_Company-Chamonix_Haute_Savoie_Auvergne_Rhone_Alpes.html', 'settings': 64}, \n",
    "    {'url': 'https://www.tripadvisor.fr/Restaurant_Review-g187261-d10491718-Reviews-La_Fine_Bouche-Chamonix_Haute_Savoie_Auvergne_Rhone_Alpes.html', 'settings': 63}, \n",
    "    {'url': 'https://www.tripadvisor.fr/Restaurant_Review-g187261-d13294436-Reviews-Le_Comptoir_des_Alpes-Chamonix_Haute_Savoie_Auvergne_Rhone_Alpes.html#photos;aggregationId=101&albumid=101&filter=7&ff=466724336', 'settings': 62}, \n",
    "    {'url': 'https://www.tripadvisor.fr/Hotel_Review-g187261-d471965-Reviews-Pierre_Vacances_Residence_La_Riviere-Chamonix_Haute_Savoie_Auvergne_Rhone_Alpes.html#/media/471965/303132012:p/?albumid=101&type=0&category=101', 'settings': 56}, \n",
    "    {'url': 'https://www.tripadvisor.fr/Hotel_Review-g187261-d558174-Reviews-Grand_Hotel_des_Alpes-Chamonix_Haute_Savoie_Auvergne_Rhone_Alpes.html', 'settings': 55}, \n",
    "    {'url': 'https://www.tripadvisor.fr/Restaurant_Review-g1551846-d1555394-Reviews-Le_Lido-Tresserve_Savoie_Auvergne_Rhone_Alpes.html', 'settings': 44}, \n",
    "    {'url': 'https://www.tripadvisor.fr/Attraction_Review-g187261-d12123950-Reviews-Office_de_Tourisme_de_Chamonix_Mont_blanc-Chamonix_Haute_Savoie_Auvergne_Rhone_A.html', 'settings': 38}, \n",
    "    {'url': 'https://www.tripadvisor.fr/Hotel_Review-g1056032-d1055274-Reviews-Madame_Vacances_Les_Chalets_de_Berger-La_Feclaz_Savoie_Auvergne_Rhone_Alpes.html', 'settings': 14}, \n",
    "    {'url': 'https://www.tripadvisor.fr/Hotel_Review-g8309764-d239781-Reviews-Chateau_de_Candie-Chambery_Savoie_Auvergne_Rhone_Alpes.html', 'settings': 6}, \n",
    "    {'url': 'https://www.tripadvisor.fr/Attraction_Review-g8309764-d15690584-Reviews-MV_Transport-Chambery_Savoie_Auvergne_Rhone_Alpes.html', 'settings': 1}\n",
    "]"
   ]
  },
  {
   "cell_type": "code",
   "execution_count": 102,
   "metadata": {},
   "outputs": [],
   "source": [
    "url = tripadvisor[1]['url']"
   ]
  },
  {
   "cell_type": "code",
   "execution_count": 2,
   "metadata": {},
   "outputs": [],
   "source": [
    "chrome_options = webdriver.ChromeOptions()\n",
    "chrome_options.add_argument('disable-translate')\n",
    "chrome_options.add_argument('--lang=en')"
   ]
  },
  {
   "cell_type": "code",
   "execution_count": 3,
   "metadata": {},
   "outputs": [],
   "source": [
    "driver = webdriver.Chrome(options=chrome_options)"
   ]
  },
  {
   "cell_type": "code",
   "execution_count": 122,
   "metadata": {},
   "outputs": [],
   "source": [
    "driver.get(url)"
   ]
  },
  {
   "cell_type": "code",
   "execution_count": 84,
   "metadata": {},
   "outputs": [],
   "source": [
    "soupe = BeautifulSoup(driver.page_source, 'lxml')\n"
   ]
  },
  {
   "cell_type": "code",
   "execution_count": 85,
   "metadata": {},
   "outputs": [
    {
     "data": {
      "text/plain": [
       "13"
      ]
     },
     "execution_count": 85,
     "metadata": {},
     "output_type": "execute_result"
    }
   ],
   "source": [
    "review_container1 = soupe.find('div', {'class':'listContainer hide-more-mobile'})\n",
    "len(review_container1)"
   ]
  },
  {
   "cell_type": "code",
   "execution_count": null,
   "metadata": {},
   "outputs": [],
   "source": [
    "review_container2 = soupe.find('div', {'class':'JmLZe'})\n",
    "len(review_container2)"
   ]
  },
  {
   "cell_type": "code",
   "execution_count": 3,
   "metadata": {},
   "outputs": [
    {
     "data": {
      "text/plain": [
       "True"
      ]
     },
     "execution_count": 3,
     "metadata": {},
     "output_type": "execute_result"
    }
   ],
   "source": [
    "x = None\n",
    "x is None"
   ]
  },
  {
   "cell_type": "code",
   "execution_count": 87,
   "metadata": {},
   "outputs": [],
   "source": [
    "reviews = soupe.find_all('div', {'class':'review-container'})"
   ]
  },
  {
   "cell_type": "code",
   "execution_count": 88,
   "metadata": {},
   "outputs": [
    {
     "data": {
      "text/plain": [
       "9"
      ]
     },
     "execution_count": 88,
     "metadata": {},
     "output_type": "execute_result"
    }
   ],
   "source": [
    "len(reviews)"
   ]
  },
  {
   "cell_type": "code",
   "execution_count": 66,
   "metadata": {},
   "outputs": [],
   "source": [
    "reviews2 = soupe.find_all('div', {'class':'_c'})"
   ]
  },
  {
   "cell_type": "code",
   "execution_count": 63,
   "metadata": {},
   "outputs": [
    {
     "data": {
      "text/plain": [
       "9"
      ]
     },
     "execution_count": 63,
     "metadata": {},
     "output_type": "execute_result"
    }
   ],
   "source": [
    "len(reviews2)"
   ]
  },
  {
   "cell_type": "code",
   "execution_count": 51,
   "metadata": {},
   "outputs": [
    {
     "data": {
      "text/plain": [
       "'https://www.tripadvisor.com/Restaurant_Review-g1079358-d10302464-Reviews-Le_Central-Cap_Ferret_Lege_Cap_Ferret_Gironde_Nouvelle_Aquitaine.html'"
      ]
     },
     "execution_count": 51,
     "metadata": {},
     "output_type": "execute_result"
    }
   ],
   "source": [
    "driver.current_url"
   ]
  },
  {
   "cell_type": "code",
   "execution_count": 93,
   "metadata": {},
   "outputs": [
    {
     "data": {
      "text/plain": [
       "'5'"
      ]
     },
     "execution_count": 93,
     "metadata": {},
     "output_type": "execute_result"
    }
   ],
   "source": [
    "reviews[0].find('span', {'class':'ui_bubble_rating'})['class'][-1][-2]"
   ]
  },
  {
   "cell_type": "code",
   "execution_count": 97,
   "metadata": {},
   "outputs": [],
   "source": [
    "def extract1():\n",
    "    reviews = soupe.find_all('div', {'class':'review-container'})\n",
    "    data = []\n",
    "    for review in reviews:\n",
    "        data.append({\n",
    "            'author': review.find('div', {'class':'info_text pointer_cursor'}).text.strip(),\n",
    "            'rating': review.find('span', {'class':'ui_bubble_rating'})['class'][-1][-2] if review.find('span', {'class':'ui_bubble_rating'}) else 0,\n",
    "            'date': review.find('span', {'class':'ratingDate'}).text.strip(),\n",
    "            'comment': review.find('p', {'class':'partial_entry'}).text.strip()\n",
    "        })\n",
    "        print({\n",
    "            'author': review.find('div', {'class':'info_text pointer_cursor'}).text.strip(),\n",
    "            'rating': review.find('span', {'class':'ui_bubble_rating'})['class'][-1][-2] if review.find('span', {'class':'ui_bubble_rating'}) else 0,\n",
    "            'date': review.find('span', {'class':'ratingDate'}).text.strip(),\n",
    "            'comment': review.find('p', {'class':'partial_entry'}).text.strip()\n",
    "        })"
   ]
  },
  {
   "cell_type": "code",
   "execution_count": 98,
   "metadata": {},
   "outputs": [
    {
     "name": "stdout",
     "output_type": "stream",
     "text": [
      "{'author': 'alainv571', 'rating': '5', 'date': 'Reviewed June 4, 2022', 'comment': 'Relax lounge - type atmosphere, the food was very good,  the service excellent. A nice place for diner thanks also to the very friendly staff.'}\n",
      "{'author': 'Joolybaby', 'rating': '5', 'date': 'Reviewed August 21, 2021', 'comment': 'Unlike most restaurants in Cap Ferret, these people are actually nice. Very friendly, very good service, good food and a an excellent all-round experience  - we went three times in two weeks.'}\n",
      "{'author': 'frobineau', 'rating': '5', 'date': 'Reviewed August 3, 2019', 'comment': 'Stopped off for lunch. Quite relaxed whilst still art and great food. The tomatoes tasted amazing, the basil could be tasted, all great tasting food.'}\n",
      "{'author': 'QueenGucci', 'rating': '4', 'date': 'Reviewed July 28, 2019', 'comment': 'We had a great lunch when in town - Caesar Salad and Carpaccio- expensive but then everything in Cap Ferret is'}\n",
      "{'author': 'Irina O', 'rating': '5', 'date': 'Reviewed September 15, 2017', 'comment': 'Just the choices one has on the menu , immediately told me before even tasting any thing  they prepared, THIS restaurant was first class! \\nAnd indeed it was. Attractively served, good portion size  with  great care with sauces and  quality of fish, meat and vegetables...left us wishing we lived closer as we would be more than happy to be \"regulars. \"More'}\n",
      "{'author': 'MadDocNI', 'rating': '5', 'date': 'Reviewed June 4, 2017', 'comment': 'Nice bar/restaurant on main shopping strip in Cap Ferret. Friendly owner and staff.\\nServes relatively small menu, but what it does, it does well.\\nThe veal kidney stew was great, as were the grilled corn fed chicken and Plat du Jour of lamb. Great pâte...too.\\nPretty busy for lunch, inside full, and only a few tables on the pavement.\\nTastefully and smartly laid out.\\nThoroughly recommended.More'}\n",
      "{'author': '2gillyh', 'rating': '5', 'date': 'Reviewed April 10, 2017', 'comment': 'Simple, understated restaurant with the best tasting chicken I have eaten in a very long time. We arrived quite late on a Sunday night, without a reservation to an unexpectedly warm welcome, not the usual raised eyebrow and tap of the watch!! Charming waitresses were...also efficient, small wine list but our wine was very good so we were happy. A few local diners and a group of young - would recommend.More'}\n",
      "{'author': 'waynek138', 'rating': '4', 'date': 'Reviewed September 21, 2016', 'comment': \"A fun youngish place that's open on Tuesday night. Good kidneys. The pate is a bit weird and spicy. The room  is cool and the crowd is local.\"}\n",
      "{'author': 'franco-americaine', 'rating': '4', 'date': 'Reviewed August 28, 2016', 'comment': 'Looking for something new in Cap Ferret, we tried this place. It was full, so we had to wait for a table. Service was friendly and efficient. The decor is attractive and casual. We shared a fish terrine and baked cheese dish for appetizers, both...good for the price.The one fish dish on the mains menu was sold out, so we ordered pasta, chicken and veal. All were good but nothing to rave about. Desserts were average. With more attention to side dishes, it could be a contender, given its central location.More'}\n"
     ]
    }
   ],
   "source": [
    "extract1()"
   ]
  },
  {
   "cell_type": "code",
   "execution_count": null,
   "metadata": {},
   "outputs": [],
   "source": [
    "def format_date(date:str) -> None:\n",
    "    months = {\n",
    "        'january':'01',\n",
    "        'february':'02',\n",
    "        'march':'03',\n",
    "        'april':'04',\n",
    "        'mai':'05',\n",
    "        'june':'06',\n",
    "        'july':'07',\n",
    "        'august':'08',\n",
    "        'september':'09',\n",
    "        'october':'10',\n",
    "        'november':'11',\n",
    "        'december':'12'\n",
    "    }\n",
    "    date_split = date.lower().split(' ')\n",
    "    return f\"{date_split[1]}/{months[date_split[0]]}/{date_split[2]}\""
   ]
  },
  {
   "cell_type": "code",
   "execution_count": 123,
   "metadata": {},
   "outputs": [
    {
     "data": {
      "text/plain": [
       "' August 28 2016'"
      ]
     },
     "execution_count": 123,
     "metadata": {},
     "output_type": "execute_result"
    }
   ],
   "source": [
    "\"Reviewed August 28, 2016\".replace('Reviewed', '').replace(',', '')"
   ]
  },
  {
   "cell_type": "code",
   "execution_count": 71,
   "metadata": {},
   "outputs": [],
   "source": [
    "def extract2():\n",
    "    reviews2 = soupe.find_all('div', {'class':'_c'})\n",
    "    data = []\n",
    "    for review in reviews2:\n",
    "        data.append({\n",
    "            'author' : review.find('a', {'class':'BMQDV _F Gv wSSLS SwZTJ FGwzt ukgoS'}).text,\n",
    "            'rating' : len(review.find('div', {'class':'kKMmV J k'}).find_all('path')),\n",
    "            'comment' : review.find('span', {'class':'JguWG'}).text,\n",
    "            'date': review.find('div', {'class':'biGQs _P pZUbB ncFvv osNWb'}).text.lower().replace('written ', '')\n",
    "        })\n",
    "        print({\n",
    "            'author' : review.find('a', {'class':'BMQDV _F Gv wSSLS SwZTJ FGwzt ukgoS'}).text,\n",
    "            'rating' : len(review.find('div', {'class':'kKMmV J k'}).find_all('path')),\n",
    "            'comment' : review.find('span', {'class':'JguWG'}).text,\n",
    "            'date': review.find('div', {'class':'biGQs _P pZUbB ncFvv osNWb'}).text.lower().replace('written ', '')\n",
    "        })\n"
   ]
  },
  {
   "cell_type": "code",
   "execution_count": 72,
   "metadata": {},
   "outputs": [
    {
     "name": "stdout",
     "output_type": "stream",
     "text": [
      "{'author': 'Alain V', 'rating': 5, 'comment': 'Relax lounge - type atmosphere, the food was very good,  the service excellent. A nice place for diner thanks also to the very friendly staff.'}\n",
      "{'author': 'Joolybaby', 'rating': 5, 'comment': 'Unlike most restaurants in Cap Ferret, these people are actually nice. Very friendly, very good service, good food and a an excellent all-round experience  - we went three times in two weeks.'}\n",
      "{'author': 'frobineau', 'rating': 5, 'comment': 'Stopped off for lunch. Quite relaxed whilst still art and great food. The tomatoes tasted amazing, the basil could be tasted, all great tasting food.\\n'}\n",
      "{'author': 'QueenGucci', 'rating': 5, 'comment': 'We had a great lunch when in town - Caesar Salad and Carpaccio- expensive but then everything in Cap Ferret is'}\n",
      "{'author': 'Irina O', 'rating': 5, 'comment': 'Just the choices one has on the menu , immediately told me before even tasting any thing  they prepared, THIS restaurant was first class! \\nAnd indeed it was. Attractively served, good portion size  with  great care with sauces and  quality of fish, meat and vegetables left us wishing we lived closer as we would be more than happy to be \"regulars. \"'}\n",
      "{'author': 'MadDocNI', 'rating': 5, 'comment': 'Nice bar/restaurant on main shopping strip in Cap Ferret. Friendly owner and staff.\\nServes relatively small menu, but what it does, it does well.\\nThe veal kidney stew was great, as were the grilled corn fed chicken and Plat du Jour of lamb. Great pâte too.\\nPretty busy for lunch, inside full, and only a few tables on the pavement.\\nTastefully and smartly laid out.\\nThoroughly recommended.'}\n",
      "{'author': 'Gilly H', 'rating': 5, 'comment': 'Simple, understated restaurant with the best tasting chicken I have eaten in a very long time. We arrived quite late on a Sunday night, without a reservation to an unexpectedly warm welcome, not the usual raised eyebrow and tap of the watch!! Charming waitresses were also efficient, small wine list but our wine was very good so we were happy. A few local diners and a group of young - would recommend.'}\n",
      "{'author': 'wayne k', 'rating': 5, 'comment': \"A fun youngish place that's open on Tuesday night. Good kidneys. The pate is a bit weird and spicy. The room  is cool and the crowd is local.\"}\n",
      "{'author': 'franco-americaine', 'rating': 5, 'comment': 'Looking for something new in Cap Ferret, we tried this place. It was full, so we had to wait for a table. Service was friendly and efficient. The decor is attractive and casual. We shared a fish terrine and baked cheese dish for appetizers, both good for the price.The one fish dish on the mains menu was sold out, so we ordered pasta, chicken and veal. All were good but nothing to rave about. Desserts were average. With more attention to side dishes, it could be a contender, given its central location.'}\n"
     ]
    }
   ],
   "source": [
    "extract2()"
   ]
  },
  {
   "cell_type": "code",
   "execution_count": 60,
   "metadata": {},
   "outputs": [
    {
     "data": {
      "text/plain": [
       "'Relax lounge - type atmosphere, the food was very good,  the service excellent. A nice place for diner thanks also to the very friendly staff.'"
      ]
     },
     "execution_count": 60,
     "metadata": {},
     "output_type": "execute_result"
    }
   ],
   "source": [
    "len(reviews2[0].find('div', {'class':'kKMmV J k'}).find_all('path'))\n",
    "reviews2[0].find('span', {'class':'JguWG'}).text"
   ]
  }
 ],
 "metadata": {
  "kernelspec": {
   "display_name": "Python 3",
   "language": "python",
   "name": "python3"
  },
  "language_info": {
   "codemirror_mode": {
    "name": "ipython",
    "version": 3
   },
   "file_extension": ".py",
   "mimetype": "text/x-python",
   "name": "python",
   "nbconvert_exporter": "python",
   "pygments_lexer": "ipython3",
   "version": "3.11.3"
  }
 },
 "nbformat": 4,
 "nbformat_minor": 2
}
