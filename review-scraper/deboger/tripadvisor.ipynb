{
 "cells": [
  {
   "cell_type": "code",
   "execution_count": 45,
   "metadata": {},
   "outputs": [],
   "source": [
    "from bs4 import BeautifulSoup\n",
    "from selenium import webdriver\n",
    "from selenium.webdriver.common.by import By\n",
    "from selenium.webdriver.common.keys import Keys\n",
    "from selenium.webdriver.support.ui import WebDriverWait\n",
    "from selenium.common.exceptions import ElementNotVisibleException, ElementNotSelectableException, NoSuchElementException\n",
    "from selenium.webdriver.support import expected_conditions as EC\n",
    "from webdriver_manager.chrome import ChromeDriverManager\n",
    "from selenium.webdriver.chrome.service import Service as ChromeService\n",
    "from webdriver_manager.firefox import GeckoDriverManager\n",
    "from selenium.webdriver.firefox.service import Service as FirefoxService\n",
    "from unidecode import unidecode\n",
    "from pathlib import Path\n",
    "from datetime import datetime, timedelta\n",
    "from lingua import Language, LanguageDetectorBuilder\n",
    "import pandas as pd\n",
    "import json\n",
    "import time"
   ]
  },
  {
   "cell_type": "code",
   "execution_count": 46,
   "metadata": {},
   "outputs": [],
   "source": [
    "chrome_options = webdriver.ChromeOptions()\n",
    "chrome_options.add_argument('disable-translate')\n",
    "chrome_options.add_argument('--lang=fr')\n",
    "chrome_options.add_argument('--ignore-certificate-errors')\n",
    "chrome_options.add_argument('--disable-gpu')\n",
    "chrome_options.add_argument('--disable-blink-features=AutomationControlled')\n",
    "chrome_options.add_extension(\"./canvas_blocker.crx\")"
   ]
  },
  {
   "cell_type": "code",
   "execution_count": 47,
   "metadata": {},
   "outputs": [],
   "source": [
    "url = \"https://www.tripadvisor.fr/Hotel_Review-g488104-d316747-Reviews-LUX_Grand_Gaube-Grand_Gaube.html\""
   ]
  },
  {
   "cell_type": "code",
   "execution_count": 48,
   "metadata": {},
   "outputs": [],
   "source": [
    "driver = webdriver.Chrome(options=chrome_options)"
   ]
  },
  {
   "cell_type": "code",
   "execution_count": 49,
   "metadata": {},
   "outputs": [],
   "source": [
    "driver.get(url)\n",
    "driver.get(url)"
   ]
  },
  {
   "cell_type": "code",
   "execution_count": null,
   "metadata": {},
   "outputs": [],
   "source": [
    "element = driver.find_element(By.XPATH, \"//div[@data-test-target='reviews-tab']\")\n",
    "driver.execute_script('arguments[0].scrollIntoView({ behavior: \"smooth\", block: \"center\", inline: \"center\" })', element)"
   ]
  },
  {
   "cell_type": "code",
   "execution_count": null,
   "metadata": {},
   "outputs": [],
   "source": [
    "driver.find_elements(By.XPATH, \"//div[@data-test-target='HR_CC_CARD']\")"
   ]
  },
  {
   "cell_type": "code",
   "execution_count": null,
   "metadata": {},
   "outputs": [],
   "source": [
    "div.IaVba.F1 title\n",
    "\n",
    "\ta.blnum"
   ]
  },
  {
   "cell_type": "code",
   "execution_count": null,
   "metadata": {},
   "outputs": [],
   "source": [
    "{\"_id\":\"tripadvisor\",\"startUrl\":[\"https://www.tripadvisor.fr/Hotel_Review-g488104-d316747-Reviews-LUX_Grand_Gaube-Grand_Gaube.html\"],\"selectors\":[{\"id\":\"reviews\",\"parentSelectors\":[\"_root\"],\"type\":\"SelectorElement\",\"selector\":\"div.azLzJ\",\"multiple\":true},{\"id\":\"author\",\"parentSelectors\":[\"reviews\"],\"type\":\"SelectorText\",\"selector\":\"a.blnum\",\"multiple\":false,\"regex\":\"\"},{\"id\":\"rating\",\"parentSelectors\":[\"reviews\"],\"type\":\"SelectorText\",\"selector\":\"div.IaVba.F1 title\",\"multiple\":false,\"regex\":\"\"},{\"id\":\"comment\",\"parentSelectors\":[\"reviews\"],\"type\":\"SelectorText\",\"selector\":\".orRIx span\",\"multiple\":false,\"regex\":\"\"},{\"id\":\"date\",\"parentSelectors\":[\"reviews\"],\"type\":\"SelectorText\",\"selector\":\"span.iSNGb\",\"multiple\":false,\"regex\":\"\"},{\"id\":\"scroll\",\"parentSelectors\":[\"_root\"],\"type\":\"SelectorElementScroll\",\"selector\":\"div.mXiGB\",\"multiple\":false,\"delay\":5000,\"elementLimit\":500},{\"id\":\"next\",\"parentSelectors\":[\"_root\",\"next\"],\"paginationType\":\"linkFromHref\",\"type\":\"SelectorPagination\",\"selector\":\"a.unMkR\"}]}"
   ]
  }
 ],
 "metadata": {
  "kernelspec": {
   "display_name": "Python 3",
   "language": "python",
   "name": "python3"
  },
  "language_info": {
   "codemirror_mode": {
    "name": "ipython",
    "version": 3
   },
   "file_extension": ".py",
   "mimetype": "text/x-python",
   "name": "python",
   "nbconvert_exporter": "python",
   "pygments_lexer": "ipython3",
   "version": "3.11.3"
  }
 },
 "nbformat": 4,
 "nbformat_minor": 2
}
