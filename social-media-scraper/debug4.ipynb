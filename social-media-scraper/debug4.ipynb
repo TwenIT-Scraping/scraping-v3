{
 "cells": [
  {
   "cell_type": "code",
   "execution_count": 1,
   "metadata": {},
   "outputs": [],
   "source": [
    "import pytesseract\n",
    "from PIL import Image\n",
    "import base64\n",
    "import io\n",
    "import json\n",
    "from unidecode import unidecode"
   ]
  },
  {
   "cell_type": "code",
   "execution_count": 2,
   "metadata": {},
   "outputs": [],
   "source": [
    "pytesseract.pytesseract.tesseract_cmd = \"C:/Program Files (x86)/pytesseract/tesseract.exe\""
   ]
  },
  {
   "cell_type": "code",
   "execution_count": 3,
   "metadata": {},
   "outputs": [],
   "source": [
    "from bs4 import BeautifulSoup\n",
    "from selenium import webdriver\n",
    "from selenium.webdriver.common.by import By\n",
    "from selenium.webdriver.common.keys import Keys\n",
    "from selenium.webdriver.support.ui import WebDriverWait\n",
    "from selenium.common.exceptions import ElementNotVisibleException, ElementNotSelectableException, NoSuchElementException\n",
    "from selenium.webdriver.support import expected_conditions as EC\n",
    "import time\n",
    "from random import randint\n",
    "from datetime import datetime, timedelta"
   ]
  },
  {
   "cell_type": "code",
   "execution_count": 4,
   "metadata": {},
   "outputs": [],
   "source": [
    "fb_page = [\n",
    "    {'id': 191, 'establishment_name': 'Degrif Sport Aix-les-Bains', 'establishment_id': 55, 'idprovider': 12, 'category': 'Social', 'source': 'Facebook', 'url': 'https://www.facebook.com/degrifsportaixlesbains', 'language': 'fr', 'last_review_date': None}, \n",
    "    {'id': 187, 'establishment_name': 'Mondovélo Chambéry', 'establishment_id': 54, 'idprovider': 12, 'category': 'Social', 'source': 'Facebook', 'url': 'https://www.facebook.com/mondovelochambery', 'language': 'fr', 'last_review_date': None}, \n",
    "    {'id': 172, 'establishment_name': 'Sport2000 France', 'establishment_id': 52, 'idprovider': 12, 'category': 'Social', 'source': 'Facebook', 'url': 'https://www.facebook.com/SPORT2000France', 'language': 'fr', 'last_review_date': None}, \n",
    "    {'id': 170, 'establishment_name': 'Sport2000 Chambéry', 'establishment_id': 51, 'idprovider': 12, 'category': 'Social', 'source': 'Facebook', 'url': 'https://www.facebook.com/sport2000chambery', 'language': 'fr', 'last_review_date': None}, \n",
    "    {'id': 160, 'establishment_name': 'Team Chambé', 'establishment_id': 49, 'idprovider': 12, 'category': 'Social', 'source': 'Facebook', 'url': 'https://www.facebook.com/TeamChambe', 'language': 'fr', 'last_review_date': None}, \n",
    "    {'id': 154, 'establishment_name': 'Domaine de Bonelli', 'establishment_id': 48, 'idprovider': 12, 'category': 'Social', 'source': 'Facebook', 'url': 'https://www.facebook.com/Domaine-de-Bonelli-100092850519521', 'language': 'fr', 'last_review_date': None}, \n",
    "    {'id': 151, 'establishment_name': 'Hôtel du Golfe Ajaccio', 'establishment_id': 47, 'idprovider': 12, 'category': 'Social', 'source': 'Facebook', 'url': 'https://www.facebook.com/hoteldugolfeaja', 'language': 'fr', 'last_review_date': None}, \n",
    "    {'id': 142, 'establishment_name': 'Dolce Notte', 'establishment_id': 46, 'idprovider': 12, 'category': 'Social', 'source': 'Facebook', 'url': 'https://www.facebook.com/hoteldolcenotte', 'language': 'fr', 'last_review_date': None}, \n",
    "    {'id': 128, 'establishment_name': \"Le Carre d'As\", 'establishment_id': 44, 'idprovider': 12, 'category': 'Social', 'source': 'Facebook', 'url': 'https://www.facebook.com/lecarredas73', 'language': 'fr', 'last_review_date': None}, \n",
    "    {'id': 103, 'establishment_name': 'Le Central', 'establishment_id': 29, 'idprovider': 12, 'category': 'Social', 'source': 'Facebook', 'url': 'https://www.facebook.com/lecentralcapferret', 'language': 'fr', 'last_review_date': None}, \n",
    "    {'id': 101, 'establishment_name': 'Le Château de Candie', 'establishment_id': 4, 'idprovider': 12, 'category': 'Social', 'source': 'Facebook', 'url': 'https://www.facebook.com/chateaucandie', 'language': 'fr', 'last_review_date': None}, \n",
    "    {'id': 87, 'establishment_name': 'Hotel Antequera Hills', 'establishment_id': 27, 'idprovider': 12, 'category': 'Social', 'source': 'Facebook', 'url': 'https://www.facebook.com/hotelantequerahills', 'language': 'es', 'last_review_date': None}, \n",
    "    {'id': 86, 'establishment_name': 'Hotel Chamartín The One', 'establishment_id': 28, 'idprovider': 12, 'category': 'Social', 'source': 'Facebook', 'url': 'https://www.facebook.com/ChamartinTheOne', 'language': 'es', 'last_review_date': None}, \n",
    "    {'id': 65, 'establishment_name': 'ESF Chamonix', 'establishment_id': 23, 'idprovider': 12, 'category': 'Social', 'source': 'Facebook', 'url': 'https://www.facebook.com/esfchamonix', 'language': 'fr', 'last_review_date': None}, \n",
    "    {'id': 58, 'establishment_name': 'Grand Hôtel des Alpes', 'establishment_id': 18, 'idprovider': 12, 'category': 'Social', 'source': 'Facebook', 'url': 'https://www.facebook.com/grandhoteldesalpes', 'language': 'fr', 'last_review_date': None}, \n",
    "    {'id': 40, 'establishment_name': 'Office de Tourisme de Chamonix-Mont-Blanc', 'establishment_id': 12, 'idprovider': 12, 'category': 'Social', 'source': 'Facebook', 'url': 'https://www.facebook.com/ChamonixMontBlanc', 'language': 'fr', 'last_review_date': None}, \n",
    "    {'id': 26, 'establishment_name': 'Nexties', 'establishment_id': 1, 'idprovider': 12, 'category': 'Social', 'source': 'Facebook', 'url': 'https://www.facebook.com/nexties.fr', 'language': 'fr', 'last_review_date': None},\n",
    "    {'id': 21, 'establishment_name': 'Madame Vacances', 'establishment_id': 7, 'idprovider': 12, 'category': 'Social', 'source': 'Facebook', 'url': 'https://www.facebook.com/MadameVacances', 'language': 'fr', 'last_review_date': None}, \n",
    "    {'id': 3, 'establishment_name': 'Le Lido', 'establishment_id': 5, 'idprovider': 12, 'category': 'Social', 'source': 'Facebook', 'url': 'https://www.facebook.com/lidolacdubourget', 'language': 'fr', 'last_review_date': None}\n",
    "]"
   ]
  },
  {
   "cell_type": "code",
   "execution_count": null,
   "metadata": {},
   "outputs": [],
   "source": [
    "[\n",
    "    {'id': 161, 'establishment_name': 'Team Chambé', 'establishment_id': 49, 'category': 'Social', 'source': 'Twitter (X)', 'url': 'https://twitter.com/TeamChambe', 'language': 'fr', 'last_review_date': None}, \n",
    "    {'id': 127, 'establishment_name': 'Hotel Chamartín The One', 'establishment_id': 28, 'category': 'Social', 'source': 'Twitter (X)', 'url': 'https://twitter.com/ChamartinTheOne', 'language': 'es', 'last_review_date': None}, \n",
    "    {'id': 99, 'establishment_name': 'Le Château de Candie', 'establishment_id': 4, 'category': 'Social', 'source': 'Twitter (X)', 'url': 'https://twitter.com/chateaudecandie', 'language': 'fr', 'last_review_date': None}, \n",
    "    {'id': 91, 'establishment_name': 'Hotel Chamartín The One', 'establishment_id': 28, 'category': 'Social', 'source': 'Twitter (X)', 'url': 'https://twitter.com/ChamartinTheOne', 'language': 'es', 'last_review_date': None}, \n",
    "    {'id': 66, 'establishment_name': 'ESF Chamonix', 'establishment_id': 23, 'category': 'Social', 'source': 'Twitter (X)', 'url': 'https://twitter.com/chamonixesf', 'language': 'fr', 'last_review_date': None}, \n",
    "    {'id': 41, 'establishment_name': 'Office de Tourisme de Chamonix-Mont-Blanc', 'establishment_id': 12, 'category': 'Social', 'source': 'Twitter (X)', 'url': 'https://twitter.com/Chamonix_France', 'language': 'fr', 'last_review_date': None}, \n",
    "    {'id': 28, 'establishment_name': 'Nexties', 'establishment_id': 1, 'category': 'Social', 'source': 'Twitter (X)', 'url': 'https://twitter.com/nexties_', 'language': 'fr', 'last_review_date': None}, \n",
    "    {'id': 22, 'establishment_name': 'Madame Vacances', 'establishment_id': 7, 'category': 'Social', 'source': 'Twitter (X)', 'url': 'https://twitter.com/Madame_Vacances', 'language': 'fr', 'last_review_date': None}\n",
    "]"
   ]
  },
  {
   "cell_type": "code",
   "execution_count": 6,
   "metadata": {},
   "outputs": [],
   "source": [
    "chrome_options = webdriver.ChromeOptions()\n",
    "chrome_options.add_argument('disable-translate')\n",
    "chrome_options.add_argument('--lang=fr')"
   ]
  },
  {
   "cell_type": "code",
   "execution_count": 7,
   "metadata": {},
   "outputs": [],
   "source": [
    "credentials = {\n",
    "    \"username\": \"\",\n",
    "    \"phone\":\"\",\n",
    "    \"password\":\"\"\n",
    "}"
   ]
  },
  {
   "cell_type": "code",
   "execution_count": 8,
   "metadata": {},
   "outputs": [],
   "source": [
    "driver = webdriver.Chrome(options=chrome_options)"
   ]
  },
  {
   "cell_type": "code",
   "execution_count": 9,
   "metadata": {},
   "outputs": [
    {
     "data": {
      "text/plain": [
       "<selenium.webdriver.support.wait.WebDriverWait (session=\"bb2a136516e944398b9ea56dfdd78cd1\")>"
      ]
     },
     "execution_count": 9,
     "metadata": {},
     "output_type": "execute_result"
    }
   ],
   "source": [
    "driver.maximize_window()\n",
    "driver.get(\"https://facebook.com/\")\n",
    "WebDriverWait(driver, 10000)"
   ]
  },
  {
   "cell_type": "code",
   "execution_count": 10,
   "metadata": {},
   "outputs": [],
   "source": [
    "def login():\n",
    "    time.sleep(randint(1, 3))\n",
    "    username_input = driver.find_element(By.XPATH, \"//input[@data-testid='royal_email']\")\n",
    "    password_input = driver.find_element(By.XPATH, \"//input[@data-testid='royal_pass']\")\n",
    "    btn_login = driver.find_element(By.XPATH, \"//button[@data-testid='royal_login_button']\")\n",
    "    username_input.click()\n",
    "    time.sleep(randint(1, 3))\n",
    "    username_input.send_keys(credentials['phone'])\n",
    "    time.sleep(randint(1, 3))\n",
    "    password_input.click()\n",
    "    time.sleep(randint(1, 3))\n",
    "    password_input.send_keys(credentials['password'])\n",
    "    time.sleep(randint(1, 3))\n",
    "    btn_login.click()\n",
    "    WebDriverWait(driver, 8000)"
   ]
  },
  {
   "cell_type": "code",
   "execution_count": 11,
   "metadata": {},
   "outputs": [],
   "source": [
    "login()"
   ]
  },
  {
   "cell_type": "code",
   "execution_count": 13,
   "metadata": {},
   "outputs": [],
   "source": [
    "driver.get(fb_page[-1]['url'])"
   ]
  },
  {
   "cell_type": "code",
   "execution_count": 18,
   "metadata": {},
   "outputs": [],
   "source": [
    "post_container = driver.find_element(By.CSS_SELECTOR, \"div.x9f619.x1n2onr6.x1ja2u2z.xeuugli.xs83m0k.x1xmf6yo.x1emribx.x1e56ztr.x1i64zmx.xjl7jj.x19h7ccj.xu9j1y6.x7ep2pv\")"
   ]
  },
  {
   "cell_type": "code",
   "execution_count": 41,
   "metadata": {},
   "outputs": [
    {
     "ename": "NoSuchWindowException",
     "evalue": "Message: no such window: target window already closed\nfrom unknown error: web view not found\n  (Session info: chrome=124.0.6367.210)\nStacktrace:\n\tGetHandleVerifier [0x00007FF6A3631522+60802]\n\t(No symbol) [0x00007FF6A35AAC22]\n\t(No symbol) [0x00007FF6A3467CE4]\n\t(No symbol) [0x00007FF6A343DFDF]\n\t(No symbol) [0x00007FF6A34E1E57]\n\t(No symbol) [0x00007FF6A34F98D1]\n\t(No symbol) [0x00007FF6A34DA923]\n\t(No symbol) [0x00007FF6A34A8FEC]\n\t(No symbol) [0x00007FF6A34A9C21]\n\tGetHandleVerifier [0x00007FF6A39341BD+3217949]\n\tGetHandleVerifier [0x00007FF6A3976157+3488183]\n\tGetHandleVerifier [0x00007FF6A396F0DF+3459391]\n\tGetHandleVerifier [0x00007FF6A36EB8E6+823622]\n\t(No symbol) [0x00007FF6A35B5FBF]\n\t(No symbol) [0x00007FF6A35B0EE4]\n\t(No symbol) [0x00007FF6A35B1072]\n\t(No symbol) [0x00007FF6A35A18C4]\n\tBaseThreadInitThunk [0x00007FF9287C53E0+16]\n\tRtlUserThreadStart [0x00007FF928A6485B+43]\n",
     "output_type": "error",
     "traceback": [
      "\u001b[1;31m---------------------------------------------------------------------------\u001b[0m",
      "\u001b[1;31mNoSuchWindowException\u001b[0m                     Traceback (most recent call last)",
      "Cell \u001b[1;32mIn[41], line 1\u001b[0m\n\u001b[1;32m----> 1\u001b[0m image_date \u001b[38;5;241m=\u001b[39m \u001b[43mpost_container\u001b[49m\u001b[38;5;241;43m.\u001b[39;49m\u001b[43mfind_element\u001b[49m\u001b[43m(\u001b[49m\u001b[43mBy\u001b[49m\u001b[38;5;241;43m.\u001b[39;49m\u001b[43mCSS_SELECTOR\u001b[49m\u001b[43m,\u001b[49m\u001b[43m \u001b[49m\u001b[38;5;124;43m\"\u001b[39;49m\u001b[38;5;124;43mdiv.x1ey2m1c.xds687c.x17qophe.xg01cxk.x47corl.x10l6tqk.x13vifvy.x1ebt8du.x19991ni.x1dhq9h.xzolkzo.x12go9s9.x1rnf11y.xprq8jg\u001b[39;49m\u001b[38;5;124;43m\"\u001b[39;49m\u001b[43m)\u001b[49m\u001b[38;5;241m.\u001b[39mclick()\n",
      "File \u001b[1;32mc:\\Users\\Keller\\AppData\\Local\\Programs\\Python\\Python311\\Lib\\site-packages\\selenium\\webdriver\\remote\\webelement.py:417\u001b[0m, in \u001b[0;36mWebElement.find_element\u001b[1;34m(self, by, value)\u001b[0m\n\u001b[0;32m    414\u001b[0m     by \u001b[38;5;241m=\u001b[39m By\u001b[38;5;241m.\u001b[39mCSS_SELECTOR\n\u001b[0;32m    415\u001b[0m     value \u001b[38;5;241m=\u001b[39m \u001b[38;5;124mf\u001b[39m\u001b[38;5;124m'\u001b[39m\u001b[38;5;124m[name=\u001b[39m\u001b[38;5;124m\"\u001b[39m\u001b[38;5;132;01m{\u001b[39;00mvalue\u001b[38;5;132;01m}\u001b[39;00m\u001b[38;5;124m\"\u001b[39m\u001b[38;5;124m]\u001b[39m\u001b[38;5;124m'\u001b[39m\n\u001b[1;32m--> 417\u001b[0m \u001b[38;5;28;01mreturn\u001b[39;00m \u001b[38;5;28;43mself\u001b[39;49m\u001b[38;5;241;43m.\u001b[39;49m\u001b[43m_execute\u001b[49m\u001b[43m(\u001b[49m\u001b[43mCommand\u001b[49m\u001b[38;5;241;43m.\u001b[39;49m\u001b[43mFIND_CHILD_ELEMENT\u001b[49m\u001b[43m,\u001b[49m\u001b[43m \u001b[49m\u001b[43m{\u001b[49m\u001b[38;5;124;43m\"\u001b[39;49m\u001b[38;5;124;43musing\u001b[39;49m\u001b[38;5;124;43m\"\u001b[39;49m\u001b[43m:\u001b[49m\u001b[43m \u001b[49m\u001b[43mby\u001b[49m\u001b[43m,\u001b[49m\u001b[43m \u001b[49m\u001b[38;5;124;43m\"\u001b[39;49m\u001b[38;5;124;43mvalue\u001b[39;49m\u001b[38;5;124;43m\"\u001b[39;49m\u001b[43m:\u001b[49m\u001b[43m \u001b[49m\u001b[43mvalue\u001b[49m\u001b[43m}\u001b[49m\u001b[43m)\u001b[49m[\u001b[38;5;124m\"\u001b[39m\u001b[38;5;124mvalue\u001b[39m\u001b[38;5;124m\"\u001b[39m]\n",
      "File \u001b[1;32mc:\\Users\\Keller\\AppData\\Local\\Programs\\Python\\Python311\\Lib\\site-packages\\selenium\\webdriver\\remote\\webelement.py:395\u001b[0m, in \u001b[0;36mWebElement._execute\u001b[1;34m(self, command, params)\u001b[0m\n\u001b[0;32m    393\u001b[0m     params \u001b[38;5;241m=\u001b[39m {}\n\u001b[0;32m    394\u001b[0m params[\u001b[38;5;124m\"\u001b[39m\u001b[38;5;124mid\u001b[39m\u001b[38;5;124m\"\u001b[39m] \u001b[38;5;241m=\u001b[39m \u001b[38;5;28mself\u001b[39m\u001b[38;5;241m.\u001b[39m_id\n\u001b[1;32m--> 395\u001b[0m \u001b[38;5;28;01mreturn\u001b[39;00m \u001b[38;5;28;43mself\u001b[39;49m\u001b[38;5;241;43m.\u001b[39;49m\u001b[43m_parent\u001b[49m\u001b[38;5;241;43m.\u001b[39;49m\u001b[43mexecute\u001b[49m\u001b[43m(\u001b[49m\u001b[43mcommand\u001b[49m\u001b[43m,\u001b[49m\u001b[43m \u001b[49m\u001b[43mparams\u001b[49m\u001b[43m)\u001b[49m\n",
      "File \u001b[1;32mc:\\Users\\Keller\\AppData\\Local\\Programs\\Python\\Python311\\Lib\\site-packages\\selenium\\webdriver\\remote\\webdriver.py:347\u001b[0m, in \u001b[0;36mWebDriver.execute\u001b[1;34m(self, driver_command, params)\u001b[0m\n\u001b[0;32m    345\u001b[0m response \u001b[38;5;241m=\u001b[39m \u001b[38;5;28mself\u001b[39m\u001b[38;5;241m.\u001b[39mcommand_executor\u001b[38;5;241m.\u001b[39mexecute(driver_command, params)\n\u001b[0;32m    346\u001b[0m \u001b[38;5;28;01mif\u001b[39;00m response:\n\u001b[1;32m--> 347\u001b[0m     \u001b[38;5;28;43mself\u001b[39;49m\u001b[38;5;241;43m.\u001b[39;49m\u001b[43merror_handler\u001b[49m\u001b[38;5;241;43m.\u001b[39;49m\u001b[43mcheck_response\u001b[49m\u001b[43m(\u001b[49m\u001b[43mresponse\u001b[49m\u001b[43m)\u001b[49m\n\u001b[0;32m    348\u001b[0m     response[\u001b[38;5;124m\"\u001b[39m\u001b[38;5;124mvalue\u001b[39m\u001b[38;5;124m\"\u001b[39m] \u001b[38;5;241m=\u001b[39m \u001b[38;5;28mself\u001b[39m\u001b[38;5;241m.\u001b[39m_unwrap_value(response\u001b[38;5;241m.\u001b[39mget(\u001b[38;5;124m\"\u001b[39m\u001b[38;5;124mvalue\u001b[39m\u001b[38;5;124m\"\u001b[39m, \u001b[38;5;28;01mNone\u001b[39;00m))\n\u001b[0;32m    349\u001b[0m     \u001b[38;5;28;01mreturn\u001b[39;00m response\n",
      "File \u001b[1;32mc:\\Users\\Keller\\AppData\\Local\\Programs\\Python\\Python311\\Lib\\site-packages\\selenium\\webdriver\\remote\\errorhandler.py:229\u001b[0m, in \u001b[0;36mErrorHandler.check_response\u001b[1;34m(self, response)\u001b[0m\n\u001b[0;32m    227\u001b[0m         alert_text \u001b[38;5;241m=\u001b[39m value[\u001b[38;5;124m\"\u001b[39m\u001b[38;5;124malert\u001b[39m\u001b[38;5;124m\"\u001b[39m]\u001b[38;5;241m.\u001b[39mget(\u001b[38;5;124m\"\u001b[39m\u001b[38;5;124mtext\u001b[39m\u001b[38;5;124m\"\u001b[39m)\n\u001b[0;32m    228\u001b[0m     \u001b[38;5;28;01mraise\u001b[39;00m exception_class(message, screen, stacktrace, alert_text)  \u001b[38;5;66;03m# type: ignore[call-arg]  # mypy is not smart enough here\u001b[39;00m\n\u001b[1;32m--> 229\u001b[0m \u001b[38;5;28;01mraise\u001b[39;00m exception_class(message, screen, stacktrace)\n",
      "\u001b[1;31mNoSuchWindowException\u001b[0m: Message: no such window: target window already closed\nfrom unknown error: web view not found\n  (Session info: chrome=124.0.6367.210)\nStacktrace:\n\tGetHandleVerifier [0x00007FF6A3631522+60802]\n\t(No symbol) [0x00007FF6A35AAC22]\n\t(No symbol) [0x00007FF6A3467CE4]\n\t(No symbol) [0x00007FF6A343DFDF]\n\t(No symbol) [0x00007FF6A34E1E57]\n\t(No symbol) [0x00007FF6A34F98D1]\n\t(No symbol) [0x00007FF6A34DA923]\n\t(No symbol) [0x00007FF6A34A8FEC]\n\t(No symbol) [0x00007FF6A34A9C21]\n\tGetHandleVerifier [0x00007FF6A39341BD+3217949]\n\tGetHandleVerifier [0x00007FF6A3976157+3488183]\n\tGetHandleVerifier [0x00007FF6A396F0DF+3459391]\n\tGetHandleVerifier [0x00007FF6A36EB8E6+823622]\n\t(No symbol) [0x00007FF6A35B5FBF]\n\t(No symbol) [0x00007FF6A35B0EE4]\n\t(No symbol) [0x00007FF6A35B1072]\n\t(No symbol) [0x00007FF6A35A18C4]\n\tBaseThreadInitThunk [0x00007FF9287C53E0+16]\n\tRtlUserThreadStart [0x00007FF928A6485B+43]\n"
     ]
    }
   ],
   "source": [
    "post_container.find_element(By.CSS_SELECTOR, \"div.x1ey2m1c.xds687c.x17qophe.xg01cxk.x47corl.x10l6tqk.x13vifvy.x1ebt8du.x19991ni.x1dhq9h.xzolkzo.x12go9s9.x1rnf11y.xprq8jg\").click()"
   ]
  },
  {
   "cell_type": "code",
   "execution_count": 226,
   "metadata": {},
   "outputs": [],
   "source": [
    "time.sleep(20)"
   ]
  },
  {
   "cell_type": "code",
   "execution_count": 227,
   "metadata": {},
   "outputs": [],
   "source": [
    "detail_links = []\n",
    "last_date = \"\""
   ]
  },
  {
   "cell_type": "code",
   "execution_count": 239,
   "metadata": {},
   "outputs": [
    {
     "data": {
      "text/plain": [
       "'Dencembre 1'"
      ]
     },
     "execution_count": 239,
     "metadata": {},
     "output_type": "execute_result"
    }
   ],
   "source": [
    "'Dencembre 12'[:-1]"
   ]
  },
  {
   "cell_type": "code",
   "execution_count": 240,
   "metadata": {},
   "outputs": [],
   "source": [
    "def fomate_date(date:str) -> str:\n",
    "    if ' at' in date:\n",
    "        date = date.split(' at')[0]\n",
    "    date = date.split('-')[0]\n",
    "    if date[-1] == ' ':\n",
    "        date = date[:-1]\n",
    "    i = 0\n",
    "    for l in date:\n",
    "        if l.isdigit() and date[i - 1] != ' ':\n",
    "            date_list = list(date)\n",
    "            date_list.insert(i, ' ')\n",
    "            date = ''.join(date_list)\n",
    "            break\n",
    "        i += 1\n",
    "            \n",
    "    if len(date.split(' ')) <= 2:\n",
    "        date += f\" {datetime.now().year}\"\n",
    "        date = datetime.strptime(date, \"%B %d %Y\")\n",
    "        print(date)\n",
    "        return date\n",
    "    elif len(date.split(' ')) > 2 and ',' in date:\n",
    "        date = date[0: date.index(',') + 6].replace(',' , '')\n",
    "        print(date)\n",
    "        return datetime.strptime(date, \"%B %d %Y\")\n",
    "    # elif 'da'\n",
    "    "
   ]
  },
  {
   "cell_type": "code",
   "execution_count": 229,
   "metadata": {},
   "outputs": [],
   "source": [
    "def get_all_detail_links():\n",
    "    global detail_links\n",
    "    links = driver.find_elements(By.TAG_NAME, 'a')\n",
    "    for link in links:\n",
    "        try:\n",
    "            ak = link.get_attribute('href')\n",
    "            if '/posts/' in ak and ak not in detail_links:\n",
    "                detail_links.append(ak)\n",
    "        except:\n",
    "            pass"
   ]
  },
  {
   "cell_type": "code",
   "execution_count": 230,
   "metadata": {},
   "outputs": [
    {
     "data": {
      "text/plain": [
       "'https://www.facebook.com/privacy/policy/?entry_point=comet_dropdown'"
      ]
     },
     "execution_count": 230,
     "metadata": {},
     "output_type": "execute_result"
    }
   ],
   "source": [
    "driver.find_elements(By.CSS_SELECTOR, 'a.x1i10hfl.xjbqb8w.x1ejq31n.xd10rxx.x1sy0etr.x17r0tee.x972fbf.xcfux6l.x1qhh985.xm0m39n.x9f619.x1ypdohk.xt0psk2.xe8uvvx.xdj266r.x11i5rnm.xat24cr.x1mh8g0r.xexx8yu.x4uap5.x18d9i69.xkhd6sd.x16tdsg8.x1hl2dhg.xggy1nq.x1a2a7pz.x1sur9pj.xkrqix3.xi81zsa.xo1l8bm')[0].get_attribute('href')"
   ]
  },
  {
   "cell_type": "code",
   "execution_count": 231,
   "metadata": {},
   "outputs": [],
   "source": [
    "links = []"
   ]
  },
  {
   "cell_type": "markdown",
   "metadata": {},
   "source": [
    "current_height = driver.execute_script('return window.innerHeight;')"
   ]
  },
  {
   "cell_type": "code",
   "execution_count": null,
   "metadata": {},
   "outputs": [],
   "source": [
    "post_loaded = False\n",
    "while not post_loaded:\n",
    "    post_container = driver.find_element(By.CSS_SELECTOR, \"div.x9f619.x1n2onr6.x1ja2u2z.xeuugli.xs83m0k.x1xmf6yo.x1emribx.x1e56ztr.x1i64zmx.xjl7jj.x19h7ccj.xu9j1y6.x7ep2pv\")\n",
    "    dates_link = post_container.find_elements(By.CSS_SELECTOR, \"span.x193iq5w.xeuugli.x13faqbe.x1vvkbs.x1xmvt09.x1lliihq.x1s928wv.xhkezso.x1gmr53x.x1cpjm7i.x1fgarty.x1943h6x.x4zkp8e.x676frb.x1pg5gke.x1sibtaa.xo1l8bm.xi81zsa.x1yc453h\")\n",
    "    if dates_link:\n",
    "        dates_link[-1].find_element(By.CSS_SELECTOR, 'span.x4k7w5x.x1h91t0o.x1h9r5lt.x1jfb8zj.xv2umb2.x1beo9mf.xaigb6o.x12ejxvf.x3igimt.xarpa2k.xedcshv.x1lytzrv.x1t2pt76.x7ja8zs.x1qrby5j').location_once_scrolled_into_view\n",
    "        driver.find_element(By.TAG_NAME, 'body').send_keys(Keys.PAGE_UP)\n",
    "        time.sleep(2)\n",
    "        last_date = pytesseract.image_to_string(Image.open(io.BytesIO(dates_link[-1].screenshot_as_png))).replace('\\n', '')\n",
    "        print(last_date)\n",
    "        last_date = fomate_date(last_date)\n",
    "        if last_date < (datetime.now() - timedelta(days=365)):\n",
    "            get_all_detail_links()\n",
    "            post_loaded = True\n",
    "        else:\n",
    "            pass\n",
    "    else:\n",
    "        print('no post found or detail link selector changed')\n",
    "    \n",
    "    get_all_detail_links()\n",
    "\n",
    "    for i in range(3):\n",
    "        driver.find_element(By.TAG_NAME, 'body').send_keys(Keys.PAGE_UP)\n",
    "        get_all_detail_links()\n",
    "        time.sleep(2)\n"
   ]
  },
  {
   "cell_type": "code",
   "execution_count": null,
   "metadata": {},
   "outputs": [],
   "source": [
    "date = \"April8\"\n",
    "i = 0\n",
    "for l in date:\n",
    "    print(l)\n",
    "    if l.isdigit() and date[i - 1] != ' ':\n",
    "        date_list = list(date)\n",
    "        date_list.insert(i, ' ')\n",
    "        date = ''.join(date_list)\n",
    "        break\n",
    "    i += 1\n",
    "date"
   ]
  },
  {
   "cell_type": "code",
   "execution_count": null,
   "metadata": {},
   "outputs": [],
   "source": [
    "detail_links"
   ]
  },
  {
   "cell_type": "code",
   "execution_count": null,
   "metadata": {},
   "outputs": [
    {
     "name": "stdout",
     "output_type": "stream",
     "text": [
      "5\n"
     ]
    }
   ],
   "source": [
    "get_all_detail_links()"
   ]
  },
  {
   "cell_type": "code",
   "execution_count": null,
   "metadata": {},
   "outputs": [
    {
     "data": {
      "text/plain": [
       "datetime.datetime(2023, 5, 24, 19, 28, 7, 466276)"
      ]
     },
     "execution_count": 117,
     "metadata": {},
     "output_type": "execute_result"
    }
   ],
   "source": [
    "datetime.now() - timedelta(days=365)"
   ]
  },
  {
   "cell_type": "code",
   "execution_count": null,
   "metadata": {},
   "outputs": [
    {
     "data": {
      "text/plain": [
       "0"
      ]
     },
     "execution_count": 118,
     "metadata": {},
     "output_type": "execute_result"
    }
   ],
   "source": [
    "len(detail_links)\n"
   ]
  },
  {
   "cell_type": "code",
   "execution_count": null,
   "metadata": {},
   "outputs": [],
   "source": [
    "soupe = BeautifulSoup(driver.page_source, 'lxml')"
   ]
  },
  {
   "cell_type": "code",
   "execution_count": null,
   "metadata": {},
   "outputs": [],
   "source": [
    "header = soupe.find('div', {'class':'x78zum5 x15sbx0n x5oxk1f x1jxijyj xym1h4x xuy2c7u x1ltux0g xc9uqle'})"
   ]
  },
  {
   "cell_type": "code",
   "execution_count": null,
   "metadata": {},
   "outputs": [],
   "source": [
    "name = header.find('h1', {'class':'html-h1 xe8uvvx xdj266r x11i5rnm xat24cr x1mh8g0r xexx8yu x4uap5 x18d9i69 xkhd6sd x1vvkbs x1heor9g x1qlqyl8 x1pd3egz x1a2a7pz'}).text.replace('\\xa0', '')"
   ]
  },
  {
   "cell_type": "code",
   "execution_count": null,
   "metadata": {},
   "outputs": [],
   "source": [
    "followers_likes = header.find_all('a', {'class':'x1i10hfl xjbqb8w x1ejq31n xd10rxx x1sy0etr x17r0tee x972fbf xcfux6l x1qhh985 xm0m39n x9f619 x1ypdohk xt0psk2 xe8uvvx xdj266r x11i5rnm xat24cr x1mh8g0r xexx8yu x4uap5 x18d9i69 xkhd6sd x16tdsg8 x1hl2dhg xggy1nq x1a2a7pz x1sur9pj xkrqix3 xi81zsa x1s688f'})"
   ]
  },
  {
   "cell_type": "code",
   "execution_count": null,
   "metadata": {},
   "outputs": [
    {
     "data": {
      "text/plain": [
       "2"
      ]
     },
     "execution_count": 99,
     "metadata": {},
     "output_type": "execute_result"
    }
   ],
   "source": [
    "len(followers_likes)"
   ]
  },
  {
   "cell_type": "code",
   "execution_count": null,
   "metadata": {},
   "outputs": [],
   "source": [
    "likes = followers_likes[0].text.replace(' likes', '').replace('K', \"000\").replace('.', '')"
   ]
  },
  {
   "cell_type": "code",
   "execution_count": null,
   "metadata": {},
   "outputs": [],
   "source": [
    "followers = followers_likes[1].text.replace(' followers', '').replace('K', \"000\").replace('.', '')"
   ]
  },
  {
   "cell_type": "code",
   "execution_count": null,
   "metadata": {},
   "outputs": [],
   "source": [
    "page_data = {\n",
    "    'created_at': datetime.now().strftime('%d_%m_%Y'),\n",
    "    'name': name,\n",
    "    'likes': int(likes), \n",
    "    'followers': int(followers),\n",
    "    'posts_count': len(detail_links),\n",
    "    'posts_links': detail_links\n",
    "}"
   ]
  },
  {
   "cell_type": "code",
   "execution_count": null,
   "metadata": {},
   "outputs": [],
   "source": [
    "page_data"
   ]
  },
  {
   "cell_type": "code",
   "execution_count": null,
   "metadata": {},
   "outputs": [],
   "source": [
    "def save_file():\n",
    "    with open(f\"{unidecode(page_data['name']).replace(' ', '_')}.json\", 'w') as openfile:\n",
    "        openfile.write(json.dumps(page_data, indent=4))"
   ]
  },
  {
   "cell_type": "code",
   "execution_count": null,
   "metadata": {},
   "outputs": [],
   "source": [
    "save_file()"
   ]
  }
 ],
 "metadata": {
  "kernelspec": {
   "display_name": "Python 3",
   "language": "python",
   "name": "python3"
  },
  "language_info": {
   "codemirror_mode": {
    "name": "ipython",
    "version": 3
   },
   "file_extension": ".py",
   "mimetype": "text/x-python",
   "name": "python",
   "nbconvert_exporter": "python",
   "pygments_lexer": "ipython3",
   "version": "3.11.3"
  }
 },
 "nbformat": 4,
 "nbformat_minor": 2
}
