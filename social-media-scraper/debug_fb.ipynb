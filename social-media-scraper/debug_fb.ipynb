{
    "cells": [
        {
            "cell_type": "code",
            "execution_count": 27,
            "metadata": {},
            "outputs": [],
            "source": [
                "from datetime import datetime\n",
                "from bs4 import BeautifulSoup\n",
                "from selenium import webdriver\n",
                "from selenium.webdriver.common.by import By\n",
                "from selenium.webdriver.support import expected_conditions as EC\n",
                "from webdriver_manager.chrome import ChromeDriverManager\n",
                "from webdriver_manager.firefox import GeckoDriverManager\n",
                "from selenium.webdriver.chrome.service import Service as ChromeService\n",
                "from selenium.webdriver.firefox.service import Service as FirefoxService\n",
                "from selenium.webdriver.support import expected_conditions as EC\n",
                "from selenium.webdriver.support.wait import WebDriverWait\n",
                "from selenium.webdriver.common.keys import Keys\n",
                "import pandas as pd\n",
                "import time"
            ]
        },
        {
            "cell_type": "code",
            "execution_count": 28,
            "metadata": {},
            "outputs": [],
            "source": [
                "firefox_options = webdriver.ChromeOptions()\n",
                "firefox_options.add_argument('--ignore-certificate-errors')\n",
                "firefox_options.add_argument('--disable-gpu')\n",
                "firefox_options.add_argument(\n",
                "    '--disable-blink-features=AutomationControlled')\n",
                "firefox_options.add_argument('--incognito')\n",
                "# chrome_options.add_argument('--headless')\n",
                "\n",
                "driver = webdriver.Chrome(options=firefox_options)\n",
                "driver.maximize_window()"
            ]
        },
        {
            "cell_type": "code",
            "execution_count": 29,
            "metadata": {},
            "outputs": [],
            "source": [
                "url = \"https://www.facebook.com/\"\n",
                "url1 = \"https://www.facebook.com/TheRoxyHotelNYC\""
            ]
        },
        {
            "cell_type": "code",
            "execution_count": 37,
            "metadata": {},
            "outputs": [],
            "source": [
                "driver.get(url)"
            ]
        },
        {
            "cell_type": "code",
            "execution_count": 31,
            "metadata": {},
            "outputs": [],
            "source": [
                "credentials = {\n",
                "            'email': '',\n",
                "            'password': 'keller#pass',\n",
                "            'phone_number': '0345861628'\n",
                "        }"
            ]
        },
        {
            "cell_type": "code",
            "execution_count": 32,
            "metadata": {},
            "outputs": [],
            "source": [
                "email_element = driver.find_element(By.ID, \"email\")\n",
                "email_element.click()\n",
                "time.sleep(.5)\n",
                "email_element.send_keys(credentials['phone_number'])\n",
                "time.sleep(.3)\n",
                "password_element = driver.find_element(By.ID, \"pass\")\n",
                "password_element.click()\n",
                "time.sleep(.2)\n",
                "password_element.send_keys(credentials['password'])\n",
                "time.sleep(.1)\n",
                "driver.find_element(By.XPATH, \"//button[@type='submit']\").click()"
            ]
        },
        {
            "cell_type": "code",
            "execution_count": 38,
            "metadata": {},
            "outputs": [],
            "source": [
                "driver.get(url1)"
            ]
        },
        {
            "cell_type": "code",
            "execution_count": 34,
            "metadata": {},
            "outputs": [],
            "source": [
                "page = driver.find_element(By.TAG_NAME, 'body')\n",
                "for i in range(5):\n",
                "    for k in range(5):\n",
                "        page.send_keys(Keys.PAGE_DOWN)\n",
                "    time.sleep(3)"
            ]
        },
        {
            "cell_type": "code",
            "execution_count": 35,
            "metadata": {},
            "outputs": [],
            "source": [
                "soupe = BeautifulSoup(driver.page_source, 'lxml')"
            ]
        },
        {
            "cell_type": "code",
            "execution_count": 41,
            "metadata": {},
            "outputs": [
                {
                    "data": {
                        "text/plain": [
                            "'o\\np\\nt\\nd\\nn\\ne\\nS\\no\\ns\\nr\\n7\\na\\n1\\n3\\nu\\n l\\nO\\n1\\n6\\n0\\nc\\nl\\ni\\n2\\nu\\n A\\no\\nb\\nt\\n3\\n1\\n8\\ni\\n:\\n7\\n7\\n1\\na\\n5\\n m\\nt\\ne\\n4\\n0\\nh\\nM\\n5\\n1\\nr\\n1\\n7\\nt\\n 7\\n8\\nu\\nc\\n  ·'"
                        ]
                    },
                    "execution_count": 41,
                    "metadata": {},
                    "output_type": "execute_result"
                }
            ],
            "source": [
                "driver.find_element(By.ID, ':Rlataul9l9aqqd9emhpapd5aqH1:').text"
            ]
        },
        {
            "cell_type": "code",
            "execution_count": 40,
            "metadata": {},
            "outputs": [
                {
                    "data": {
                        "text/plain": [
                            "[<selenium.webdriver.remote.webelement.WebElement (session=\"a04091eac93cdb270ae05284c7d8b0be\", element=\"612B248AD5C3A116EE43FF0F6B4B00F1_element_1331\")>]"
                        ]
                    },
                    "execution_count": 40,
                    "metadata": {},
                    "output_type": "execute_result"
                }
            ],
            "source": [
                "x"
            ]
        },
        {
            "cell_type": "code",
            "execution_count": null,
            "metadata": {},
            "outputs": [],
            "source": [
                "page_name = soupe.find('div', {'class':\"x1e56ztr x1xmf6yo\"}).text\n",
                "page_likes = soupe.find_all('a', {'class':\"x1i10hfl xjbqb8w x6umtig x1b1mbwd xaqea5y xav7gou x9f619 x1ypdohk xt0psk2 xe8uvvx xdj266r x11i5rnm xat24cr x1mh8g0r xexx8yu x4uap5 x18d9i69 xkhd6sd x16tdsg8 x1hl2dhg xggy1nq x1a2a7pz xt0b8zv xi81zsa x1s688f\"})[0].text.split(' ')[0].replace('K', '000').replace('M', '000000')\n",
                "page_followers = soupe.find_all('a', {'class':\"x1i10hfl xjbqb8w x6umtig x1b1mbwd xaqea5y xav7gou x9f619 x1ypdohk xt0psk2 xe8uvvx xdj266r x11i5rnm xat24cr x1mh8g0r xexx8yu x4uap5 x18d9i69 xkhd6sd x16tdsg8 x1hl2dhg xggy1nq x1a2a7pz xt0b8zv xi81zsa x1s688f\"})[1].text.split(' ')[0].replace('K', '000').replace('M', '000000')\n",
                "post_data = []"
            ]
        },
        {
            "cell_type": "code",
            "execution_count": null,
            "metadata": {},
            "outputs": [],
            "source": [
                "post_container = soupe.find('div', {'class':\"x9f619 x1n2onr6 x1ja2u2z xeuugli xs83m0k x1xmf6yo x1emribx x1e56ztr x1i64zmx xjl7jj x19h7ccj xu9j1y6 x7ep2pv\"})"
            ]
        },
        {
            "cell_type": "code",
            "execution_count": null,
            "metadata": {},
            "outputs": [],
            "source": [
                "posts = post_container.find_all('div', {'x1n2onr6 x1ja2u2z'})"
            ]
        },
        {
            "cell_type": "code",
            "execution_count": null,
            "metadata": {},
            "outputs": [
                {
                    "data": {
                        "text/plain": [
                            "'rpeoosStnd8e8ue8S3a0t711574Mtt804\\xa0mb021er2\\xa035tgiu16:1A35\\xa0p7\\xa0'"
                        ]
                    },
                    "execution_count": 32,
                    "metadata": {},
                    "output_type": "execute_result"
                }
            ],
            "source": [
                "posts[0].find('span', {'class':\"xmper1u xt0psk2 xjb2p0i x1qlqyl8 x15bjb6t x1n2onr6 x17ihmo5 x1g77sc7\"}).text"
            ]
        },
        {
            "cell_type": "code",
            "execution_count": null,
            "metadata": {},
            "outputs": [],
            "source": [
                "for post in posts:\n",
                "    likes = post.find('span', {'class':\"xt0b8zv x2bj2ny xrbpyxo xl423tq\"}).text.strip() \\\n",
                "        if post.find('span', {'class':\"xt0b8zv x2bj2ny xrbpyxo xl423tq\"}) else 0\n",
                "    description = post.find('div', {'class':\"xdj266r x11i5rnm xat24cr x1mh8g0r x1vvkbs x126k92a\"}).text.strip() \\\n",
                "        if post.find('div', {'class':\"xdj266r x11i5rnm xat24cr x1mh8g0r x1vvkbs x126k92a\"}) else ''\n",
                "    cs = post.find('div', {'class':\"x9f619 x1n2onr6 x1ja2u2z x78zum5 x2lah0s x1qughib x1qjc9v5 xozqiw3 x1q0g3np xykv574 xbmpl8g x4cne27 xifccgj\"})\n",
                "    comments = 0\n",
                "    shares = 0\n",
                "    if cs.text:\n",
                "        c = cs.find_all('span', {'dir':'auto'})\n",
                "        match(len(c)):\n",
                "            case 2:\n",
                "                comments = c[0].text\n",
                "                shares = c[1].text\n",
                "            case 1:\n",
                "                if 'share' in c[0].text:\n",
                "                    shares = int(c[0].text.lower().split(' ')[0].replace('k', '000').replace('m', '000000'))\n",
                "                elif 'comment' in c[0].text:\n",
                "                    comments = int(c[0].text.lower().split(' ')[0].replace('k', '000').replace('m', '000000'))\n",
                "    post_data.append({\n",
                "        'reaction':likes,\n",
                "        'description': description,\n",
                "        'comments': comments,\n",
                "        'share': shares,\n",
                "        'date': ''\n",
                "    })\n"
            ]
        },
        {
            "cell_type": "code",
            "execution_count": null,
            "metadata": {},
            "outputs": [],
            "source": [
                "data = {\n",
                "    'name': page_name,\n",
                "    'likes': page_likes,\n",
                "    'followers': page_followers,\n",
                "    'posts': post_data\n",
                "}\n",
                "data"
            ]
        },
        {
            "cell_type": "code",
            "execution_count": null,
            "metadata": {},
            "outputs": [
                {
                    "data": {
                        "text/plain": [
                            "'Room with a view  #MeetMeAtTheRoxy'"
                        ]
                    },
                    "execution_count": 58,
                    "metadata": {},
                    "output_type": "execute_result"
                }
            ],
            "source": [
                "post_description = posts[18].find('div', {'class':\"xdj266r x11i5rnm xat24cr x1mh8g0r x1vvkbs x126k92a\"}).text.strip()\n",
                "post_likes = posts[11].find('span', {'class':\"xt0b8zv x2bj2ny xrbpyxo xl423tq\"}).text\n",
                "post_comments = ''\n",
                "post_shares = ''\n"
            ]
        },
        {
            "cell_type": "code",
            "execution_count": null,
            "metadata": {},
            "outputs": [],
            "source": [
                "cs = posts[18].find('div', {'class':\"x9f619 x1n2onr6 x1ja2u2z x78zum5 x2lah0s x1qughib x1qjc9v5 xozqiw3 x1q0g3np xykv574 xbmpl8g x4cne27 xifccgj\"})"
            ]
        },
        {
            "cell_type": "code",
            "execution_count": null,
            "metadata": {},
            "outputs": [
                {
                    "data": {
                        "text/plain": [
                            "[<span class=\"x193iq5w xeuugli x13faqbe x1vvkbs x10flsy6 x1lliihq x1s928wv xhkezso x1gmr53x x1cpjm7i x1fgarty x1943h6x x4zkp8e x41vudc x1f6kntn xvq8zen xo1l8bm xi81zsa\" dir=\"auto\">3 comments</span>]"
                        ]
                    },
                    "execution_count": 171,
                    "metadata": {},
                    "output_type": "execute_result"
                }
            ],
            "source": [
                "cs.find_all('span', {'dir':'auto'})"
            ]
        },
        {
            "cell_type": "code",
            "execution_count": null,
            "metadata": {},
            "outputs": [
                {
                    "name": "stdout",
                    "output_type": "stream",
                    "text": [
                        "shares 0\n",
                        "comments 3\n"
                    ]
                }
            ],
            "source": [
                "comments = ''\n",
                "shares = ''\n",
                "\n",
                "if cs.text:\n",
                "    c = cs.find_all('span', {'dir':'auto'})\n",
                "    match(len(c)):\n",
                "        case 2:\n",
                "            comments = c[0].text\n",
                "            shares = c[1].text\n",
                "        case 1:\n",
                "            if 'share' in c[0].text:\n",
                "                shares = c[0].text.split(' ')[0]\n",
                "                comments = 0\n",
                "            elif 'comment' in c[0].text:\n",
                "                comments = c[0].text.split(' ')[0]\n",
                "                shares = 0\n",
                "        case _:\n",
                "            comments = 0\n",
                "            shares = 0\n",
                "print('shares', shares)\n",
                "print('comments', comments)"
            ]
        },
        {
            "cell_type": "code",
            "execution_count": null,
            "metadata": {},
            "outputs": [],
            "source": [
                "x = '32m shares'\n",
                "x = x.lower().replace('k', '000').replace('m', '000000')\n",
                "int(''.join(filter(str.isdigit, x)))"
            ]
        },
        {
            "cell_type": "code",
            "execution_count": null,
            "metadata": {},
            "outputs": [
                {
                    "data": {
                        "text/plain": [
                            "'{\"title\": \"Le recrutement est lancé pour l’hôtel Cote Brune**** aux 2 Alpes (38).\", \"comments\": 2, \"likes\": 19, \"share\": 36, \"publishedAt\": \"2023-09-04\"}#{\"title\": \"lancé pour l’hôtel Cote Brune**** aux 2 Alpes (38).\", \"comments\": 2, \"likes\": 19, \"share\": 26, \"publishedAt\": \"2023-09-05\"}#'"
                        ]
                    },
                    "execution_count": 7,
                    "metadata": {},
                    "output_type": "execute_result"
                }
            ],
            "source": [
                "x = [{\"title\":\"Le recrutement est lancé pour l’hôtel Cote Brune**** aux 2 Alpes (38).\",\"comments\": 2,\"likes\": 19,\"share\": 36,\"publishedAt\": \"2023-09-04\"},{\"title\":\"lancé pour l’hôtel Cote Brune**** aux 2 Alpes (38).\",\"comments\": 2,\"likes\": 19,\"share\": 26,\"publishedAt\": \"2023-09-05\"}]\n",
                "sep = '#'\n",
                "y = sep.join([str(i) for i in x])\n",
                "y += sep\n",
                "y.replace(\"'\", '\"')"
            ]
        },
        {
            "cell_type": "code",
            "execution_count": 48,
            "metadata": {},
            "outputs": [],
            "source": [
                "x = \"Thu Jun 28 13:38:15 +0000 2018\"\n",
                "x = x.lower().split(' ')\n",
                "month = x[1]\n"
            ]
        },
        {
            "cell_type": "code",
            "execution_count": 49,
            "metadata": {},
            "outputs": [],
            "source": [
                "months = {\n",
                "    'jan': '01',\n",
                "    'feb': '02',\n",
                "    'mar': '03',\n",
                "    'apr': '04',\n",
                "    'may': '05',\n",
                "    'jun': '06',\n",
                "    'jul': '07',\n",
                "    'aug': '08',\n",
                "    'sep': '09',\n",
                "    'oct': '10',\n",
                "    'nov': '11',\n",
                "    'dec': '12'\n",
                "}"
            ]
        },
        {
            "cell_type": "code",
            "execution_count": 50,
            "metadata": {},
            "outputs": [
                {
                    "data": {
                        "text/plain": [
                            "'28/06/2018'"
                        ]
                    },
                    "execution_count": 50,
                    "metadata": {},
                    "output_type": "execute_result"
                }
            ],
            "source": []
        },
        {
            "cell_type": "code",
            "execution_count": 53,
            "metadata": {},
            "outputs": [
                {
                    "data": {
                        "text/plain": [
                            "'09/10/2022'"
                        ]
                    },
                    "execution_count": 53,
                    "metadata": {},
                    "output_type": "execute_result"
                }
            ],
            "source": [
                "from datetime import datetime\n",
                "\n",
                "datetime.fromtimestamp(1665337439).strftime(\"%d/%m/%Y\")"
            ]
        },
        {
            "cell_type": "code",
            "execution_count": 10,
            "metadata": {},
            "outputs": [],
            "source": [
                "import pandas as pd\n",
                "import json\n",
                "from nested_lookup import nested_lookup"
            ]
        },
        {
            "cell_type": "code",
            "execution_count": null,
            "metadata": {},
            "outputs": [],
            "source": [
                "dev = ''\n",
                "\n",
                "with open('./env.json', 'r') as openfile:\n",
                "    dev = json.loads(openfile.read())\n",
                "\n",
                "dev"
            ]
        },
        {
            "cell_type": "code",
            "execution_count": 12,
            "metadata": {},
            "outputs": [
                {
                    "data": {
                        "text/plain": [
                            "187"
                        ]
                    },
                    "execution_count": 12,
                    "metadata": {},
                    "output_type": "execute_result"
                }
            ],
            "source": [
                "nested_lookup(key='edge_followed_by', document=dev)[0]['count']"
            ]
        }
    ],
    "metadata": {
        "kernelspec": {
            "display_name": "venv",
            "language": "python",
            "name": "python3"
        },
        "language_info": {
            "codemirror_mode": {
                "name": "ipython",
                "version": 3
            },
            "file_extension": ".py",
            "mimetype": "text/x-python",
            "name": "python",
            "nbconvert_exporter": "python",
            "pygments_lexer": "ipython3",
            "version": "3.10.12"
        },
        "orig_nbformat": 4
    },
    "nbformat": 4,
    "nbformat_minor": 2
}