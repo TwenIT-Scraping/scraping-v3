{
 "cells": [
  {
   "cell_type": "code",
   "execution_count": 15,
   "metadata": {},
   "outputs": [],
   "source": [
    "from datetime import datetime\n",
    "from bs4 import BeautifulSoup\n",
    "from selenium import webdriver\n",
    "from selenium.webdriver.common.by import By\n",
    "from selenium.webdriver.support import expected_conditions as EC\n",
    "from webdriver_manager.chrome import ChromeDriverManager\n",
    "from webdriver_manager.firefox import GeckoDriverManager\n",
    "from selenium.webdriver.chrome.service import Service as ChromeService\n",
    "from selenium.webdriver.firefox.service import Service as FirefoxService\n",
    "from selenium.webdriver.support import expected_conditions as EC\n",
    "from selenium.webdriver.support.wait import WebDriverWait\n",
    "from selenium.webdriver.common.keys import Keys\n",
    "import pandas as pd\n",
    "import time\n",
    "import json"
   ]
  },
  {
   "cell_type": "code",
   "execution_count": 16,
   "metadata": {},
   "outputs": [],
   "source": [
    "insta_page = [\n",
    "    {'id': 221, 'caption': '', 'section': 'FOLLOW US', 'establishment_name': 'SOC Rugby', 'establishment_id': 69, 'idprovider': 15, 'category': 'Social', 'source': 'Instagram', 'url': 'https://www.instagram.com/soc.rugby_officiel', 'language': 'fr', 'last_review_date': None}, \n",
    "    {'id': 206, 'caption': '', 'section': 'FOLLOW US', 'establishment_name': 'AMSB', 'establishment_id': 63, 'idprovider': 15, 'category': 'Social', 'source': 'Instagram', 'url': 'https://www.instagram.com/amsbofficiel', 'language': 'fr', 'last_review_date': None}, \n",
    "    {'id': 189, 'caption': None, 'section': None, 'establishment_name': 'Mondovélo Chambéry', 'establishment_id': 54, 'idprovider': 15, 'category': 'Social', 'source': 'Instagram', 'url': 'https://www.instagram.com/mondovelochambery/', 'language': 'fr', 'last_review_date': None}, \n",
    "    {'id': 188, 'caption': None, 'section': None, 'establishment_name': 'Degrif Sport Aix-les-Bains', 'establishment_id': 55, 'idprovider': 15, 'category': 'Social', 'source': 'Instagram', 'url': 'https://www.instagram.com/degrif_sport_aixlesbains', 'language': 'fr', 'last_review_date': None}, \n",
    "    {'id': 175, 'caption': None, 'section': None, 'establishment_name': 'Sport2000 France', 'establishment_id': 52, 'idprovider': 15, 'category': 'Social', 'source': 'Instagram', 'url': 'https://www.instagram.com/sport2000fr', 'language': 'fr', 'last_review_date': None}, \n",
    "    {'id': 158, 'caption': None, 'section': None, 'establishment_name': 'Team Chambé', 'establishment_id': 49, 'idprovider': 15, 'category': 'Social', 'source': 'Instagram', 'url': 'https://www.instagram.com/teamchambe', 'language': 'fr', 'last_review_date': None}, \n",
    "    {'id': 155, 'caption': None, 'section': None, 'establishment_name': 'Domaine de Bonelli', 'establishment_id': 48, 'idprovider': 15, 'category': 'Social', 'source': 'Instagram', 'url': 'https://www.instagram.com/domainedebonelli', 'language': 'fr', 'last_review_date': None}, \n",
    "    {'id': 150, 'caption': None, 'section': None, 'establishment_name': 'Hôtel du Golfe Ajaccio', 'establishment_id': 47, 'idprovider': 15, 'category': 'Social', 'source': 'Instagram', 'url': 'https://www.instagram.com/hoteldugolfeajaccio', 'language': 'fr', 'last_review_date': None}, \n",
    "    {'id': 141, 'caption': None, 'section': 'FOLLOW US', 'establishment_name': 'Dolce Notte', 'establishment_id': 46, 'idprovider': 15, 'category': 'Social', 'source': 'Instagram', 'url': 'https://www.instagram.com/hoteldolcenotte', 'language': 'fr', 'last_review_date': None}, \n",
    "    {'id': 129, 'caption': None, 'section': 'FOLLOW US', 'establishment_name': \"Le Carre d'As\", 'establishment_id': 44, 'idprovider': 15, 'category': 'Social', 'source': 'Instagram', 'url': 'https://www.instagram.com/carredas73', 'language': 'fr', 'last_review_date': None}, \n",
    "    {'id': 102, 'caption': None, 'section': None, 'establishment_name': 'Le Château de Candie', 'establishment_id': 4, 'idprovider': 15, 'category': 'Social', 'source': 'Instagram', 'url': 'https://www.instagram.com/chateaudecandie', 'language': 'fr', 'last_review_date': None}, \n",
    "    {'id': 93, 'caption': None, 'section': None, 'establishment_name': 'Hotel Chamartín The One', 'establishment_id': 28, 'idprovider': 15, 'category': 'Social', 'source': 'Instagram', 'url': 'https://www.instagram.com/chamartin_theone', 'language': 'es', 'last_review_date': None}, \n",
    "    {'id': 89, 'caption': None, 'section': 'FOLLOW US', 'establishment_name': 'Hotel Antequera Hills', 'establishment_id': 27, 'idprovider': 15, 'category': 'Social', 'source': 'Instagram', 'url': 'https://www.instagram.com/hotelantequerahills', 'language': 'es', 'last_review_date': None}, \n",
    "    {'id': 46, 'caption': None, 'section': None, 'establishment_name': 'Le Lido', 'establishment_id': 5, 'idprovider': 15, 'category': 'Social', 'source': 'Instagram', 'url': 'https://www.instagram.com/lidolacdubourget', 'language': 'fr', 'last_review_date': None}, \n",
    "    {'id': 42, 'caption': None, 'section': None, 'establishment_name': 'Office de Tourisme de Chamonix-Mont-Blanc', 'establishment_id': 12, 'idprovider': 15, 'category': 'Social', 'source': 'Instagram', 'url': 'https://www.instagram.com/chamonixmontblanc', 'language': 'fr', 'last_review_date': None}, \n",
    "    {'id': 24, 'caption': None, 'section': None, 'establishment_name': 'Madame Vacances', 'establishment_id': 7, 'idprovider': 15, 'category': 'Social', 'source': 'Instagram', 'url': 'https://www.instagram.com/madame_vacances', 'language': 'fr', 'last_review_date': None}\n",
    "]"
   ]
  },
  {
   "cell_type": "code",
   "execution_count": 17,
   "metadata": {},
   "outputs": [],
   "source": [
    "chrome_options = webdriver.ChromeOptions()\n",
    "chrome_options.add_argument('disable-translate')\n",
    "chrome_options.add_argument('--lang=fr')"
   ]
  },
  {
   "cell_type": "code",
   "execution_count": 18,
   "metadata": {},
   "outputs": [],
   "source": [
    "credentials = {\n",
    "            \"email\": \"0348485370\",\n",
    "            \"password\": \"just focus on what you want to be\",\n",
    "            \"username\": \"domoina.sarobidy\"\n",
    "        }"
   ]
  },
  {
   "cell_type": "code",
   "execution_count": 19,
   "metadata": {},
   "outputs": [],
   "source": [
    "driver = webdriver.Chrome(options=chrome_options)"
   ]
  },
  {
   "cell_type": "code",
   "execution_count": 20,
   "metadata": {},
   "outputs": [
    {
     "data": {
      "text/plain": [
       "<selenium.webdriver.support.wait.WebDriverWait (session=\"b5178b2a717d7a10345b94c20e0c2c7d\")>"
      ]
     },
     "execution_count": 20,
     "metadata": {},
     "output_type": "execute_result"
    }
   ],
   "source": [
    "driver.maximize_window()\n",
    "driver.get(\"https://instagram.com/\")\n",
    "WebDriverWait(driver, 10000)"
   ]
  },
  {
   "cell_type": "code",
   "execution_count": 21,
   "metadata": {},
   "outputs": [],
   "source": [
    "username_field = driver.find_element(By.XPATH, \"//input[@name='username']\")\n",
    "username_field.click()\n",
    "time.sleep(.5)\n",
    "username_field.send_keys(credentials['email'])"
   ]
  },
  {
   "cell_type": "code",
   "execution_count": 22,
   "metadata": {},
   "outputs": [],
   "source": [
    "username_field = driver.find_element(By.XPATH, \"//input[@name='password']\")\n",
    "username_field.click()\n",
    "time.sleep(.5)\n",
    "username_field.send_keys(credentials['password'])"
   ]
  },
  {
   "cell_type": "code",
   "execution_count": 23,
   "metadata": {},
   "outputs": [],
   "source": [
    "btn = driver.find_element(By.XPATH, \"//button[@type='submit']\")\n",
    "btn.click()\n",
    "time.sleep(2)"
   ]
  },
  {
   "cell_type": "code",
   "execution_count": 14,
   "metadata": {},
   "outputs": [],
   "source": [
    "driver.find_element(By.XPATH, \"//div[contains(text(), 'Plus tard')]\").click()"
   ]
  },
  {
   "cell_type": "code",
   "execution_count": 24,
   "metadata": {},
   "outputs": [],
   "source": [
    "driver.get(\"https://www.instagram.com/luxgrandgaube/\")"
   ]
  },
  {
   "cell_type": "code",
   "execution_count": 10,
   "metadata": {},
   "outputs": [],
   "source": [
    "driver.get(insta_page[1]['url'])"
   ]
  },
  {
   "cell_type": "code",
   "execution_count": 29,
   "metadata": {},
   "outputs": [],
   "source": [
    "page = BeautifulSoup(driver.page_source, 'lxml')"
   ]
  },
  {
   "cell_type": "code",
   "execution_count": 30,
   "metadata": {},
   "outputs": [
    {
     "data": {
      "text/plain": [
       "datetime.datetime(2024, 7, 17, 12, 27, 11)"
      ]
     },
     "execution_count": 30,
     "metadata": {},
     "output_type": "execute_result"
    }
   ],
   "source": [
    "from datetime import datetime\n",
    "\n",
    "\n",
    "datetime.fromtimestamp(1721208431)"
   ]
  },
  {
   "cell_type": "code",
   "execution_count": 31,
   "metadata": {},
   "outputs": [
    {
     "data": {
      "text/plain": [
       "'html-span.xdj266r.x11i5rnm.xat24cr.x1mh8g0r.xexx8yu.x4uap5.x18d9i69.xkhd6sd.x1hl2dhg.x16tdsg8.x1vvkbs'"
      ]
     },
     "execution_count": 31,
     "metadata": {},
     "output_type": "execute_result"
    }
   ],
   "source": [
    "\"html-span xdj266r x11i5rnm xat24cr x1mh8g0r xexx8yu x4uap5 x18d9i69 xkhd6sd x1hl2dhg x16tdsg8 x1vvkbs\".replace(\" \", '.')"
   ]
  },
  {
   "cell_type": "code",
   "execution_count": 54,
   "metadata": {},
   "outputs": [],
   "source": [
    "article = driver.find_element(By.XPATH, \"//article[@role='presentation']\")"
   ]
  },
  {
   "cell_type": "code",
   "execution_count": null,
   "metadata": {},
   "outputs": [],
   "source": [
    "article.find_element(By.CSS_SELECTOR, \"span.html-span.xdj266r.x11i5rnm.xat24cr.x1mh8g0r.xexx8yu.x4uap5.x18d9i69.xkhd6sd.x1hl2dhg.x16tdsg8.x1vvkbs\").text"
   ]
  },
  {
   "cell_type": "markdown",
   "metadata": {},
   "source": [
    "PROFILE"
   ]
  },
  {
   "cell_type": "code",
   "execution_count": 17,
   "metadata": {},
   "outputs": [],
   "source": [
    "profile_data = []\n",
    "\n",
    "with open('query1.json', 'r', encoding='utf-8') as openfile:\n",
    "    profile_data = json.load(openfile)"
   ]
  },
  {
   "cell_type": "code",
   "execution_count": 22,
   "metadata": {},
   "outputs": [],
   "source": [
    "from nested_lookup import nested_lookup"
   ]
  },
  {
   "cell_type": "code",
   "execution_count": 25,
   "metadata": {},
   "outputs": [
    {
     "data": {
      "text/plain": [
       "'Aix Maurienne Savoie Basket'"
      ]
     },
     "execution_count": 25,
     "metadata": {},
     "output_type": "execute_result"
    }
   ],
   "source": [
    "nested_lookup(key='full_name', document=profile_data)[0]"
   ]
  },
  {
   "cell_type": "code",
   "execution_count": 28,
   "metadata": {},
   "outputs": [
    {
     "data": {
      "text/plain": [
       "6797"
      ]
     },
     "execution_count": 28,
     "metadata": {},
     "output_type": "execute_result"
    }
   ],
   "source": [
    "nested_lookup(key='follower_count', document=profile_data)[0]"
   ]
  },
  {
   "cell_type": "markdown",
   "metadata": {},
   "source": [
    "POST"
   ]
  },
  {
   "cell_type": "code",
   "execution_count": 36,
   "metadata": {},
   "outputs": [],
   "source": [
    "post = []\n",
    "\n",
    "with open('comment.json', 'r', encoding='utf-8') as openfile:\n",
    "    post = json.load(openfile)"
   ]
  },
  {
   "cell_type": "code",
   "execution_count": 28,
   "metadata": {},
   "outputs": [
    {
     "data": {
      "text/plain": [
       "'2024-07-02'"
      ]
     },
     "execution_count": 28,
     "metadata": {},
     "output_type": "execute_result"
    }
   ],
   "source": [
    "datetime.fromisoformat(driver.find_element(By.XPATH, \"//time[@class='x1p4m5qa']\").get_attribute('datetime')).strftime(\"%Y-%m-%d\")"
   ]
  },
  {
   "cell_type": "code",
   "execution_count": 41,
   "metadata": {},
   "outputs": [
    {
     "name": "stdout",
     "output_type": "stream",
     "text": [
      "published_at: 16/07/2024\n"
     ]
    }
   ],
   "source": [
    "published_at = datetime.fromtimestamp(post['caption']['created_at']).strftime(\"%d/%m/%Y\")\n",
    "print(f\"published_at: {published_at}\")"
   ]
  },
  {
   "cell_type": "code",
   "execution_count": 49,
   "metadata": {},
   "outputs": [
    {
     "name": "stdout",
     "output_type": "stream",
     "text": [
      "Post author: Aix Maurienne Savoie Basket\n"
     ]
    }
   ],
   "source": [
    "post_author = post['caption']['user']['full_name']\n",
    "print(f\"Post author: {post_author}\")"
   ]
  },
  {
   "cell_type": "code",
   "execution_count": 43,
   "metadata": {},
   "outputs": [
    {
     "name": "stdout",
     "output_type": "stream",
     "text": [
      "description: 𝙃𝙀𝙍𝙀 𝙒𝙀 𝙂𝙊 !\n",
      "\n",
      "@gersonlukeny rejoint l'effectif savoyard pour la saison prochaine !\n",
      "\n",
      "Nous lui souhaitons la bienvenue en Savoie ❤️🤍\n",
      "\n",
      "📲 Article à retrouver sur : www.amsb.pro\n"
     ]
    }
   ],
   "source": [
    "description = post['caption']['text']\n",
    "print(f\"description: {description}\")"
   ]
  },
  {
   "cell_type": "code",
   "execution_count": 45,
   "metadata": {},
   "outputs": [
    {
     "data": {
      "text/plain": [
       "11"
      ]
     },
     "execution_count": 45,
     "metadata": {},
     "output_type": "execute_result"
    }
   ],
   "source": [
    "comments = post['comments']\n",
    "len(comments)"
   ]
  },
  {
   "cell_type": "code",
   "execution_count": 46,
   "metadata": {},
   "outputs": [],
   "source": [
    "comment = comments[0]"
   ]
  },
  {
   "cell_type": "code",
   "execution_count": 48,
   "metadata": {},
   "outputs": [
    {
     "name": "stdout",
     "output_type": "stream",
     "text": [
      "comment date: 16/07/2024\n"
     ]
    }
   ],
   "source": [
    "comment_date = datetime.fromtimestamp(comment['created_at']).strftime('%d/%m/%Y')\n",
    "print(f'comment date: {comment_date}')"
   ]
  },
  {
   "cell_type": "code",
   "execution_count": 50,
   "metadata": {},
   "outputs": [
    {
     "name": "stdout",
     "output_type": "stream",
     "text": [
      "comment author: 𝒞𝑎𝑟𝑖𝑛𝑎 𝒞𝑜𝑠𝑡𝑎 \n"
     ]
    }
   ],
   "source": [
    "comment_author = comment['user']['full_name']\n",
    "print(f\"comment author: {comment_author} \")"
   ]
  },
  {
   "cell_type": "code",
   "execution_count": 51,
   "metadata": {},
   "outputs": [
    {
     "name": "stdout",
     "output_type": "stream",
     "text": [
      "comment author profile url: https://www.instagram.com/carina_andrade_costa/\n"
     ]
    }
   ],
   "source": [
    "comment_author_url = f\"https://www.instagram.com/{comment['user']['username']}/\"\n",
    "print(f'comment author profile url: {comment_author_url}')"
   ]
  },
  {
   "cell_type": "code",
   "execution_count": 52,
   "metadata": {},
   "outputs": [
    {
     "name": "stdout",
     "output_type": "stream",
     "text": [
      "comment reaction: 2\n"
     ]
    }
   ],
   "source": [
    "comment_reaction = comment['comment_like_count']\n",
    "print(f\"comment reaction: {comment_reaction}\")"
   ]
  },
  {
   "cell_type": "code",
   "execution_count": 53,
   "metadata": {},
   "outputs": [
    {
     "name": "stdout",
     "output_type": "stream",
     "text": [
      "comment text  🔥🔥🙌🏾🌟 Joueur compétent, professionnel dévoué. Succès!\n"
     ]
    }
   ],
   "source": [
    "comment_text = comment['text']\n",
    "print(f\"comment text  {comment_text}\")"
   ]
  },
  {
   "cell_type": "markdown",
   "metadata": {},
   "source": [
    "Opening post"
   ]
  },
  {
   "cell_type": "code",
   "execution_count": 22,
   "metadata": {},
   "outputs": [
    {
     "data": {
      "text/plain": [
       "'_ac7v.xras4av.xgc1b0m.xat24cr.xzboxd6'"
      ]
     },
     "execution_count": 22,
     "metadata": {},
     "output_type": "execute_result"
    }
   ],
   "source": [
    "\"_ac7v xras4av xgc1b0m xat24cr xzboxd6\".replace(\" \", \".\")"
   ]
  },
  {
   "cell_type": "code",
   "execution_count": 28,
   "metadata": {},
   "outputs": [
    {
     "data": {
      "text/plain": [
       "<selenium.webdriver.remote.webelement.WebElement (session=\"7d33de3451a62e9d79b55827efe51d13\", element=\"f.A4DF94BA979FDB5D23171B9CE1A955DB.d.66EAE18BC3E47A6C06FC5EE43DF0910B.e.10095\")>"
      ]
     },
     "execution_count": 28,
     "metadata": {},
     "output_type": "execute_result"
    }
   ],
   "source": [
    "links = driver.find_element(By.CSS_SELECTOR, \"div._ac7v.xras4av.xgc1b0m.xat24cr.xzboxd6\")\n",
    "links"
   ]
  },
  {
   "cell_type": "code",
   "execution_count": 31,
   "metadata": {},
   "outputs": [],
   "source": [
    "driver.find_element(By.CSS_SELECTOR, \"div._ac7v.xzboxd6.xras4av.xgc1b0m a.x1i10hfl.xjbqb8w.x1ejq31n.xd10rxx.x1sy0etr.x17r0tee.x972fbf.xcfux6l.x1qhh985.xm0m39n.x9f619.x1ypdohk.xt0psk2.xe8uvvx.xdj266r.x11i5rnm.xat24cr.x1mh8g0r.xexx8yu.x4uap5.x18d9i69.xkhd6sd.x16tdsg8.x1hl2dhg.xggy1nq.x1a2a7pz._a6hd\").click()"
   ]
  },
  {
   "cell_type": "code",
   "execution_count": 1,
   "metadata": {},
   "outputs": [],
   "source": [
    "origins = [{'id': 221, 'caption': '', 'section': 'FOLLOW US', 'establishment_name': 'SOC Rugby', 'establishment_id': 69, 'idprovider': 15, 'category': 'Social', 'source': 'Instagram', 'url': 'https://www.instagram.com/soc.rugby_officiel', 'language': 'fr', 'last_review_date': None}, {'id': 206, 'caption': '', 'section': 'FOLLOW US', 'establishment_name': 'AMSB', 'establishment_id': 63, 'idprovider': 15, 'category': 'Social', 'source': 'Instagram', 'url': 'https://www.instagram.com/amsbofficiel', 'language': 'fr', 'last_review_date': None}, {'id': 189, 'caption': None, 'section': None, 'establishment_name': 'Mondovélo Chambéry', 'establishment_id': 54, 'idprovider': 15, 'category': 'Social', 'source': 'Instagram', 'url': 'https://www.instagram.com/mondovelochambery/', 'language': 'fr', 'last_review_date': None}, {'id': 188, 'caption': None, 'section': None, 'establishment_name': 'Degrif Sport Aix-les-Bains', 'establishment_id': 55, 'idprovider': 15, 'category': 'Social', 'source': 'Instagram', 'url': 'https://www.instagram.com/degrif_sport_aixlesbains', 'language': 'fr', 'last_review_date': None}, {'id': 175, 'caption': None, 'section': None, 'establishment_name': 'Sport2000 France', 'establishment_id': 52, 'idprovider': 15, 'category': 'Social', 'source': 'Instagram', 'url': 'https://www.instagram.com/sport2000fr', 'language': 'fr', 'last_review_date': None}, {'id': 158, 'caption': None, 'section': None, 'establishment_name': 'Team Chambé', 'establishment_id': 49, 'idprovider': 15, 'category': 'Social', 'source': 'Instagram', 'url': 'https://www.instagram.com/teamchambe', 'language': 'fr', 'last_review_date': None}, {'id': 155, 'caption': None, 'section': None, 'establishment_name': 'Domaine de Bonelli', 'establishment_id': 48, 'idprovider': 15, 'category': 'Social', 'source': 'Instagram', 'url': 'https://www.instagram.com/domainedebonelli', 'language': 'fr', 'last_review_date': None}, {'id': 150, 'caption': None, 'section': None, 'establishment_name': 'Hôtel du Golfe Ajaccio', 'establishment_id': 47, 'idprovider': 15, 'category': 'Social', 'source': 'Instagram', 'url': 'https://www.instagram.com/hoteldugolfeajaccio', 'language': 'fr', 'last_review_date': None}, {'id': 141, 'caption': None, 'section': 'FOLLOW US', 'establishment_name': 'Dolce Notte', 'establishment_id': 46, 'idprovider': 15, 'category': 'Social', 'source': 'Instagram', 'url': 'https://www.instagram.com/hoteldolcenotte', 'language': 'fr', 'last_review_date': None}, {'id': 129, 'caption': None, 'section': 'FOLLOW US', 'establishment_name': \"Le Carre d'As\", 'establishment_id': 44, 'idprovider': 15, 'category': 'Social', 'source': 'Instagram', 'url': 'https://www.instagram.com/carredas73', 'language': 'fr', 'last_review_date': None}, {'id': 102, 'caption': None, 'section': None, 'establishment_name': 'Le Château de Candie', 'establishment_id': 4, 'idprovider': 15, 'category': 'Social', 'source': 'Instagram', 'url': 'https://www.instagram.com/chateaudecandie', 'language': 'fr', 'last_review_date': None}, {'id': 93, 'caption': None, 'section': None, 'establishment_name': 'Hotel Chamartín The One', 'establishment_id': 28, 'idprovider': 15, 'category': 'Social', 'source': 'Instagram', 'url': 'https://www.instagram.com/chamartin_theone', 'language': 'es', 'last_review_date': None}, {'id': 89, 'caption': None, 'section': 'FOLLOW US', 'establishment_name': 'Hotel Antequera Hills', 'establishment_id': 27, 'idprovider': 15, 'category': 'Social', 'source': 'Instagram', 'url': 'https://www.instagram.com/hotelantequerahills', 'language': 'es', 'last_review_date': None}, {'id': 46, 'caption': None, 'section': None, 'establishment_name': 'Le Lido', 'establishment_id': 5, 'idprovider': 15, 'category': 'Social', 'source': 'Instagram', 'url': 'https://www.instagram.com/lidolacdubourget', 'language': 'fr', 'last_review_date': None}, {'id': 42, 'caption': None, 'section': None, 'establishment_name': 'Office de Tourisme de Chamonix-Mont-Blanc', 'establishment_id': 12, 'idprovider': 15, 'category': 'Social', 'source': 'Instagram', 'url': 'https://www.instagram.com/chamonixmontblanc', 'language': 'fr', 'last_review_date': None}, {'id': 24, 'caption': None, 'section': None, 'establishment_name': 'Madame Vacances', 'establishment_id': 7, 'idprovider': 15, 'category': 'Social', 'source': 'Instagram', 'url': 'https://www.instagram.com/madame_vacances', 'language': 'fr', 'last_review_date': None}]"
   ]
  },
  {
   "cell_type": "code",
   "execution_count": 3,
   "metadata": {},
   "outputs": [],
   "source": [
    "names = [x['establishment_name'] for x in origins]"
   ]
  },
  {
   "cell_type": "code",
   "execution_count": 4,
   "metadata": {},
   "outputs": [
    {
     "data": {
      "text/plain": [
       "['SOC Rugby',\n",
       " 'AMSB',\n",
       " 'Mondovélo Chambéry',\n",
       " 'Degrif Sport Aix-les-Bains',\n",
       " 'Sport2000 France',\n",
       " 'Team Chambé',\n",
       " 'Domaine de Bonelli',\n",
       " 'Hôtel du Golfe Ajaccio',\n",
       " 'Dolce Notte',\n",
       " \"Le Carre d'As\",\n",
       " 'Le Château de Candie',\n",
       " 'Hotel Chamartín The One',\n",
       " 'Hotel Antequera Hills',\n",
       " 'Le Lido',\n",
       " 'Office de Tourisme de Chamonix-Mont-Blanc',\n",
       " 'Madame Vacances']"
      ]
     },
     "execution_count": 4,
     "metadata": {},
     "output_type": "execute_result"
    }
   ],
   "source": [
    "names"
   ]
  },
  {
   "cell_type": "code",
   "execution_count": 5,
   "metadata": {},
   "outputs": [
    {
     "name": "stdout",
     "output_type": "stream",
     "text": [
      "\\u270d\\ud83c\\udffc \\ud835\\udde6\\ud835\\udddc\\ud835\\uddda\\ud835\\udde1\\ud835\\uddd4\\ud835\\udde7\\ud835\\udde8\\ud835\\udde5\\ud835\\uddd8\\n\\nNous avons le plaisir de vous annoncer la signature de Aubin EYMERI pour \\ud835\\udfee \\ud835\\ude00\\ud835\\uddee\\ud835\\uddf6\\ud835\\ude00\\ud835\\uddfc\\ud835\\uddfb\\ud835\\ude00 ! \\ud83d\\udca5\\n\\nJeune demi de m\\u00eal\\u00e9e de 22 ans, originaire de Grenoble et form\\u00e9 au FCG (\\ud835\\udddd\\ud835\\udddc\\ud835\\uddd9\\ud835\\uddd9), Aubin a \\u00e9volu\\u00e9 pendant 3 saisons au centre de formation du MHR et connu 15 feuilles matchs en TOP14 , 3 en Champions CUP, 1 en Challenge CUP ainsi qu\\u2019en s\\u00e9lection U20 France.\\n\\nNous en profitons pour lui souhaiter un joyeux anniversaire \\ud83c\\udf89 \\n\\n\\ud835\\ude49\\ud835\\ude64\\ud835\\ude6a\\ud835\\ude68 \\ud835\\ude69\\ud835\\ude5a \\ud835\\ude68\\ud835\\ude64\\ud835\\ude6a\\ud835\\ude5d\\ud835\\ude56\\ud835\\ude5e\\ud835\\ude69\\ud835\\ude64\\ud835\\ude63\\ud835\\ude68 \\ud835\\ude61\\ud835\\ude56 \\ud835\\ude57\\ud835\\ude5e\\ud835\\ude5a\\ud835\\ude63\\ud835\\ude6b\\ud835\\ude5a\\ud835\\ude63\\ud835\\ude6a\\ud835\\ude5a \\ud835\\ude56\\ud835\\ude6a \\ud835\\ude58\\ud835\\ude61\\ud835\\ude6a\\ud835\\ude57 ! \\ud83d\\udfe1\\u26ab\\ufe0f\n"
     ]
    }
   ],
   "source": [
    "import unicodedata\n",
    "\n",
    "text = r\"\\u270d\\ud83c\\udffc \\ud835\\udde6\\ud835\\udddc\\ud835\\uddda\\ud835\\udde1\\ud835\\uddd4\\ud835\\udde7\\ud835\\udde8\\ud835\\udde5\\ud835\\uddd8\\n\\nNous avons le plaisir de vous annoncer la signature de Aubin EYMERI pour \\ud835\\udfee \\ud835\\ude00\\ud835\\uddee\\ud835\\uddf6\\ud835\\ude00\\ud835\\uddfc\\ud835\\uddfb\\ud835\\ude00 ! \\ud83d\\udca5\\n\\nJeune demi de m\\u00eal\\u00e9e de 22 ans, originaire de Grenoble et form\\u00e9 au FCG (\\ud835\\udddd\\ud835\\udddc\\ud835\\uddd9\\ud835\\uddd9), Aubin a \\u00e9volu\\u00e9 pendant 3 saisons au centre de formation du MHR et connu 15 feuilles matchs en TOP14 , 3 en Champions CUP, 1 en Challenge CUP ainsi qu\\u2019en s\\u00e9lection U20 France.\\n\\nNous en profitons pour lui souhaiter un joyeux anniversaire \\ud83c\\udf89 \\n\\n\\ud835\\ude49\\ud835\\ude64\\ud835\\ude6a\\ud835\\ude68 \\ud835\\ude69\\ud835\\ude5a \\ud835\\ude68\\ud835\\ude64\\ud835\\ude6a\\ud835\\ude5d\\ud835\\ude56\\ud835\\ude5e\\ud835\\ude69\\ud835\\ude64\\ud835\\ude63\\ud835\\ude68 \\ud835\\ude61\\ud835\\ude56 \\ud835\\ude57\\ud835\\ude5e\\ud835\\ude5a\\ud835\\ude63\\ud835\\ude6b\\ud835\\ude5a\\ud835\\ude63\\ud835\\ude6a\\ud835\\ude5a \\ud835\\ude56\\ud835\\ude6a \\ud835\\ude58\\ud835\\ude61\\ud835\\ude6a\\ud835\\ude57 ! \\ud83d\\udfe1\\u26ab\\ufe0f\"\n",
    "\n",
    "# Replace escape sequences with Unicode characters\n",
    "decoded_text = unicodedata.normalize('NFKD', text)\n",
    "\n",
    "# Join Unicode characters\n",
    "decoded_text = ''.join(c for c in decoded_text if not unicodedata.combining(c))\n",
    "\n",
    "print(decoded_text)"
   ]
  },
  {
   "cell_type": "code",
   "execution_count": 14,
   "metadata": {},
   "outputs": [
    {
     "name": "stdout",
     "output_type": "stream",
     "text": [
      "\n"
     ]
    }
   ],
   "source": [
    "import unicodedata\n",
    "\n",
    "def remove_non_utf8_characters(input_string):\n",
    "    # Create an empty list to store valid characters\n",
    "    valid_chars = []\n",
    "\n",
    "    # Iterate through each character in the input string\n",
    "    for char in input_string:\n",
    "        try:\n",
    "            # Check if the character can be normalized to NFKC form\n",
    "            normalized_char = unicodedata.normalize('NFKC', char)\n",
    "            # Encode the normalized character to utf-8 to check if it's valid\n",
    "            normalized_char.encode('utf-8')\n",
    "            # If successful, add it to the list of valid characters\n",
    "            valid_chars.append(char)\n",
    "        except UnicodeEncodeError:\n",
    "            # If encoding to utf-8 fails, skip the character\n",
    "            pass\n",
    "\n",
    "    # Join the list of valid characters into a string and return it\n",
    "    return ''.join(valid_chars)\n",
    "\n",
    "# Example usage:\n",
    "encoded_string = r'\\ud83e\\udd77\\ud83c\\udde7\\ud83c\\uddf7\\ud83d\\udd25'\n",
    "decoded_string = bytes(encoded_string, 'utf-8').decode('unicode-escape')\n",
    "\n",
    "cleaned_string = remove_non_utf8_characters(decoded_string)\n",
    "print(cleaned_string)"
   ]
  },
  {
   "cell_type": "code",
   "execution_count": 29,
   "metadata": {},
   "outputs": [
    {
     "name": "stdout",
     "output_type": "stream",
     "text": [
      "Hello world 123\n"
     ]
    }
   ],
   "source": [
    "import re\n",
    "\n",
    "def remove_non_alphanum_with_space(input_string):\n",
    "    # Define the regex pattern to match non-alphanumeric characters excluding space\n",
    "    pattern = r'[^a-zA-Z0-9\\s]'  # Matches any character that is not a-z, A-Z, 0-9, or whitespace\n",
    "\n",
    "    # Use re.sub to replace occurrences of the pattern with an empty string\n",
    "    result = re.sub(pattern, '', input_string)\n",
    "\n",
    "    return result\n",
    "\n",
    "# Example usage:\n",
    "input_string = \"Hello, world! 123_\"\n",
    "cleaned_string = remove_non_alphanum_with_space(input_string)\n",
    "print(cleaned_string)  "
   ]
  }
 ],
 "metadata": {
  "kernelspec": {
   "display_name": "Python 3",
   "language": "python",
   "name": "python3"
  },
  "language_info": {
   "codemirror_mode": {
    "name": "ipython",
    "version": 3
   },
   "file_extension": ".py",
   "mimetype": "text/x-python",
   "name": "python",
   "nbconvert_exporter": "python",
   "pygments_lexer": "ipython3",
   "version": "3.11.3"
  }
 },
 "nbformat": 4,
 "nbformat_minor": 2
}
