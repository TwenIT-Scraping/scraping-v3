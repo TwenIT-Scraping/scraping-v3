{
 "cells": [
  {
   "cell_type": "code",
   "execution_count": 245,
   "metadata": {},
   "outputs": [],
   "source": [
    "import pytesseract\n",
    "from PIL import Image\n",
    "import base64\n",
    "import io\n",
    "import json\n",
    "from unidecode import unidecode"
   ]
  },
  {
   "cell_type": "code",
   "execution_count": 246,
   "metadata": {},
   "outputs": [],
   "source": [
    "pytesseract.pytesseract.tesseract_cmd = \"C:/Program Files (x86)/pytesseract/tesseract.exe\""
   ]
  },
  {
   "cell_type": "code",
   "execution_count": 247,
   "metadata": {},
   "outputs": [],
   "source": [
    "from bs4 import BeautifulSoup\n",
    "from selenium import webdriver\n",
    "from selenium.webdriver.common.by import By\n",
    "from selenium.webdriver.common.keys import Keys\n",
    "from selenium.webdriver.support.ui import WebDriverWait\n",
    "from selenium.common.exceptions import ElementNotVisibleException, ElementNotSelectableException, NoSuchElementException\n",
    "from selenium.webdriver.support import expected_conditions as EC\n",
    "import time\n",
    "from random import randint\n",
    "from datetime import datetime, timedelta"
   ]
  },
  {
   "cell_type": "code",
   "execution_count": 248,
   "metadata": {},
   "outputs": [],
   "source": [
    "fb_post = [\n",
    "    \"https://www.facebook.com/lidolacdubourget/posts/pfbid09EHMoQK6vBTdr9JDQmJ1gVCdLAyHQcViUXqWvE18tP487DCDhb2sjh4nJdxL2MHPl?comment_id=1461462354430385&__cft__[0]=AZXH79mE7RUPPHtxZsvqr_BRitfXrF79bRNyH2jB83zPxdSusSiyZKwabN8MjVRlMn-LHjbW2dW63h5qEAGX3ZSWVmrVWwTKORMyZsfO5ZzVXByw1z3HMbTwPkQjRlt6AEoYbpo7phdtsFlBKqVjQ-oiHW03wdX8b7xSdsKuZtmjZQr37SvPbc6jabf1AKzYYSVeAXU53IOwTs9LB868F7Am&__tn__=R]-R\",\n",
    "    \"https://www.facebook.com/lidolacdubourget/posts/pfbid032fuF7q8ehkKe3uStQrTLGrgvap6ZAzR8KA1mwNGUGMGb5ywpvoJdCVUmEcLC7w7Sl?comment_id=268270395792417&__cft__[0]=AZXAmetvd_xTfWQBobdOqKH1foEN-KmprVSHM-Wm8LqAmD6uK5ksX04WCKV9TbMemv8wuGc_nwiSdYKCdPQQ0_w75ybfMW6T4O0Fa7x1fCTH1Hf4kb8S47sprUbfh7dcLNHXGolG7j_CRxuBZh_uffpZoZZ84lB6qgqNMcX5eOy72YIqIDsAb0nL5dqfJQz8ppq5r3uvpSPY4qlxeSBpLvuD&__tn__=R]-R\",\n",
    "    \"https://www.facebook.com/lidolacdubourget/posts/pfbid09EHMoQK6vBTdr9JDQmJ1gVCdLAyHQcViUXqWvE18tP487DCDhb2sjh4nJdxL2MHPl?comment_id=1461462354430385&reply_comment_id=902877164591792&__cft__[0]=AZXH79mE7RUPPHtxZsvqr_BRitfXrF79bRNyH2jB83zPxdSusSiyZKwabN8MjVRlMn-LHjbW2dW63h5qEAGX3ZSWVmrVWwTKORMyZsfO5ZzVXByw1z3HMbTwPkQjRlt6AEoYbpo7phdtsFlBKqVjQ-oiHW03wdX8b7xSdsKuZtmjZQr37SvPbc6jabf1AKzYYSVeAXU53IOwTs9LB868F7Am&__tn__=R]-R\",\n",
    "    \"https://www.facebook.com/lidolacdubourget/posts/pfbid02GwH89hYVJWEwvspVt3Xsm5DNgT5gxbgUvU5NUMw1FYtiNUzjK2mwfY5JAEdfVTobl?comment_id=1428423244392705&__cft__[0]=AZUW5x8TTY2pGFv_mKI-Ly9G0Mk26XBAGu_ElmNxWIdLr9OMkGAkOD6Qr6YmijKVykOZqpMGW2TlNFkax5YSBP0MamV9NpDZQWeelRBJR8KPhM5N8Z2NfIdf0Eref0H7OmA9J4YEwS_JWomLlxIWkF1ZaQYQNHIkApZ3dTt9tYe9chwY4jY5rGh27FfojKoki6WQfESx6X1RVLLHFVkFmzbxdt3IUZ0k9wZDEjCxXJUxAw&__tn__=R]-R\",\n",
    "    \"https://www.facebook.com/lidolacdubourget/posts/pfbid035APNZxeUwAZug4wSZGQZGHLvus7cHiXAT6Uwj9PPeJcmyKhLsBAvqgaEASArHjNsl?comment_id=1089953952085346&__cft__[0]=AZWEgjqbMsg9zkopeHsKPakDy_PzKy_1kI_XTQCEhwath1QuSe_F9poJqGj4L4pEye34oewzfYgYZJQ8pNdGZUM5BoiyQ3gOLOC6AqWF4PExHHIHDQpEbXUMeDuE0vKTUXB3tkgY6WcG26UJ76EDq4tOXZkre0Rho3-wcMSSRwgaYDYyEu9tCQztj_JyqK0CvqLGnT4fVYqPC42QFRg4ysVQL-5jRv_l-gRdVUnaod1dow&__tn__=R]-R\"\n",
    "]"
   ]
  },
  {
   "cell_type": "code",
   "execution_count": 249,
   "metadata": {},
   "outputs": [],
   "source": [
    "chrome_options = webdriver.ChromeOptions()\n",
    "chrome_options.add_argument('disable-translate')\n",
    "chrome_options.add_argument('--lang=fr')"
   ]
  },
  {
   "cell_type": "code",
   "execution_count": 250,
   "metadata": {},
   "outputs": [],
   "source": [
    "credentials = {\n",
    "    \"username\": \"\",\n",
    "    \"phone\":\"\",\n",
    "    \"password\":\"\"\n",
    "}"
   ]
  },
  {
   "cell_type": "code",
   "execution_count": 251,
   "metadata": {},
   "outputs": [],
   "source": [
    "driver = webdriver.Chrome(options=chrome_options)"
   ]
  },
  {
   "cell_type": "code",
   "execution_count": 252,
   "metadata": {},
   "outputs": [
    {
     "data": {
      "text/plain": [
       "<selenium.webdriver.support.wait.WebDriverWait (session=\"d78410a1005571af9a8ef3731f03640b\")>"
      ]
     },
     "execution_count": 252,
     "metadata": {},
     "output_type": "execute_result"
    }
   ],
   "source": [
    "driver.maximize_window()\n",
    "driver.get(\"https://facebook.com/\")\n",
    "WebDriverWait(driver, 10000)"
   ]
  },
  {
   "cell_type": "code",
   "execution_count": 253,
   "metadata": {},
   "outputs": [],
   "source": [
    "def login():\n",
    "    time.sleep(randint(1, 3))\n",
    "    username_input = driver.find_element(By.XPATH, \"//input[@data-testid='royal_email']\")\n",
    "    password_input = driver.find_element(By.XPATH, \"//input[@data-testid='royal_pass']\")\n",
    "    btn_login = driver.find_element(By.XPATH, \"//button[@data-testid='royal_login_button']\")\n",
    "    username_input.click()\n",
    "    time.sleep(randint(1, 3))\n",
    "    username_input.send_keys(credentials['phone'])\n",
    "    time.sleep(randint(1, 3))\n",
    "    password_input.click()\n",
    "    time.sleep(randint(1, 3))\n",
    "    password_input.send_keys(credentials['password'])\n",
    "    time.sleep(randint(1, 3))\n",
    "    btn_login.click()\n",
    "    WebDriverWait(driver, 8000)"
   ]
  },
  {
   "cell_type": "code",
   "execution_count": 254,
   "metadata": {},
   "outputs": [],
   "source": [
    "login()"
   ]
  },
  {
   "cell_type": "code",
   "execution_count": 255,
   "metadata": {},
   "outputs": [],
   "source": [
    "driver.get('https://www.facebook.com/degrifsportaixlesbains/')\n",
    "time.sleep(5)"
   ]
  },
  {
   "cell_type": "code",
   "execution_count": 256,
   "metadata": {},
   "outputs": [],
   "source": [
    "driver.get(fb_post[2])"
   ]
  },
  {
   "cell_type": "code",
   "execution_count": 257,
   "metadata": {},
   "outputs": [],
   "source": [
    "time.sleep(5)"
   ]
  },
  {
   "cell_type": "code",
   "execution_count": 258,
   "metadata": {},
   "outputs": [],
   "source": [
    "def fomate_date(date:str) -> str:\n",
    "    if ' at' in date:\n",
    "        date = date.split(' at')[0]\n",
    "    date = date.split('-')[0]\n",
    "    if date[-1] == ' ':\n",
    "        date = date[:-1]\n",
    "    i = 0\n",
    "    for l in date:\n",
    "        if l.isdigit() and date[i - 1] != ' ':\n",
    "            date_list = list(date)\n",
    "            date_list.insert(i, ' ')\n",
    "            date = ''.join(date_list)\n",
    "            break\n",
    "        i += 1\n",
    "            \n",
    "    if len(date.split(' ')) <= 2:\n",
    "        date += f\" {datetime.now().year}\"\n",
    "        date = datetime.strptime(date, \"%B %d %Y\")\n",
    "        print(date)\n",
    "        return date\n",
    "    elif len(date.split(' ')) > 2 and ',' in date:\n",
    "        date = date[0: date.index(',') + 6].replace(',' , '')\n",
    "        print(date)\n",
    "        return datetime.strptime(date, \"%B %d %Y\")\n",
    "    # elif 'da'\n",
    "    "
   ]
  },
  {
   "cell_type": "code",
   "execution_count": 259,
   "metadata": {},
   "outputs": [],
   "source": [
    "# date_tag = driver.find_element(By.XPATH, \"//span[@id=':R5al5bb9l5qq9papd5aqH1:']\")\n",
    "date_tag = driver.find_element(By.XPATH, \"/html/body/div[1]/div/div[1]/div/div[3]/div/div/div[1]/div[1]/div/div/div/div/div/div/div/div/div/div/div/div/div/div[13]/div/div/div[2]/div/div[2]/div/div[2]/span/span\")"
   ]
  },
  {
   "cell_type": "code",
   "execution_count": 260,
   "metadata": {},
   "outputs": [],
   "source": [
    "date_tag.location_once_scrolled_into_view\n",
    "driver.execute_script(\"window.scrollBy(0, -150);\")"
   ]
  },
  {
   "cell_type": "code",
   "execution_count": 261,
   "metadata": {},
   "outputs": [
    {
     "data": {
      "text/plain": [
       "'December 4, 2023-@'"
      ]
     },
     "execution_count": 261,
     "metadata": {},
     "output_type": "execute_result"
    }
   ],
   "source": [
    "pytesseract.image_to_string(Image.open(io.BytesIO(date_tag.screenshot_as_png))).replace('\\n', '')"
   ]
  },
  {
   "cell_type": "code",
   "execution_count": 262,
   "metadata": {},
   "outputs": [],
   "source": [
    "soupe = BeautifulSoup(driver.page_source, 'lxml')"
   ]
  },
  {
   "cell_type": "code",
   "execution_count": 290,
   "metadata": {},
   "outputs": [
    {
     "data": {
      "text/plain": [
       "'Lido Lac du Bourget'"
      ]
     },
     "execution_count": 290,
     "metadata": {},
     "output_type": "execute_result"
    }
   ],
   "source": [
    "soupe.find('h2', {'class':'html-h2 xe8uvvx x11i5rnm xat24cr x1mh8g0r xexx8yu x4uap5 x18d9i69 xkhd6sd x1vvkbs x1heor9g x1qlqyl8 x1pd3egz x1a2a7pz x1gslohp x1yc453h'}).text"
   ]
  },
  {
   "cell_type": "code",
   "execution_count": 264,
   "metadata": {},
   "outputs": [
    {
     "data": {
      "text/plain": [
       "'Le risque d\\'avoir un restaurant \"les pieds dans l\\'eau\", c\\'est que nous avons parfois réellement les pieds dans l\\'eau quand la météo s\\'avère exceptionnellement capricieuse. Même si ce n’est pas la première fois, cela n’en reste pas moins inattendu et impressionnant ! Nous attendons actuellement que les eaux se retirent pour pouvoir évaluer l\\'ampleur des dégâts. Soyez assurés que nous mettons tout en œuvre pour rétablir la situation au plus vite et refaire une petite beauté à notre cher restaurant.Nous vous tiendrons informés sur nos réseaux, merci de votre compréhension et de votre soutien #restaurantlelido #lelido #tresserve'"
      ]
     },
     "execution_count": 264,
     "metadata": {},
     "output_type": "execute_result"
    }
   ],
   "source": [
    "soupe.find('span', {'class':'x193iq5w xeuugli x13faqbe x1vvkbs x1xmvt09 x1lliihq x1s928wv xhkezso x1gmr53x x1cpjm7i x1fgarty x1943h6x xudqn12 x3x7a5m x1f6kntn xvq8zen xo1l8bm xzsf02u x1yc453h'}).text"
   ]
  },
  {
   "cell_type": "code",
   "execution_count": 265,
   "metadata": {},
   "outputs": [],
   "source": [
    "like_icon = driver.find_element(By.CSS_SELECTOR, \"span.x193iq5w.xeuugli.x13faqbe.x1vvkbs.x1xmvt09.x1lliihq.x1s928wv.xhkezso.x1gmr53x.x1cpjm7i.x1fgarty.x1943h6x.xudqn12.x3x7a5m.x1f6kntn.xvq8zen.x1s688f.xi81zsa\")"
   ]
  },
  {
   "cell_type": "code",
   "execution_count": 266,
   "metadata": {},
   "outputs": [],
   "source": [
    "like_icon.location_once_scrolled_into_view\n",
    "driver.execute_script(\"window.scrollBy(0, -150);\")"
   ]
  },
  {
   "cell_type": "code",
   "execution_count": 267,
   "metadata": {},
   "outputs": [
    {
     "data": {
      "text/plain": [
       "'x193iq5w.xeuugli.x13faqbe.x1vvkbs.x1xmvt09.x1lliihq.x1s928wv.xhkezso.x1gmr53x.x1cpjm7i.x1fgarty.x1943h6x.xudqn12.x3x7a5m.x1f6kntn.xvq8zen.xk50ysn.xzsf02u.x1yc453h'"
      ]
     },
     "execution_count": 267,
     "metadata": {},
     "output_type": "execute_result"
    }
   ],
   "source": [
    "\"x193iq5w xeuugli x13faqbe x1vvkbs x1xmvt09 x1lliihq x1s928wv xhkezso x1gmr53x x1cpjm7i x1fgarty x1943h6x xudqn12 x3x7a5m x1f6kntn xvq8zen xk50ysn xzsf02u x1yc453h\".replace(' ', '.')"
   ]
  },
  {
   "cell_type": "code",
   "execution_count": 268,
   "metadata": {},
   "outputs": [],
   "source": [
    "\n",
    "comment_filter = driver.find_element(By.CSS_SELECTOR, \"div.x1i10hfl.xjbqb8w.x1ejq31n.xd10rxx.x1sy0etr.x17r0tee.x972fbf.xcfux6l.x1qhh985.xm0m39n.x9f619.x1ypdohk.xt0psk2.xe8uvvx.xdj266r.x11i5rnm.xat24cr.x1mh8g0r.xexx8yu.x4uap5.x18d9i69.xkhd6sd.x16tdsg8.x1hl2dhg.xggy1nq.x1o1ewxj.x3x9cwd.x1e5q0jg.x13rtm0m.x1n2onr6.x87ps6o.x1lku1pv.x1a2a7pz\")"
   ]
  },
  {
   "cell_type": "code",
   "execution_count": 269,
   "metadata": {},
   "outputs": [],
   "source": [
    "comment_filter.click()"
   ]
  },
  {
   "cell_type": "code",
   "execution_count": 270,
   "metadata": {},
   "outputs": [],
   "source": [
    "comment_filters = driver.find_elements(By.CSS_SELECTOR, 'span.x193iq5w.xeuugli.x13faqbe.x1vvkbs.x1xmvt09.x1lliihq.x1s928wv.xhkezso.x1gmr53x.x1cpjm7i.x1fgarty.x1943h6x.xudqn12.x3x7a5m.x1f6kntn.xvq8zen.xk50ysn.xzsf02u.x1yc453h')"
   ]
  },
  {
   "cell_type": "code",
   "execution_count": 271,
   "metadata": {},
   "outputs": [],
   "source": [
    "comment_filters[-1].click()"
   ]
  },
  {
   "cell_type": "code",
   "execution_count": 272,
   "metadata": {},
   "outputs": [],
   "source": [
    "view_all_comments = driver.find_elements(By.CSS_SELECTOR, \"span.x193iq5w.xeuugli.x13faqbe.x1vvkbs.x1xmvt09.x1lliihq.x1s928wv.xhkezso.x1gmr53x.x1cpjm7i.x1fgarty.x1943h6x.xudqn12.x3x7a5m.x1f6kntn.xvq8zen.x1s688f.xi81zsa\")"
   ]
  },
  {
   "cell_type": "code",
   "execution_count": 273,
   "metadata": {},
   "outputs": [
    {
     "data": {
      "text/plain": [
       "{'x': 0, 'y': 0}"
      ]
     },
     "execution_count": 273,
     "metadata": {},
     "output_type": "execute_result"
    }
   ],
   "source": [
    "view_all_comments[-1].location_once_scrolled_into_view"
   ]
  },
  {
   "cell_type": "code",
   "execution_count": 274,
   "metadata": {},
   "outputs": [
    {
     "data": {
      "text/plain": [
       "''"
      ]
     },
     "execution_count": 274,
     "metadata": {},
     "output_type": "execute_result"
    }
   ],
   "source": [
    "view_all_comments[-1].text"
   ]
  },
  {
   "cell_type": "code",
   "execution_count": 275,
   "metadata": {},
   "outputs": [],
   "source": [
    "if 'more'in view_all_comments[-1].text:\n",
    "    print('ok')\n",
    "    view_all_comments[-1].click()"
   ]
  },
  {
   "cell_type": "code",
   "execution_count": 276,
   "metadata": {},
   "outputs": [],
   "source": [
    "soupe = BeautifulSoup(driver.page_source, 'lxml')\n",
    "comment_section = soupe.find('div', {'class':'x1pi30zi x1swvt13 x1n2onr6'})"
   ]
  },
  {
   "cell_type": "code",
   "execution_count": 277,
   "metadata": {},
   "outputs": [],
   "source": [
    "comments = comment_section.find_all('div', {'role':'article', 'class':'x1n2onr6 x1swvt13 x1iorvi4 x78zum5 x1q0g3np x1a2a7pz'})"
   ]
  },
  {
   "cell_type": "code",
   "execution_count": 278,
   "metadata": {},
   "outputs": [
    {
     "data": {
      "text/plain": [
       "50"
      ]
     },
     "execution_count": 278,
     "metadata": {},
     "output_type": "execute_result"
    }
   ],
   "source": [
    "len(comments)"
   ]
  },
  {
   "cell_type": "code",
   "execution_count": 279,
   "metadata": {},
   "outputs": [
    {
     "data": {
      "text/plain": [
       "'220 reactions'"
      ]
     },
     "execution_count": 279,
     "metadata": {},
     "output_type": "execute_result"
    }
   ],
   "source": [
    "soupe.find('span', {'class':'xt0b8zv x2bj2ny xrbpyxo xl423tq'}).text + ' reactions'"
   ]
  },
  {
   "cell_type": "code",
   "execution_count": 280,
   "metadata": {},
   "outputs": [
    {
     "data": {
      "text/plain": [
       "'83 shares'"
      ]
     },
     "execution_count": 280,
     "metadata": {},
     "output_type": "execute_result"
    }
   ],
   "source": [
    "soupe.find_all('span', {'class':'x193iq5w xeuugli x13faqbe x1vvkbs x1xmvt09 x1lliihq x1s928wv xhkezso x1gmr53x x1cpjm7i x1fgarty x1943h6x xudqn12 x3x7a5m x1f6kntn xvq8zen xo1l8bm xi81zsa'})[-1].text.split(' ')[0] + ' shares'"
   ]
  },
  {
   "cell_type": "code",
   "execution_count": 281,
   "metadata": {},
   "outputs": [
    {
     "data": {
      "text/plain": [
       "'Lido Lac du Bourget'"
      ]
     },
     "execution_count": 281,
     "metadata": {},
     "output_type": "execute_result"
    }
   ],
   "source": [
    "comments[0].find('span', {'class':'x193iq5w xeuugli x13faqbe x1vvkbs x1xmvt09 x1lliihq x1s928wv xhkezso x1gmr53x x1cpjm7i x1fgarty x1943h6x x4zkp8e x676frb x1pg5gke x1sibtaa x1s688f xzsf02u'}).text"
   ]
  },
  {
   "cell_type": "code",
   "execution_count": 282,
   "metadata": {},
   "outputs": [
    {
     "data": {
      "text/plain": [
       "'24w'"
      ]
     },
     "execution_count": 282,
     "metadata": {},
     "output_type": "execute_result"
    }
   ],
   "source": [
    "comments[0].find('span', {'class':'html-span xdj266r x11i5rnm xat24cr x1mh8g0r xexx8yu x4uap5 x18d9i69 xkhd6sd x1hl2dhg x16tdsg8 x1vvkbs'}).text"
   ]
  },
  {
   "cell_type": "code",
   "execution_count": 283,
   "metadata": {},
   "outputs": [
    {
     "data": {
      "text/plain": [
       "'Comment by Edith WattrelosParis 24 weeks ago'"
      ]
     },
     "execution_count": 283,
     "metadata": {},
     "output_type": "execute_result"
    }
   ],
   "source": [
    "comments[5]['aria-label']"
   ]
  },
  {
   "cell_type": "code",
   "execution_count": 284,
   "metadata": {},
   "outputs": [
    {
     "data": {
      "text/plain": [
       "'Courage !'"
      ]
     },
     "execution_count": 284,
     "metadata": {},
     "output_type": "execute_result"
    }
   ],
   "source": [
    "comments[1].find('div', {'class':'xdj266r x11i5rnm xat24cr x1mh8g0r x1vvkbs'}).text"
   ]
  },
  {
   "cell_type": "code",
   "execution_count": 285,
   "metadata": {},
   "outputs": [],
   "source": [
    "def format_comment_date(date:str) -> str | None:\n",
    "    if 'd' in date:\n",
    "        date_str = date.replace('d', '')\n",
    "        date = (datetime.now() - timedelta(days=int(date_str))).strftime(\"%d/%m/%Y\")\n",
    "        return date\n",
    "    if 'w' in date:\n",
    "        date_str = date.replace('w', '')\n",
    "        date = (datetime.now() - timedelta(days=(int(date_str)*7))).strftime(\"%d/%m/%Y\")\n",
    "        return date\n",
    "    if 'y' in date:\n",
    "        date_str = date.replace('y', '')\n",
    "        date = (datetime.now() - timedelta(days=(int(date_str)*365))).strftime(\"%d/%m/%Y\")\n",
    "        return date"
   ]
  },
  {
   "cell_type": "code",
   "execution_count": 286,
   "metadata": {},
   "outputs": [
    {
     "data": {
      "text/plain": [
       "'25/05/2023'"
      ]
     },
     "execution_count": 286,
     "metadata": {},
     "output_type": "execute_result"
    }
   ],
   "source": [
    "format_comment_date('1y')"
   ]
  },
  {
   "cell_type": "markdown",
   "metadata": {},
   "source": [
    "current_height = driver.execute_script('return window.innerHeight;')"
   ]
  },
  {
   "cell_type": "code",
   "execution_count": 287,
   "metadata": {},
   "outputs": [],
   "source": [
    "def save_file():\n",
    "    with open(f\"{unidecode(page_data['name']).replace(' ', '_')}.json\", 'w') as openfile:\n",
    "        openfile.write(json.dumps(page_data, indent=4))"
   ]
  },
  {
   "cell_type": "code",
   "execution_count": 288,
   "metadata": {},
   "outputs": [
    {
     "ename": "NameError",
     "evalue": "name 'page_data' is not defined",
     "output_type": "error",
     "traceback": [
      "\u001b[1;31m---------------------------------------------------------------------------\u001b[0m",
      "\u001b[1;31mNameError\u001b[0m                                 Traceback (most recent call last)",
      "Cell \u001b[1;32mIn[288], line 1\u001b[0m\n\u001b[1;32m----> 1\u001b[0m \u001b[43msave_file\u001b[49m\u001b[43m(\u001b[49m\u001b[43m)\u001b[49m\n",
      "Cell \u001b[1;32mIn[287], line 2\u001b[0m, in \u001b[0;36msave_file\u001b[1;34m()\u001b[0m\n\u001b[0;32m      1\u001b[0m \u001b[38;5;28;01mdef\u001b[39;00m \u001b[38;5;21msave_file\u001b[39m():\n\u001b[1;32m----> 2\u001b[0m     \u001b[38;5;28;01mwith\u001b[39;00m \u001b[38;5;28mopen\u001b[39m(\u001b[38;5;124mf\u001b[39m\u001b[38;5;124m\"\u001b[39m\u001b[38;5;132;01m{\u001b[39;00munidecode(\u001b[43mpage_data\u001b[49m[\u001b[38;5;124m'\u001b[39m\u001b[38;5;124mname\u001b[39m\u001b[38;5;124m'\u001b[39m])\u001b[38;5;241m.\u001b[39mreplace(\u001b[38;5;124m'\u001b[39m\u001b[38;5;124m \u001b[39m\u001b[38;5;124m'\u001b[39m,\u001b[38;5;250m \u001b[39m\u001b[38;5;124m'\u001b[39m\u001b[38;5;124m_\u001b[39m\u001b[38;5;124m'\u001b[39m)\u001b[38;5;132;01m}\u001b[39;00m\u001b[38;5;124m.json\u001b[39m\u001b[38;5;124m\"\u001b[39m, \u001b[38;5;124m'\u001b[39m\u001b[38;5;124mw\u001b[39m\u001b[38;5;124m'\u001b[39m) \u001b[38;5;28;01mas\u001b[39;00m openfile:\n\u001b[0;32m      3\u001b[0m         openfile\u001b[38;5;241m.\u001b[39mwrite(json\u001b[38;5;241m.\u001b[39mdumps(page_data, indent\u001b[38;5;241m=\u001b[39m\u001b[38;5;241m4\u001b[39m))\n",
      "\u001b[1;31mNameError\u001b[0m: name 'page_data' is not defined"
     ]
    }
   ],
   "source": [
    "save_file()"
   ]
  },
  {
   "cell_type": "code",
   "execution_count": null,
   "metadata": {},
   "outputs": [],
   "source": [
    "comments_data = []\n",
    "for comment in comments:\n",
    "    c = {}\n",
    "    c['author'] = comment.find('span', {'class':'x193iq5w xeuugli x13faqbe x1vvkbs x1xmvt09 x1lliihq x1s928wv xhkezso x1gmr53x x1cpjm7i x1fgarty x1943h6x x4zkp8e x676frb x1pg5gke x1sibtaa x1s688f xzsf02u'}).text\n",
    "    c['puplished_at'] = format_comment_date(comment.find('span', {'class':'html-span xdj266r x11i5rnm xat24cr x1mh8g0r xexx8yu x4uap5 x18d9i69 xkhd6sd x1hl2dhg x16tdsg8 x1vvkbs'}).text)\n",
    "    c['text'] = comment.find('div', {'class':'xdj266r x11i5rnm xat24cr x1mh8g0r x1vvkbs'}).text\n",
    "    try:\n",
    "        c['reaction'] = len(comment.find('div', {'class':'x6s0dn4 x78zum5 x15zctf7 x1e558r4'}).find_all('span'))\n",
    "    except:\n",
    "        c['reaction'] = 0\n",
    "    comments_data.append(c)"
   ]
  },
  {
   "cell_type": "code",
   "execution_count": null,
   "metadata": {},
   "outputs": [],
   "source": [
    "for comment in comments:\n",
    "    try:\n",
    "        print(len(comment.find('div', {'class':'x6s0dn4 x78zum5 x15zctf7 x1e558r4'}).find_all('span')))\n",
    "    except:\n",
    "        print('0')"
   ]
  },
  {
   "cell_type": "code",
   "execution_count": null,
   "metadata": {},
   "outputs": [
    {
     "data": {
      "text/plain": [
       "[{'author': 'Lido Lac du Bourget',\n",
       "  'puplished_at': '08/12/2023',\n",
       "  'text': \"Merci pour vos messages d'encouragement !\",\n",
       "  'reaction': 2},\n",
       " {'author': 'Cathy Navello',\n",
       "  'puplished_at': '08/12/2023',\n",
       "  'text': 'Courage !',\n",
       "  'reaction': 0},\n",
       " {'author': 'Aurore Blondel',\n",
       "  'puplished_at': '08/12/2023',\n",
       "  'text': 'Bon courage à tous soyez fort !',\n",
       "  'reaction': 0},\n",
       " {'author': 'Charlotte Amos Deurweilher',\n",
       "  'puplished_at': '15/12/2023',\n",
       "  'text': 'Mince … je vous souhaite du soutien et des bras quand les eaux se retireront.S’il y’a besoin d’aide pour débarrasser ou je ne sais quelle autre coup de main; n’hésitez pas à nous solliciter ',\n",
       "  'reaction': 0},\n",
       " {'author': 'Carole Lucadjo',\n",
       "  'puplished_at': '08/12/2023',\n",
       "  'text': \"Il va falloir envisager d'autres moyens de ce protéger des eaux parce que chaque année vous devez tous rénover, c dur et bien dommage tous ce travail détruit chaque année\",\n",
       "  'reaction': 1},\n",
       " {'author': 'Edith WattrelosParis',\n",
       "  'puplished_at': '08/12/2023',\n",
       "  'text': 'Ah mince …. Bon courage en tout cas …',\n",
       "  'reaction': 0},\n",
       " {'author': 'Lolo Dusud',\n",
       "  'puplished_at': '08/12/2023',\n",
       "  'text': 'Bon courage',\n",
       "  'reaction': 0},\n",
       " {'author': 'Cécile Kisiel',\n",
       "  'puplished_at': '08/12/2023',\n",
       "  'text': 'Ah mince...courage à vous',\n",
       "  'reaction': 0},\n",
       " {'author': 'Liliane Bernard Briens',\n",
       "  'puplished_at': '08/12/2023',\n",
       "  'text': 'Bon courage !',\n",
       "  'reaction': 0},\n",
       " {'author': 'Olympe Cora',\n",
       "  'puplished_at': '08/12/2023',\n",
       "  'text': 'Force et courage  j aime bcp votre restaurant  cela m empêchera pas de revenir au plaisir ',\n",
       "  'reaction': 0},\n",
       " {'author': 'George Marie-Brigitte Macbriar',\n",
       "  'puplished_at': '08/12/2023',\n",
       "  'text': 'Stay strong!',\n",
       "  'reaction': 0},\n",
       " {'author': 'Eric Rolland',\n",
       "  'puplished_at': '08/12/2023',\n",
       "  'text': 'L’équipe de la plage se joint à moi pour vous donner du courage dans ce moment particulier… soyez fort!!!',\n",
       "  'reaction': 2},\n",
       " {'author': 'Martine Philibert',\n",
       "  'puplished_at': '08/12/2023',\n",
       "  'text': \"Bon courage à toute l'équipe...\",\n",
       "  'reaction': 0},\n",
       " {'author': 'Faby Chabot',\n",
       "  'puplished_at': '08/12/2023',\n",
       "  'text': 'Bon courage ',\n",
       "  'reaction': 0},\n",
       " {'author': 'Emmanuelle Reffet',\n",
       "  'puplished_at': '08/12/2023',\n",
       "  'text': 'Courage !',\n",
       "  'reaction': 0},\n",
       " {'author': 'Dalia Mel',\n",
       "  'puplished_at': '08/12/2023',\n",
       "  'text': 'Jeremy Nguyen',\n",
       "  'reaction': 2},\n",
       " {'author': 'Muriel Dmg',\n",
       "  'puplished_at': '08/12/2023',\n",
       "  'text': 'Bon courage pour vousHâte de vous retrouver ',\n",
       "  'reaction': 1},\n",
       " {'author': 'Ghislaine Reille',\n",
       "  'puplished_at': '08/12/2023',\n",
       "  'text': ' courage !',\n",
       "  'reaction': 0},\n",
       " {'author': 'Agnes Kozuch',\n",
       "  'puplished_at': '08/12/2023',\n",
       "  'text': 'Bon courage. C est tellement difficile..',\n",
       "  'reaction': 0},\n",
       " {'author': 'Marie Rose Vallana',\n",
       "  'puplished_at': '08/12/2023',\n",
       "  'text': 'Bon courage  ....',\n",
       "  'reaction': 0},\n",
       " {'author': 'Rachel Munafo',\n",
       "  'puplished_at': '08/12/2023',\n",
       "  'text': 'Courage ',\n",
       "  'reaction': 0},\n",
       " {'author': 'Vanessa Lontrade',\n",
       "  'puplished_at': '08/12/2023',\n",
       "  'text': 'Le terme “ pied dans l’eau” prend tout son sens !Bon courage ',\n",
       "  'reaction': 0},\n",
       " {'author': 'Ameline Bouillet',\n",
       "  'puplished_at': '08/12/2023',\n",
       "  'text': 'Vincent Bouillet',\n",
       "  'reaction': 0},\n",
       " {'author': 'Josiane Quattrocchi',\n",
       "  'puplished_at': '08/12/2023',\n",
       "  'text': 'Courage ',\n",
       "  'reaction': 0},\n",
       " {'author': 'Kathelijne Bogaert',\n",
       "  'puplished_at': '08/12/2023',\n",
       "  'text': 'Peter Voshol Marianne Braamhaar-brinks Fulco BraamhaarZo hoog staat het water nu..Sterkte voor het restaurant ',\n",
       "  'reaction': 2},\n",
       " {'author': 'Lily Ginieux',\n",
       "  'puplished_at': '08/12/2023',\n",
       "  'text': 'Courage à vous',\n",
       "  'reaction': 0},\n",
       " {'author': 'Brigitte Gillot',\n",
       "  'puplished_at': '08/12/2023',\n",
       "  'text': 'Bon courage à vous ',\n",
       "  'reaction': 0},\n",
       " {'author': 'Cé Cilia',\n",
       "  'puplished_at': '08/12/2023',\n",
       "  'text': 'Rémy Vaillant  quand même...',\n",
       "  'reaction': 0},\n",
       " {'author': 'Virginie Dufour',\n",
       "  'puplished_at': '08/12/2023',\n",
       "  'text': 'Bon courage a vous',\n",
       "  'reaction': 0},\n",
       " {'author': 'Mari-on Bou',\n",
       "  'puplished_at': '08/12/2023',\n",
       "  'text': 'Quelle tristesse.. Force et courage et revenez nous vite! ',\n",
       "  'reaction': 0},\n",
       " {'author': 'Pierre Barthelemy-Ivanoff',\n",
       "  'puplished_at': '08/12/2023',\n",
       "  'text': 'Bon courage !',\n",
       "  'reaction': 0},\n",
       " {'author': 'Stephanie Padey',\n",
       "  'puplished_at': '08/12/2023',\n",
       "  'text': 'Pleins de courage à vous pour remettre tout ça au top…. Très beau cadre mais voila …. Le lac est là',\n",
       "  'reaction': 0},\n",
       " {'author': 'Isabelle Rouas',\n",
       "  'puplished_at': '08/12/2023',\n",
       "  'text': 'Courage à vous',\n",
       "  'reaction': 0},\n",
       " {'author': 'Julia Roubaud',\n",
       "  'puplished_at': '08/12/2023',\n",
       "  'text': \"woooo quel coup dur pour vous. L'entrepreneuse que je suis compatis sincèrement pour vous, vraiment. Courage et résilience !\",\n",
       "  'reaction': 0},\n",
       " {'author': 'Linda Moumbouilou',\n",
       "  'puplished_at': '08/12/2023',\n",
       "  'text': 'Courage!!',\n",
       "  'reaction': 0},\n",
       " {'author': 'NeyLin Choupi',\n",
       "  'puplished_at': '22/12/2023',\n",
       "  'text': 'Courage ',\n",
       "  'reaction': 0},\n",
       " {'author': 'Manou Hoa',\n",
       "  'puplished_at': '08/12/2023',\n",
       "  'text': 'Malbaraise la BraiZe',\n",
       "  'reaction': 0},\n",
       " {'author': 'Willy Buttin',\n",
       "  'puplished_at': '08/12/2023',\n",
       "  'text': 'Manon Buttin',\n",
       "  'reaction': 0},\n",
       " {'author': 'Jean Philippe Clerc',\n",
       "  'puplished_at': '08/12/2023',\n",
       "  'text': 'Avant il garée les bateaux en bas, restaurants en haut, depuis des déssénies il font le contraire, jé vue le lac plus haut encore...',\n",
       "  'reaction': 0},\n",
       " {'author': 'Céd Hp',\n",
       "  'puplished_at': '08/12/2023',\n",
       "  'text': 'Déby Débo ',\n",
       "  'reaction': 0},\n",
       " {'author': 'Marie France Bilard',\n",
       "  'puplished_at': '08/12/2023',\n",
       "  'text': 'Bon courage à toute l équipe..Nous espérons que les dégâts ne seront pas trop importants et que vous pourrez rouvrir bien vite..',\n",
       "  'reaction': 0},\n",
       " {'author': 'Alison Sgn',\n",
       "  'puplished_at': '08/12/2023',\n",
       "  'text': 'David Debouzy ',\n",
       "  'reaction': 0},\n",
       " {'author': 'Gavillet Isabelle',\n",
       "  'puplished_at': '08/12/2023',\n",
       "  'text': 'Courage à  vous....tout mon soutien dans cette dure épreuve...les caprices de la Dame du Lac...ne vous ont pas épargné ....',\n",
       "  'reaction': 0},\n",
       " {'author': 'Niniie Ylan Amelya',\n",
       "  'puplished_at': '08/12/2023',\n",
       "  'text': 'Elodie Nodii Greggia',\n",
       "  'reaction': 0},\n",
       " {'author': 'Claude Dantonny',\n",
       "  'puplished_at': '08/12/2023',\n",
       "  'text': \"Francoise Pardonneau Enders C'est là où on avait mangé, au bord du lac...On avait terminé à l'intérieur à cause de la pluie.. \",\n",
       "  'reaction': 0},\n",
       " {'author': 'Delphine Chatelain Lefebvre',\n",
       "  'puplished_at': '08/12/2023',\n",
       "  'text': 'Séverine Rabe ',\n",
       "  'reaction': 0},\n",
       " {'author': 'Jean Philippe Clerc',\n",
       "  'puplished_at': '08/12/2023',\n",
       "  'text': \"Ouff les fauteuils son sauvée....hi hi heureusement on n'a mangé avant,\",\n",
       "  'reaction': 0},\n",
       " {'author': 'Celia Brd',\n",
       "  'puplished_at': '08/12/2023',\n",
       "  'text': 'Thomas Audenino Theo Berardi',\n",
       "  'reaction': 0},\n",
       " {'author': 'Katrin Pylypchuk',\n",
       "  'puplished_at': '08/12/2023',\n",
       "  'text': 'Fabien Girard ',\n",
       "  'reaction': 0},\n",
       " {'author': 'Seb Val',\n",
       "  'puplished_at': '22/12/2023',\n",
       "  'text': 'Coralie Nicolas Marchand regarde ',\n",
       "  'reaction': 0},\n",
       " {'author': 'Jean Philippe Clerc',\n",
       "  'puplished_at': '08/12/2023',\n",
       "  'text': \"On n'a bien rigoler...\",\n",
       "  'reaction': 0},\n",
       " {'author': 'Duffy Marie',\n",
       "  'puplished_at': '08/12/2023',\n",
       "  'text': '',\n",
       "  'reaction': 0},\n",
       " {'author': 'Marlene Lacroix',\n",
       "  'puplished_at': '08/12/2023',\n",
       "  'text': 'Stéphanie Karkatcharian ',\n",
       "  'reaction': 0},\n",
       " {'author': 'Fab De-lareux',\n",
       "  'puplished_at': '15/12/2023',\n",
       "  'text': \"Si besoin d un expert d'assuré, je vous conseil Mickaël Sanchez... Il nous a fortement aidé pour notre sinistre... Bon courage\",\n",
       "  'reaction': 0},\n",
       " {'author': 'Ludovic Desneulin',\n",
       "  'puplished_at': '08/12/2023',\n",
       "  'text': 'Lillie Tohuti',\n",
       "  'reaction': 0},\n",
       " {'author': 'Casper Namro',\n",
       "  'puplished_at': '08/12/2023',\n",
       "  'text': 'Oh merde...',\n",
       "  'reaction': 0}]"
      ]
     },
     "execution_count": 233,
     "metadata": {},
     "output_type": "execute_result"
    }
   ],
   "source": [
    "comments_data"
   ]
  },
  {
   "cell_type": "code",
   "execution_count": null,
   "metadata": {},
   "outputs": [],
   "source": [
    "import os"
   ]
  },
  {
   "cell_type": "code",
   "execution_count": null,
   "metadata": {},
   "outputs": [
    {
     "data": {
      "text/plain": [
       "['Degrif_Sport_Aix_les_Bains.json']"
      ]
     },
     "execution_count": 235,
     "metadata": {},
     "output_type": "execute_result"
    }
   ],
   "source": [
    "os.listdir(\"C:/Users/Keller/Documents/Jobdev/scraping-v3/social-media-scraper/static/facebook\")"
   ]
  },
  {
   "cell_type": "code",
   "execution_count": null,
   "metadata": {},
   "outputs": [],
   "source": []
  }
 ],
 "metadata": {
  "kernelspec": {
   "display_name": "Python 3",
   "language": "python",
   "name": "python3"
  },
  "language_info": {
   "codemirror_mode": {
    "name": "ipython",
    "version": 3
   },
   "file_extension": ".py",
   "mimetype": "text/x-python",
   "name": "python",
   "nbconvert_exporter": "python",
   "pygments_lexer": "ipython3",
   "version": "3.11.3"
  }
 },
 "nbformat": 4,
 "nbformat_minor": 2
}
