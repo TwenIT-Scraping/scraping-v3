{
 "cells": [
  {
   "cell_type": "code",
   "execution_count": 1,
   "metadata": {},
   "outputs": [],
   "source": [
    "import pytesseract\n",
    "from PIL import Image\n",
    "import base64\n",
    "import io"
   ]
  },
  {
   "cell_type": "code",
   "execution_count": 2,
   "metadata": {},
   "outputs": [],
   "source": [
    "tesseract_path = \"C:/Users/Keller/AppData/Local/Programs/Tesseract-OCR\""
   ]
  },
  {
   "cell_type": "code",
   "execution_count": 3,
   "metadata": {},
   "outputs": [],
   "source": [
    "pytesseract.pytesseract.tesseract_cmd = \"C:/Program Files (x86)/pytesseract/tesseract.exe\""
   ]
  },
  {
   "cell_type": "code",
   "execution_count": 4,
   "metadata": {},
   "outputs": [],
   "source": [
    "from bs4 import BeautifulSoup\n",
    "from selenium import webdriver\n",
    "from selenium.webdriver.common.by import By\n",
    "from selenium.webdriver.common.keys import Keys\n",
    "from selenium.webdriver.support.ui import WebDriverWait\n",
    "from selenium.common.exceptions import ElementNotVisibleException, ElementNotSelectableException, NoSuchElementException\n",
    "from selenium.webdriver.support import expected_conditions as EC\n",
    "import time\n",
    "from random import randint\n",
    "from datetime import datetime"
   ]
  },
  {
   "cell_type": "code",
   "execution_count": 5,
   "metadata": {},
   "outputs": [],
   "source": [
    "fb_page = [\n",
    "    {'id': 191, 'establishment_name': 'Degrif Sport Aix-les-Bains', 'establishment_id': 55, 'idprovider': 12, 'category': 'Social', 'source': 'Facebook', 'url': 'https://www.facebook.com/degrifsportaixlesbains', 'language': 'fr', 'last_review_date': None}, \n",
    "    {'id': 187, 'establishment_name': 'Mondovélo Chambéry', 'establishment_id': 54, 'idprovider': 12, 'category': 'Social', 'source': 'Facebook', 'url': 'https://www.facebook.com/mondovelochambery', 'language': 'fr', 'last_review_date': None}, \n",
    "    {'id': 172, 'establishment_name': 'Sport2000 France', 'establishment_id': 52, 'idprovider': 12, 'category': 'Social', 'source': 'Facebook', 'url': 'https://www.facebook.com/SPORT2000France', 'language': 'fr', 'last_review_date': None}, \n",
    "    {'id': 170, 'establishment_name': 'Sport2000 Chambéry', 'establishment_id': 51, 'idprovider': 12, 'category': 'Social', 'source': 'Facebook', 'url': 'https://www.facebook.com/sport2000chambery', 'language': 'fr', 'last_review_date': None}, \n",
    "    {'id': 160, 'establishment_name': 'Team Chambé', 'establishment_id': 49, 'idprovider': 12, 'category': 'Social', 'source': 'Facebook', 'url': 'https://www.facebook.com/TeamChambe', 'language': 'fr', 'last_review_date': None}, \n",
    "    {'id': 154, 'establishment_name': 'Domaine de Bonelli', 'establishment_id': 48, 'idprovider': 12, 'category': 'Social', 'source': 'Facebook', 'url': 'https://www.facebook.com/Domaine-de-Bonelli-100092850519521', 'language': 'fr', 'last_review_date': None}, \n",
    "    {'id': 151, 'establishment_name': 'Hôtel du Golfe Ajaccio', 'establishment_id': 47, 'idprovider': 12, 'category': 'Social', 'source': 'Facebook', 'url': 'https://www.facebook.com/hoteldugolfeaja', 'language': 'fr', 'last_review_date': None}, \n",
    "    {'id': 142, 'establishment_name': 'Dolce Notte', 'establishment_id': 46, 'idprovider': 12, 'category': 'Social', 'source': 'Facebook', 'url': 'https://www.facebook.com/hoteldolcenotte', 'language': 'fr', 'last_review_date': None}, \n",
    "    {'id': 128, 'establishment_name': \"Le Carre d'As\", 'establishment_id': 44, 'idprovider': 12, 'category': 'Social', 'source': 'Facebook', 'url': 'https://www.facebook.com/lecarredas73', 'language': 'fr', 'last_review_date': None}, \n",
    "    {'id': 103, 'establishment_name': 'Le Central', 'establishment_id': 29, 'idprovider': 12, 'category': 'Social', 'source': 'Facebook', 'url': 'https://www.facebook.com/lecentralcapferret', 'language': 'fr', 'last_review_date': None}, \n",
    "    {'id': 101, 'establishment_name': 'Le Château de Candie', 'establishment_id': 4, 'idprovider': 12, 'category': 'Social', 'source': 'Facebook', 'url': 'https://www.facebook.com/chateaucandie', 'language': 'fr', 'last_review_date': None}, \n",
    "    {'id': 87, 'establishment_name': 'Hotel Antequera Hills', 'establishment_id': 27, 'idprovider': 12, 'category': 'Social', 'source': 'Facebook', 'url': 'https://www.facebook.com/hotelantequerahills', 'language': 'es', 'last_review_date': None}, \n",
    "    {'id': 86, 'establishment_name': 'Hotel Chamartín The One', 'establishment_id': 28, 'idprovider': 12, 'category': 'Social', 'source': 'Facebook', 'url': 'https://www.facebook.com/ChamartinTheOne', 'language': 'es', 'last_review_date': None}, \n",
    "    {'id': 65, 'establishment_name': 'ESF Chamonix', 'establishment_id': 23, 'idprovider': 12, 'category': 'Social', 'source': 'Facebook', 'url': 'https://www.facebook.com/esfchamonix', 'language': 'fr', 'last_review_date': None}, \n",
    "    {'id': 58, 'establishment_name': 'Grand Hôtel des Alpes', 'establishment_id': 18, 'idprovider': 12, 'category': 'Social', 'source': 'Facebook', 'url': 'https://www.facebook.com/grandhoteldesalpes', 'language': 'fr', 'last_review_date': None}, \n",
    "    {'id': 40, 'establishment_name': 'Office de Tourisme de Chamonix-Mont-Blanc', 'establishment_id': 12, 'idprovider': 12, 'category': 'Social', 'source': 'Facebook', 'url': 'https://www.facebook.com/ChamonixMontBlanc', 'language': 'fr', 'last_review_date': None}, \n",
    "    {'id': 26, 'establishment_name': 'Nexties', 'establishment_id': 1, 'idprovider': 12, 'category': 'Social', 'source': 'Facebook', 'url': 'https://www.facebook.com/nexties.fr', 'language': 'fr', 'last_review_date': None},\n",
    "    {'id': 21, 'establishment_name': 'Madame Vacances', 'establishment_id': 7, 'idprovider': 12, 'category': 'Social', 'source': 'Facebook', 'url': 'https://www.facebook.com/MadameVacances', 'language': 'fr', 'last_review_date': None}, \n",
    "    {'id': 3, 'establishment_name': 'Le Lido', 'establishment_id': 5, 'idprovider': 12, 'category': 'Social', 'source': 'Facebook', 'url': 'https://www.facebook.com/lidolacdubourget', 'language': 'fr', 'last_review_date': None}\n",
    "]"
   ]
  },
  {
   "cell_type": "code",
   "execution_count": null,
   "metadata": {},
   "outputs": [],
   "source": [
    "[\n",
    "    {'id': 161, 'establishment_name': 'Team Chambé', 'establishment_id': 49, 'category': 'Social', 'source': 'Twitter (X)', 'url': 'https://twitter.com/TeamChambe', 'language': 'fr', 'last_review_date': None}, \n",
    "    {'id': 127, 'establishment_name': 'Hotel Chamartín The One', 'establishment_id': 28, 'category': 'Social', 'source': 'Twitter (X)', 'url': 'https://twitter.com/ChamartinTheOne', 'language': 'es', 'last_review_date': None}, \n",
    "    {'id': 99, 'establishment_name': 'Le Château de Candie', 'establishment_id': 4, 'category': 'Social', 'source': 'Twitter (X)', 'url': 'https://twitter.com/chateaudecandie', 'language': 'fr', 'last_review_date': None}, \n",
    "    {'id': 91, 'establishment_name': 'Hotel Chamartín The One', 'establishment_id': 28, 'category': 'Social', 'source': 'Twitter (X)', 'url': 'https://twitter.com/ChamartinTheOne', 'language': 'es', 'last_review_date': None}, \n",
    "    {'id': 66, 'establishment_name': 'ESF Chamonix', 'establishment_id': 23, 'category': 'Social', 'source': 'Twitter (X)', 'url': 'https://twitter.com/chamonixesf', 'language': 'fr', 'last_review_date': None}, \n",
    "    {'id': 41, 'establishment_name': 'Office de Tourisme de Chamonix-Mont-Blanc', 'establishment_id': 12, 'category': 'Social', 'source': 'Twitter (X)', 'url': 'https://twitter.com/Chamonix_France', 'language': 'fr', 'last_review_date': None}, \n",
    "    {'id': 28, 'establishment_name': 'Nexties', 'establishment_id': 1, 'category': 'Social', 'source': 'Twitter (X)', 'url': 'https://twitter.com/nexties_', 'language': 'fr', 'last_review_date': None}, \n",
    "    {'id': 22, 'establishment_name': 'Madame Vacances', 'establishment_id': 7, 'category': 'Social', 'source': 'Twitter (X)', 'url': 'https://twitter.com/Madame_Vacances', 'language': 'fr', 'last_review_date': None}\n",
    "]"
   ]
  },
  {
   "cell_type": "code",
   "execution_count": 7,
   "metadata": {},
   "outputs": [],
   "source": [
    "chrome_options = webdriver.ChromeOptions()\n",
    "chrome_options.add_argument('disable-translate')\n",
    "chrome_options.add_argument('--lang=fr')"
   ]
  },
  {
   "cell_type": "code",
   "execution_count": 8,
   "metadata": {},
   "outputs": [],
   "source": [
    "credentials = {\n",
    "    \"username\": \"\",\n",
    "    \"phone\":\"\",\n",
    "    \"password\":\"\"\n",
    "}"
   ]
  },
  {
   "cell_type": "code",
   "execution_count": 9,
   "metadata": {},
   "outputs": [],
   "source": [
    "driver = webdriver.Chrome(options=chrome_options)"
   ]
  },
  {
   "cell_type": "code",
   "execution_count": 10,
   "metadata": {},
   "outputs": [
    {
     "data": {
      "text/plain": [
       "<selenium.webdriver.support.wait.WebDriverWait (session=\"5fc00894e64024240719b16a71c477b3\")>"
      ]
     },
     "execution_count": 10,
     "metadata": {},
     "output_type": "execute_result"
    }
   ],
   "source": [
    "driver.maximize_window()\n",
    "driver.get(\"https://facebook.com/\")\n",
    "WebDriverWait(driver, 10000)"
   ]
  },
  {
   "cell_type": "code",
   "execution_count": 11,
   "metadata": {},
   "outputs": [],
   "source": [
    "def login():\n",
    "    time.sleep(randint(1, 3))\n",
    "    username_input = driver.find_element(By.XPATH, \"//input[@data-testid='royal_email']\")\n",
    "    password_input = driver.find_element(By.XPATH, \"//input[@data-testid='royal_pass']\")\n",
    "    btn_login = driver.find_element(By.XPATH, \"//button[@data-testid='royal_login_button']\")\n",
    "    username_input.click()\n",
    "    time.sleep(randint(1, 3))\n",
    "    username_input.send_keys(credentials['phone'])\n",
    "    time.sleep(randint(1, 3))\n",
    "    password_input.click()\n",
    "    time.sleep(randint(1, 3))\n",
    "    password_input.send_keys(credentials['password'])\n",
    "    time.sleep(randint(1, 3))\n",
    "    btn_login.click()\n",
    "    WebDriverWait(driver, 8000)"
   ]
  },
  {
   "cell_type": "code",
   "execution_count": 12,
   "metadata": {},
   "outputs": [],
   "source": [
    "login()"
   ]
  },
  {
   "cell_type": "code",
   "execution_count": 13,
   "metadata": {},
   "outputs": [],
   "source": [
    "driver.get(\"https://www.facebook.com/lidolacdubourget\")"
   ]
  },
  {
   "cell_type": "code",
   "execution_count": 60,
   "metadata": {},
   "outputs": [],
   "source": [
    "post_container = driver.find_element(By.CSS_SELECTOR, \"div.x9f619.x1n2onr6.x1ja2u2z.xeuugli.xs83m0k.x1xmf6yo.x1emribx.x1e56ztr.x1i64zmx.xjl7jj.x19h7ccj.xu9j1y6.x7ep2pv\")"
   ]
  },
  {
   "cell_type": "code",
   "execution_count": 61,
   "metadata": {},
   "outputs": [
    {
     "data": {
      "text/plain": [
       "10"
      ]
     },
     "execution_count": 61,
     "metadata": {},
     "output_type": "execute_result"
    }
   ],
   "source": [
    "len(post_container.find_elements(By.CSS_SELECTOR, \"span.x193iq5w.xeuugli.x13faqbe.x1vvkbs.x1xmvt09.x1lliihq.x1s928wv.xhkezso.x1gmr53x.x1cpjm7i.x1fgarty.x1943h6x.x4zkp8e.x676frb.x1pg5gke.x1sibtaa.xo1l8bm.xi81zsa.x1yc453h\"))"
   ]
  },
  {
   "cell_type": "code",
   "execution_count": 62,
   "metadata": {},
   "outputs": [],
   "source": [
    "links = post_container.find_elements(By.CSS_SELECTOR, \"span.x193iq5w.xeuugli.x13faqbe.x1vvkbs.x1xmvt09.x1lliihq.x1s928wv.xhkezso.x1gmr53x.x1cpjm7i.x1fgarty.x1943h6x.x4zkp8e.x676frb.x1pg5gke.x1sibtaa.xo1l8bm.xi81zsa.x1yc453h\")"
   ]
  },
  {
   "cell_type": "code",
   "execution_count": 63,
   "metadata": {},
   "outputs": [],
   "source": [
    "item = links[0].find_element(By.CSS_SELECTOR, 'span.x4k7w5x.x1h91t0o.x1h9r5lt.x1jfb8zj.xv2umb2.x1beo9mf.xaigb6o.x12ejxvf.x3igimt.xarpa2k.xedcshv.x1lytzrv.x1t2pt76.x7ja8zs.x1qrby5j')"
   ]
  },
  {
   "cell_type": "code",
   "execution_count": 64,
   "metadata": {},
   "outputs": [
    {
     "data": {
      "text/plain": [
       "'April 17'"
      ]
     },
     "execution_count": 64,
     "metadata": {},
     "output_type": "execute_result"
    }
   ],
   "source": [
    "pytesseract.image_to_string(Image.open(io.BytesIO(item.screenshot_as_png))).replace('\\n', '')"
   ]
  },
  {
   "cell_type": "code",
   "execution_count": 19,
   "metadata": {},
   "outputs": [],
   "source": [
    "dates = []\n",
    "\n",
    "for i in range(len(links)):\n",
    "    if i != 0:\n",
    "        links[i].location_once_scrolled_into_view\n",
    "        driver.find_element(By.TAG_NAME, 'body').send_keys(Keys.PAGE_UP)\n",
    "        item = links[i].find_element(By.CSS_SELECTOR, 'span.x4k7w5x.x1h91t0o.x1h9r5lt.x1jfb8zj.xv2umb2.x1beo9mf.xaigb6o.x12ejxvf.x3igimt.xarpa2k.xedcshv.x1lytzrv.x1t2pt76.x7ja8zs.x1qrby5j')\n",
    "        date = pytesseract.image_to_string(Image.open(io.BytesIO(item.screenshot_as_png))).replace('\\n', '')\n",
    "    item = links[i].find_element(By.CSS_SELECTOR, 'span.x4k7w5x.x1h91t0o.x1h9r5lt.x1jfb8zj.xv2umb2.x1beo9mf.xaigb6o.x12ejxvf.x3igimt.xarpa2k.xedcshv.x1lytzrv.x1t2pt76.x7ja8zs.x1qrby5j')\n",
    "    date = pytesseract.image_to_string(Image.open(io.BytesIO(item.screenshot_as_png))).replace('\\n', '').split('-')[0].strip()\n",
    "    dates.append(date)\n",
    "    time.sleep(1)"
   ]
  },
  {
   "cell_type": "code",
   "execution_count": 20,
   "metadata": {},
   "outputs": [
    {
     "data": {
      "text/plain": [
       "['',\n",
       " 'December 15, 2023',\n",
       " 'December 4, 2023',\n",
       " 'December 1, 2023',\n",
       " 'November 29, 2023',\n",
       " 'November 28, 2023',\n",
       " 'November 25, 2023 «1']"
      ]
     },
     "execution_count": 20,
     "metadata": {},
     "output_type": "execute_result"
    }
   ],
   "source": [
    "dates"
   ]
  },
  {
   "cell_type": "code",
   "execution_count": 58,
   "metadata": {},
   "outputs": [
    {
     "data": {
      "text/plain": [
       "'November 25 2023'"
      ]
     },
     "execution_count": 58,
     "metadata": {},
     "output_type": "execute_result"
    }
   ],
   "source": [
    "date = \"November 25, 2023 «1\"\n",
    "date[0: date.index(',') + 6].replace(',' , '')"
   ]
  },
  {
   "cell_type": "code",
   "execution_count": null,
   "metadata": {},
   "outputs": [],
   "source": [
    "dates = [\n",
    "    'April 17',\n",
    "    'December 15, 2023-@',\n",
    "    'December 4, 2023 -@',\n",
    "    'December 1, 2023 -@',\n",
    "    'November 29, 2023-@',\n",
    "    'November 28, 2023-@',\n",
    "    'November 25, 2023 - &',\n",
    "    'November 22, 2023-@',\n",
    "    'November 21, 2023: @',\n",
    "    'November 19, 2023-@',\n",
    "    'November 17, 2023-@',\n",
    "    'November 15, 2023-€',\n",
    "    'November 13, 2023-@'\n",
    "]"
   ]
  },
  {
   "cell_type": "code",
   "execution_count": 22,
   "metadata": {},
   "outputs": [],
   "source": [
    "links_ = []"
   ]
  },
  {
   "cell_type": "code",
   "execution_count": 50,
   "metadata": {},
   "outputs": [
    {
     "name": "stdout",
     "output_type": "stream",
     "text": [
      "8\n"
     ]
    }
   ],
   "source": [
    "soupe = BeautifulSoup(driver.page_source, 'lxml')\n",
    "links = soupe.find_all('a', {'class':'x1i10hfl xjbqb8w x1ejq31n xd10rxx x1sy0etr x17r0tee x972fbf xcfux6l x1qhh985 xm0m39n x9f619 x1ypdohk xt0psk2 xe8uvvx xdj266r x11i5rnm xat24cr x1mh8g0r xexx8yu x4uap5 x18d9i69 xkhd6sd x16tdsg8 x1hl2dhg xggy1nq x1a2a7pz x1sur9pj xkrqix3 xi81zsa xo1l8bm'}, href=True)\n",
    "print(len(links))\n",
    "for link in links:\n",
    "    ak = link['href']\n",
    "    if ak and '/posts/' in ak:\n",
    "        if ak not in links_:\n",
    "            links_.append(ak)"
   ]
  },
  {
   "cell_type": "code",
   "execution_count": 48,
   "metadata": {},
   "outputs": [
    {
     "data": {
      "text/plain": [
       "['https://www.facebook.com/lidolacdubourget/posts/pfbid021nuBwwHruWMUjLdS4RrUP4GJgLmS2KqEXUheoqwh9ucbHijQogjoSNpRcv6rF1oAl?comment_id=1137406650625559&__cft__[0]=AZVPlXDkJQyNuWGnEplapSLxOfPs0G9jQIpbZVfsPS8r09a_hfq3SJAbjOIxdp-iZTlsApScsvgu6clEf3N31y3KxpWN2eNmr6z97rUEf011hDttFVmFuXqesrhG4OaqjTR3GNsJ2NB914xG-TOmAQo2ogAdMbPr_0zztYeCuim7OfryTajq7LUt7qRc48GzZnMiF6pCBxWf5iiHmyOrodL3lazdMCoe3dm1xMp2Pci8zQ&__tn__=R]-R',\n",
       " 'https://www.facebook.com/lidolacdubourget/posts/pfbid02Fgm9fRUqM3iyKLrgnc7z1zUgJ3f3aDvnxYs5L6ovxAmQ1gRoN3WmyBcCtEeNRbQ8l?comment_id=724915306278546&__cft__[0]=AZXwwnSIdyxIbRWXl2VxW362DBYkunYYEFXKWfW9B1Hkz48odSrrBUZ8h6tc1fFK99ltgMnJs74vptqH5YktSyRA59LmWl97slswp9FFsr7ng3YUAA_Kzt33ubsBBkm6V_N5A_fg4sZARoH2ArHcLJXiBUOrwi4wgenDCUx2wEYXT5n0vGsbKSIzYskXQ2ma_G5h6P0GCkh3BaVrjdMMeWhi&__tn__=R]-R',\n",
       " 'https://www.facebook.com/lidolacdubourget/posts/pfbid09QSN6YaqjkRjxWj2AVRJZ579pH234Bqts73QwcJt44kJjtkCvpmqu5zfRdkEj372l?comment_id=1461462354430385&__cft__[0]=AZW-oY7EixZZeacqY0JU3eBXm6LRn0wn0sN6FYaQWvsH5bFWb1lNneCn1BG2fZWXU5PMEgYoJLPrPU2Ahi-5YRHjPyFSMNKEqmmq3QsKZhi5s1LZ_qHveMbGBHfRuP0xT48EWG3Yx92c3b6dPPTM7uo4DCnkQgdc_wfvZn7mEN9T2TPralgyQpqXLc8vV-ESfUtnUpEfVtGbQmVH0ZJsyF6Q&__tn__=R]-R',\n",
       " 'https://www.facebook.com/lidolacdubourget/posts/pfbid09QSN6YaqjkRjxWj2AVRJZ579pH234Bqts73QwcJt44kJjtkCvpmqu5zfRdkEj372l?comment_id=1461462354430385&reply_comment_id=902877164591792&__cft__[0]=AZW-oY7EixZZeacqY0JU3eBXm6LRn0wn0sN6FYaQWvsH5bFWb1lNneCn1BG2fZWXU5PMEgYoJLPrPU2Ahi-5YRHjPyFSMNKEqmmq3QsKZhi5s1LZ_qHveMbGBHfRuP0xT48EWG3Yx92c3b6dPPTM7uo4DCnkQgdc_wfvZn7mEN9T2TPralgyQpqXLc8vV-ESfUtnUpEfVtGbQmVH0ZJsyF6Q&__tn__=R]-R',\n",
       " 'https://www.facebook.com/lidolacdubourget/posts/pfbid02ReNfKLGqVbJ5gZ4xmNsT2T3RbW84jh8AHRVAL7oArR1AAhhbqvdEGk5WtdmuNbqKl?comment_id=363580066343760&__cft__[0]=AZWHvLWAoUGL4_jc4PyQz7LKk5ZrRVaAsNg7Gw-_m53WsNHgGZyMDMDLw9gLvxsBO_jVYyk967u1LxH7pp6zBGyzD310tk_dKFZl-E4JefN6vunSO5Y3dgWPN_890AsV9xE6FOaqo_iBwW73uz_gmEwX6yoLZ7Oprfwf_aZM1PWDF1Z_BLBvV3VQr12r7X3LHNOyUqwuS8sEAuIrlIquTK-Z&__tn__=R]-R',\n",
       " 'https://www.facebook.com/lidolacdubourget/posts/pfbid02kB147asAea7TAHcqLfshzNZbZjoqB51p3BsRsS13EXsVtzas6Et2hiVTko6mhDdRl?comment_id=153463277825172&__cft__[0]=AZUscZQkOpkoK7TyLReYLQwSxowv1nzloXOB9CQRy6gC56TpzC6QcCxjb1yDxrP0I2TbHrNx7y2Mmr71OZGbLeTh-ja_TEbYgWjF3vpLmU5xqHR94HeEdXfnNKq5p63mjrZCyOZrokNNYD1Qm2jScE5DjguxLdYU7K3hpcbU4U7yyZycCGmNkdG3PqGBFVlG0t2i-t-rtSsJ36n5RK3ciXOrU59r5vWXAwUaLgrNL4rbrg&__tn__=R]-R',\n",
       " 'https://www.facebook.com/lidolacdubourget/posts/pfbid021nuBwwHruWMUjLdS4RrUP4GJgLmS2KqEXUheoqwh9ucbHijQogjoSNpRcv6rF1oAl?comment_id=1137406650625559&__cft__[0]=AZXvXT8RLvBf0LH_LdH93rq1DvSqjkqaFIMvjUj7yz1Z0MhkynXaOawKrGI5fmZhN5Tly7Rw3tF997XfW1hb9kuEdIYgVV107IexHLv-VzriPJ-oUmwujuSg5l8F6SvDr5LhurbYQINve70WMh771uvAD-CVUfxGGKH7zekm1mgqheaPR1-7YSONuNqczACwMwJeQDwebXNQI6iU1gpUV7E277yhbw9h32UyspTE9lHBiA&__tn__=R]-R',\n",
       " 'https://www.facebook.com/lidolacdubourget/posts/pfbid02Fgm9fRUqM3iyKLrgnc7z1zUgJ3f3aDvnxYs5L6ovxAmQ1gRoN3WmyBcCtEeNRbQ8l?comment_id=724915306278546&__cft__[0]=AZVg755zkVN35O34ZK4UepsKWcTHrolJQksmHLFvdAuIbeik12nXFzCro3ylVYYq3gudyyeqREFBUs9G9qqErz3jDZ-h65KrAAiqaLYMoREOAk0Sq291tovWS4laVEVaoXANkkAVMwywx3c2loWNLCp9jAHaml4oCnCIw5Vga12cePj1um_uQQHp2fyX31ESk4K3lC_iOvLsYNkj6r5NyiUi&__tn__=R]-R',\n",
       " 'https://www.facebook.com/lidolacdubourget/posts/pfbid09QSN6YaqjkRjxWj2AVRJZ579pH234Bqts73QwcJt44kJjtkCvpmqu5zfRdkEj372l?comment_id=1461462354430385&__cft__[0]=AZWLEQtSM__rSrJ7YaN5Hv2R8DNY7Upqks2HXSckD6JP3Os6YPOcAAofsRGHF55pTeXZ2oS-o1cFkcmI6yOeIU_gzCn7Rmv3y4J-vkq0t1WXdmSgcmsCXabzt8gfbY9T5fm49yWFxxuxaduHC6ShgYOdqROSKmKbqOOCVB_nvihwN2D_KBeYmApxEx_oOvKjSLy5HZCFRb6ypdZCq9eUFmXV&__tn__=R]-R',\n",
       " 'https://www.facebook.com/lidolacdubourget/posts/pfbid09QSN6YaqjkRjxWj2AVRJZ579pH234Bqts73QwcJt44kJjtkCvpmqu5zfRdkEj372l?comment_id=1461462354430385&reply_comment_id=902877164591792&__cft__[0]=AZWLEQtSM__rSrJ7YaN5Hv2R8DNY7Upqks2HXSckD6JP3Os6YPOcAAofsRGHF55pTeXZ2oS-o1cFkcmI6yOeIU_gzCn7Rmv3y4J-vkq0t1WXdmSgcmsCXabzt8gfbY9T5fm49yWFxxuxaduHC6ShgYOdqROSKmKbqOOCVB_nvihwN2D_KBeYmApxEx_oOvKjSLy5HZCFRb6ypdZCq9eUFmXV&__tn__=R]-R',\n",
       " 'https://www.facebook.com/lidolacdubourget/posts/pfbid02ReNfKLGqVbJ5gZ4xmNsT2T3RbW84jh8AHRVAL7oArR1AAhhbqvdEGk5WtdmuNbqKl?comment_id=363580066343760&__cft__[0]=AZVJasAZ5bpeJ_gkK1U5H0BIkda6u-CNF6zu6rUgRc9U8BNrx-Ia41NqLgpMigCxQA_vpiiroq6pDMcIrjhtlfbq9Jy-l6vgu4njUidmt_Q3rkKbRqDhgJUoZe3Dff9-4K3c4kDKwTpynMXV4J66MDIGcJYQDXTnbe0aC0zjb7BfsQ97CBi18PtcMM9hov65QXvYZKYk0t5ounhFVwegZsVC&__tn__=R]-R',\n",
       " 'https://www.facebook.com/lidolacdubourget/posts/pfbid02kB147asAea7TAHcqLfshzNZbZjoqB51p3BsRsS13EXsVtzas6Et2hiVTko6mhDdRl?comment_id=153463277825172&__cft__[0]=AZWxcIgb38f-JnD4jkU-c6yUUR-J9Vkh3DFcRqL7LygLav302fD4spkxgIotSU84QA3BDyWcN12dWECm-MXGAxoW5uWY2h_BvrzVvfttigLhQ7Gb78Y5J_I3z4Pe4EmVOhgdAs7oGr66j-CjsmFqRnYXohj8YYjQsmBZQtmY18vgDiQhVXhYEeg9vvuUPupQxH_9nWOhOu6t3rggu8RdD-MMvLo8YGi4JOz2MyuAiaVblg&__tn__=R]-R',\n",
       " 'https://www.facebook.com/lidolacdubourget/posts/pfbid02H7S8SqpE7wdq8oMqwoWMC7EQ3f2cN7R2Dw7we1eXrzy9PSgbSxA9sNnNxM8gSNQFl?comment_id=1428423244392705&__cft__[0]=AZU3YIQZGULELDRtM4VPdfVpH5zNAxkqJ4_bEMcIKGimW8gSNEYhw9E8pedcOYbJhIfyVHkopqeQHexMxu0LYFiZgP6N4GGUNGYcEx4Nj3Gmz25nIR75YaCwEMFXYPwsFdb0GlEEv_xAZ7pHwHPBtYpxfw-tIpkRxNFQbC51iTbQpEZIcjYyStXqa2wPC7HpoAp8ONq2-Vz7E_g6hYavYffVkJXRmf2Cx_PDbtkzOSXKvw&__tn__=R]-R',\n",
       " 'https://www.facebook.com/lidolacdubourget/posts/pfbid02LRXxoLPo83SzujJjkhtDjkGnjANyjiFNZp3tfF2ypHxV9WLWxCvAt6mJQvKAQJQsl?comment_id=311637534833698&__cft__[0]=AZWln8fpGI8m6dtxa_NQ87jA4EB4NDOzAasQNHrQ3s3ilIM1qW2Nhc1u2AFduS8R4Pb5PJ5ALu-2qhAntCkhIN5gO8tdzVSd_YfbbNZf-mBzodfOE1kSCX6yXrfDUZvbvCTx7G6QODQHe-5XRjEKopU3wAeMVZVEtRzCSAd6BgQ609ha8PJNyJbMaQNS0Uc196kJzNE99VonWD2WIkIPEMZJHQz0PovOlFhbRxvprfbrTA&__tn__=R]-R',\n",
       " 'https://www.facebook.com/lidolacdubourget/posts/pfbid02LRXxoLPo83SzujJjkhtDjkGnjANyjiFNZp3tfF2ypHxV9WLWxCvAt6mJQvKAQJQsl?comment_id=311637534833698&reply_comment_id=1469545117158811&__cft__[0]=AZWln8fpGI8m6dtxa_NQ87jA4EB4NDOzAasQNHrQ3s3ilIM1qW2Nhc1u2AFduS8R4Pb5PJ5ALu-2qhAntCkhIN5gO8tdzVSd_YfbbNZf-mBzodfOE1kSCX6yXrfDUZvbvCTx7G6QODQHe-5XRjEKopU3wAeMVZVEtRzCSAd6BgQ609ha8PJNyJbMaQNS0Uc196kJzNE99VonWD2WIkIPEMZJHQz0PovOlFhbRxvprfbrTA&__tn__=R]-R',\n",
       " 'https://www.facebook.com/lidolacdubourget/posts/pfbid02cSoZ5qS6crnLSsiMCuAoak623sdg3UHCspLivYXi8GxATKwiApWMmmiqhoeXxd68l?comment_id=1046011653225329&__cft__[0]=AZWKsXypYByBXQvMZu1QlkOWHD26RToOPlsnFpCsd6Xmw4178HftJS7aQbud95oNe11eForG1SRPL07Zz7ZbZZGtDWGeXqVUii6Ne7wAD_m6rRqGpNpbQZbLCSBngj7oKjBr9qMkpiiJsuRgQWCPoNlYcRJdffNSJdo8YfbMiVjyxxXwuUAW0PzkolNLfXXtr6Ce0uoBgw8nFY46tSvFshiB&__tn__=R]-R',\n",
       " 'https://www.facebook.com/lidolacdubourget/posts/pfbid02cSoZ5qS6crnLSsiMCuAoak623sdg3UHCspLivYXi8GxATKwiApWMmmiqhoeXxd68l?comment_id=1046011653225329&reply_comment_id=611030701080934&__cft__[0]=AZWKsXypYByBXQvMZu1QlkOWHD26RToOPlsnFpCsd6Xmw4178HftJS7aQbud95oNe11eForG1SRPL07Zz7ZbZZGtDWGeXqVUii6Ne7wAD_m6rRqGpNpbQZbLCSBngj7oKjBr9qMkpiiJsuRgQWCPoNlYcRJdffNSJdo8YfbMiVjyxxXwuUAW0PzkolNLfXXtr6Ce0uoBgw8nFY46tSvFshiB&__tn__=R]-R',\n",
       " 'https://www.facebook.com/lidolacdubourget/posts/pfbid02g7Da5G2r947VSapWnEkY2HcrVRwZjGJsj4rJstQRuE1466CEGKmxvxdSx9vusB8Ll?comment_id=618653940408833&__cft__[0]=AZWJJVG40LNc-4cdniy3Up-dzUmFtKX5pc9mYwOMt5w5ycFCZmXYWKLTFs3G6kUgV5b1G2gc2FE-GHmMrWkbw8OdPVqnMqGI32JHzS_XHOQ0yjXN5LBriwCQAlXoXA6yEvNURKU2IyFGTCTbKmtDsPgHibyk0S-5eQoqcnN2_5MzD_-uDmNBCgBwwXASB91pJzzROfNw25ga4Iuuvffnr_zN&__tn__=R]-R',\n",
       " 'https://www.facebook.com/lidolacdubourget/posts/pfbid02Vda8iP3irMZ3Jquhuat6V9gV7LBcBmoVdqd9ccH5FVyQ61kDQB7vy2M28ZQPvBAol?comment_id=974843843632429&__cft__[0]=AZWMyFohYN0tmNmEn2oL7bXaG-9-GObvgb97-DJl_DsWxX1r2Ba69Cn9cxjVcigm4RnO6PqiRGac7uwNGPFu0u1Al4uS27Ek_vBwRN3culqK6Idoa_2k0hRw63XSG96bu3N8SdjAvLPRCzoJMHr0p5hTulGpan4EGfmPyv-YcX8pMtXPRRr9tZBmQMk0tOzIl4O0aqpHbZRvCrwgL_y-yozn&__tn__=R]-R',\n",
       " 'https://www.facebook.com/lidolacdubourget/posts/pfbid0yJR4Von2g5sfB8AXJqW9T2obiLey7kLGu3dZUv5RVpvFzDB2fLRenaK2KR2Ke4shl?comment_id=268270395792417&__cft__[0]=AZVVJh5DVJogXbbYvJaFaqAYA6VdGnAzM4vpSj-grrxAUgUgZcc4Rgmpg1TpDkPhhYf-DOv3yz6zqH99w7mBt2CkPcrz7bzMl4NstRiUKHCAdsFqdTxWIpxTmAXaBApL4k4imO0BX-8FQQPEDcUNuylmQyktlyo9n1AIbiqILzmLxTkRAV-Mgzi-vbSM4rNxYvxYPal4m1YL6MgVNjm_uanH&__tn__=R]-R',\n",
       " 'https://www.facebook.com/lidolacdubourget/posts/pfbid0HaxRpNYhLtLDAn2o5CDT1h7wERDrTdCMcCJueHa647uAommEeg46wH3WiPCykd3Tl?comment_id=844422363807497&__cft__[0]=AZVWzdD0FE5E8aIDZdZsAtRzd0M4JONo_Q1qLFS31KKKj5xTGwEesHqxhmElVAxkzGB4wdyQ9wngEUDdVyXaDIg61ZNBnKHNHyQ6JwrnQn58lwFvpJLElwCayQfq7fE0vw9tdugrzNvrE9IjTppceBdnGqVq516zYcbDRanpKqyczSCWAmKO8q2U0uVPQcFBOUKI0P1pb1xgNGewM780OYpB&__tn__=R]-R',\n",
       " 'https://www.facebook.com/lidolacdubourget/posts/pfbid02i1xQoXhDfZ2FL4RzESBRVWyfGYmuySiXrBztDQQdisX2kj4kjZDfp1j3m4BkSToVl?comment_id=1205665743314958&__cft__[0]=AZXj0NWoCv0P8q4BzG11Etof-KHyfmcyp4rEHRvvxb02ayqpEqauqqST45h0fX9usNJFwWaZ_X4pEqu6P5si9LakCBAUaeUc6GNi92w3SKTCLwEqbydzTx_JibXkmiTU91DHj5n9e02Zeyh2bB1_KTCHLpT3ngRqVyu-Xpql0OPRRjysEs_PztHj0kRVTQrNiNexEnou4cC0iarIpNNGBmnMctDtZ78za4nu50RKzqwDpA&__tn__=R]-R',\n",
       " 'https://www.facebook.com/lidolacdubourget/posts/pfbid06SsMi9tuGRVJ4B737d4k7p16fvb4eHGHPdaxZ5wsxzDfdWRfPfvByLRShoGuePYwl?comment_id=736342378273492&__cft__[0]=AZUg0BS7ReePl6zTW72LonUJnKIwt1K_2AO630SCv10R8WmF-SzSuy5agf8Ulzmpn6GLLqs8U3aZy882VoCJhZzobRf_YHCqNTiVvqfd6XUBNRCRQ7ZgvJhyE4ij0JZlssEtA8mh2xJRUgldRN7hkVGliXOoLC7mlPRD95gnGs6joNuWcraP9bz5WHgqQEsWjJho5Y_R8k-4IWDdX3N-7buH&__tn__=R]-R',\n",
       " 'https://www.facebook.com/lidolacdubourget/posts/pfbid0XQn2NMp1Rw4T5n7PvWS5eEpT3Soe2gKFPFK7MMhFNqFUYrgUTWaYJZ3EXCEBJdkbl?comment_id=1788092668251292&__cft__[0]=AZVcvW82LRJiBJQ_cQc-l_pEm0jo67J6OzdK_WF5dDxCeK8S4ixW2xBAQRD9sc1sxOjdQQgpEMvzAIOhO5fnDeczKb5SGe5SwsEmUZgfqMe_LJyNKtUwpSjOyJmuJ-SStWCXB1sm9nenRRQYiUbb4IHOS8qzuh1z4LClapm2ocpOXuG3G4VgXfW9SFM7UHBKBesXoYVZIcv9YtnyTUDeFIjY&__tn__=R]-R',\n",
       " 'https://www.facebook.com/lidolacdubourget/posts/pfbid0e9CjttzJMVzWcnTTeCibhwSYAKKyCSaew6Uz89hsecPjYjEHbVS6WLZdJSn9TmU6l?comment_id=750686366748398&__cft__[0]=AZVx9UhEgZX2j3kd4bDcqaYPvhEKi6fGM2D1fYasdwYwj7vgC1XPc51gJqYry4vZwiqSy1jZaULv2S6nincoyl6eQvn24onk7noawNpBYgj5WKWcgjorZSDc3e_KKIXYM4TZK4Me-32mNTOS37X4kaViCSBKm2qUEJVPI0hnMha-SCb_ssHK7OLh-jrZZJHGxJlf3k5zD86OoOY_lCkkuWtM&__tn__=R]-R',\n",
       " 'https://www.facebook.com/lidolacdubourget/posts/pfbid0HJ8wRvgJXqPaNBqdzbXSF4RZLeAzKRdrJEZbbc3xCjgaiRzVjyZrANrdz1Q3UTK8l?comment_id=752895159829958&__cft__[0]=AZUpBEOJhmKIruvug3jnUFh5wJR_m7yeXgGVP-p6kStbduU1wHFY3v6rPLi-DzcyjD4Ed01t3H8Qv8SjdY3fWq-8DKRLRljWP7DDr9KWbPZZ65cdK3SXpa1XV1kuzDM6H5zwUzm2boVWSgjBy702_ukUxnrnwDXIbGLrBWOT50qnU5nSK1_KM4OFfS_4EYyeXaZSHNEiqCuegHyW_DPfgO32&__tn__=R]-R',\n",
       " 'https://www.facebook.com/lidolacdubourget/posts/pfbid0vfjsLUf6p7LTShXc999DNsGRUnt9oitjgExXuMS2Tu5LtcyhecSCGkY9NioqA6nyl?comment_id=1278516079731621&__cft__[0]=AZWQi_yh691R0DgsmFIZVypFpyUnDdAfrBg0vZN4I9rLTEtDMBc6aVQCzNZbIyA1Ok3oCTlpZ7Lqt7fcCjYs1t3hLgEgGo7I0kAy22Fw2js31zktEntIrip6W9fyCb4PEJvv96AHOUOF_Tei8NmjMFQ7NH7VAB9H1Wu80w8lIbsgGJzA7tMPqgQwbmiXm3yslD3Rzr98P72h_TFott_7ffaq&__tn__=R]-R',\n",
       " 'https://www.facebook.com/lidolacdubourget/posts/pfbid02ssLsdtU4tyd1P9F1z6ZoYPW4PU6y32QVyrWqKWV1w8nnJugcUj9xFg2xVZeMg3pQl?comment_id=1291825514767971&__cft__[0]=AZX4rtH45pRBMfLVd4p97ZxGelWm9P5XTSSbbTQtmzfdcsIIXiQBVt5ZxjN6a_ZAn2XCd_h4XVbM6OAPqMjEhYqbp3-4kcoLJA3KHipNgfNwR-5XoBfJxnsH5KSRDlV4EKHWdQziTTZldSCpqdCVa8RSr8tVDa5kjVuf3ZfMaamTFmXRWps0Q3nLhaueOul-p0cWpZ_-Pl3pUP-PtQQj14FN&__tn__=R]-R']"
      ]
     },
     "execution_count": 48,
     "metadata": {},
     "output_type": "execute_result"
    }
   ],
   "source": [
    "links_"
   ]
  },
  {
   "cell_type": "code",
   "execution_count": 51,
   "metadata": {},
   "outputs": [
    {
     "data": {
      "text/plain": [
       "31"
      ]
     },
     "execution_count": 51,
     "metadata": {},
     "output_type": "execute_result"
    }
   ],
   "source": [
    "len(links_)"
   ]
  },
  {
   "cell_type": "code",
   "execution_count": null,
   "metadata": {},
   "outputs": [],
   "source": [
    "len(post_container.find_elements(By.CSS_SELECTOR, \"a.x1i10hfl.xjbqb8w.x1ejq31n.xd10rxx.x1sy0etr.x17r0tee.x972fbf.xcfux6l.x1qhh985.xm0m39n.x9f619.x1ypdohk.xt0psk2.xe8uvvx.xdj266r.x11i5rnm.xat24cr.x1mh8g0r.xexx8yu.x4uap5.x18d9i69.xkhd6sd.x16tdsg8.x1hl2dhg.xggy1nq.x1a2a7pz.x1sur9pj.xkrqix3.xi81zsa.xo1l8bm\"))"
   ]
  },
  {
   "cell_type": "code",
   "execution_count": null,
   "metadata": {},
   "outputs": [],
   "source": [
    "binary_image = driver.find_element(By.CSS_SELECTOR, \"span.xmper1u.xt0psk2.xjb2p0i.x1qlqyl8.x15bjb6t.x1n2onr6.x17ihmo5.x1g77sc7\").screenshot_as_png\n",
    "pytesseract.image_to_string(Image.open(io.BytesIO(binary_image))).replace('\\n', '')"
   ]
  },
  {
   "cell_type": "code",
   "execution_count": null,
   "metadata": {},
   "outputs": [],
   "source": [
    "binary_image"
   ]
  },
  {
   "cell_type": "code",
   "execution_count": null,
   "metadata": {},
   "outputs": [],
   "source": [
    "pytesseract.image_to_string(Image.open(io.BytesIO(binary_image))).replace('\\n', '')"
   ]
  },
  {
   "cell_type": "code",
   "execution_count": null,
   "metadata": {},
   "outputs": [],
   "source": [
    "comment_filter = driver.find_element(By.CSS_SELECTOR, \"div.x1i10hfl.xjbqb8w.x1ejq31n.xd10rxx.x1sy0etr.x17r0tee.x972fbf.xcfux6l.x1qhh985.xm0m39n.x9f619.x1ypdohk.xt0psk2.xe8uvvx.xdj266r.x11i5rnm.xat24cr.x1mh8g0r.xexx8yu.x4uap5.x18d9i69.xkhd6sd.x16tdsg8.x1hl2dhg.xggy1nq.x1o1ewxj.x3x9cwd.x1e5q0jg.x13rtm0m.x1n2onr6.x87ps6o.x1lku1pv.x1a2a7pz\")\n",
    "comment_filter.location_once_scrolled_into_view"
   ]
  },
  {
   "cell_type": "code",
   "execution_count": null,
   "metadata": {},
   "outputs": [],
   "source": [
    "comment_filter.click()"
   ]
  },
  {
   "cell_type": "code",
   "execution_count": null,
   "metadata": {},
   "outputs": [],
   "source": [
    "driver.find_elements(By.CSS_SELECTOR, \"span.x193iq5w.xeuugli.x13faqbe.x1vvkbs.x1xmvt09.x1lliihq.x1s928wv.xhkezso.x1gmr53x.x1cpjm7i.x1fgarty.x1943h6x.xudqn12.x3x7a5m.x1f6kntn.xvq8zen.xk50ysn.xzsf02u.x1yc453h\")[-1].click()"
   ]
  },
  {
   "cell_type": "code",
   "execution_count": null,
   "metadata": {},
   "outputs": [],
   "source": [
    "container = BeautifulSoup(driver.page_source, 'lxml')"
   ]
  },
  {
   "cell_type": "code",
   "execution_count": null,
   "metadata": {},
   "outputs": [],
   "source": [
    "cards = container.find_all('div', {'class':'x169t7cy x19f6ikt'})"
   ]
  },
  {
   "cell_type": "code",
   "execution_count": null,
   "metadata": {},
   "outputs": [],
   "source": [
    "len(cards)"
   ]
  },
  {
   "cell_type": "code",
   "execution_count": null,
   "metadata": {},
   "outputs": [],
   "source": [
    "cards[0].prettify()"
   ]
  },
  {
   "cell_type": "code",
   "execution_count": null,
   "metadata": {},
   "outputs": [],
   "source": [
    "cards[0].find('span', {'class':'x193iq5w xeuugli x13faqbe x1vvkbs x1xmvt09 x1lliihq x1s928wv xhkezso x1gmr53x x1cpjm7i x1fgarty x1943h6x x4zkp8e x676frb x1pg5gke x1sibtaa x1s688f xzsf02u'}).text"
   ]
  },
  {
   "cell_type": "code",
   "execution_count": null,
   "metadata": {},
   "outputs": [],
   "source": [
    "cards[0].find('div', {'class':'xdj266r x11i5rnm xat24cr x1mh8g0r x1vvkbs'}).text"
   ]
  },
  {
   "cell_type": "code",
   "execution_count": null,
   "metadata": {},
   "outputs": [],
   "source": [
    "cards[0].find('span', {'class':'html-span xdj266r x11i5rnm xat24cr x1mh8g0r xexx8yu x4uap5 x18d9i69 xkhd6sd x1hl2dhg x16tdsg8 x1vvkbs'}).text"
   ]
  }
 ],
 "metadata": {
  "kernelspec": {
   "display_name": "Python 3",
   "language": "python",
   "name": "python3"
  },
  "language_info": {
   "codemirror_mode": {
    "name": "ipython",
    "version": 3
   },
   "file_extension": ".py",
   "mimetype": "text/x-python",
   "name": "python",
   "nbconvert_exporter": "python",
   "pygments_lexer": "ipython3",
   "version": "3.11.3"
  }
 },
 "nbformat": 4,
 "nbformat_minor": 2
}
