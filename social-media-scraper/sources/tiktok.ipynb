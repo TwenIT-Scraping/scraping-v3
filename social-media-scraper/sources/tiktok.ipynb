{
 "cells": [
  {
   "cell_type": "code",
   "execution_count": 34,
   "metadata": {},
   "outputs": [],
   "source": [
    "from datetime import datetime\n",
    "import unicodedata\n",
    "from bs4 import BeautifulSoup\n",
    "from selenium import webdriver\n",
    "from selenium.webdriver.common.by import By\n",
    "from selenium.webdriver.support import expected_conditions as EC\n",
    "from webdriver_manager.chrome import ChromeDriverManager\n",
    "from webdriver_manager.firefox import GeckoDriverManager\n",
    "from selenium.webdriver.chrome.service import Service as ChromeService\n",
    "from selenium.webdriver.firefox.service import Service as FirefoxService\n",
    "from selenium.webdriver.support import expected_conditions as EC\n",
    "from selenium.webdriver.support.wait import WebDriverWait\n",
    "from urllib.parse import urlparse, parse_qs"
   ]
  },
  {
   "cell_type": "code",
   "execution_count": 35,
   "metadata": {},
   "outputs": [],
   "source": [
    "chrome_options = webdriver.ChromeOptions()\n",
    "chrome_options.add_argument('--ignore-certificate-errors')\n",
    "chrome_options.add_argument('--disable-gpu')\n",
    "chrome_options.add_argument(\n",
    "    '--disable-blink-features=AutomationControlled')\n",
    "chrome_options.add_argument('--incognito')\n",
    "# chrome_options.add_argument('--headless')\n",
    "\n",
    "driver = webdriver.Chrome(options=chrome_options)\n",
    "driver.maximize_window()"
   ]
  },
  {
   "cell_type": "code",
   "execution_count": 36,
   "metadata": {},
   "outputs": [],
   "source": [
    "driver.get(\"https://www.tiktok.com/channel/chelsea-pines-inn\")"
   ]
  },
  {
   "cell_type": "code",
   "execution_count": 37,
   "metadata": {},
   "outputs": [],
   "source": [
    "soupe = BeautifulSoup(driver.page_source, 'lxml')"
   ]
  },
  {
   "cell_type": "code",
   "execution_count": 38,
   "metadata": {},
   "outputs": [],
   "source": [
    "data = {\n",
    "    'page_name': soupe.find('h1', {'data-e2e':\"keyword-name\", 'class':\"tiktok-1k3vzz2-H1Keyword e5svhaq0\"}).text.strip(),\n",
    "    'followers': soupe.find('h2', {'data-e2e':\"keyword-vv\", 'class':\"tiktok-mxza2i-H2Info-StyledViews e5svhaq4\"}).text.strip().split(' ')[0],\n",
    "    'description': soupe.find('h2', {'class':\"tiktok-4xxt1q-H2Info-StyledDescription e5svhaq6\"}).text.strip(),\n",
    "    'shares': 0,\n",
    "    'comments': 0,\n",
    "    'posts': []\n",
    "}"
   ]
  },
  {
   "cell_type": "code",
   "execution_count": 39,
   "metadata": {},
   "outputs": [],
   "source": [
    "posts_container = soupe.find('div', {'class': \"tiktok-j99lko-DivGridContainer esohs5y0\"}).find_all('div', {'class': \"tiktok-559e6k-DivItemContainer e1aajktk28\"})"
   ]
  },
  {
   "cell_type": "code",
   "execution_count": 40,
   "metadata": {},
   "outputs": [],
   "source": [
    "posts = []\n",
    "for post in posts_container:\n",
    "    posts.append({\n",
    "        'view_count': post.find('strong', {'class':\"tiktok-ksk56u-StrongLikes e1aajktk9\"}).text.strip(),\n",
    "        'likes': post.find('span', {'class':\"tiktok-1cgeagm-SpanLikes e1aajktk13\"}).text.strip()\n",
    "    })"
   ]
  },
  {
   "cell_type": "code",
   "execution_count": 41,
   "metadata": {},
   "outputs": [],
   "source": [
    "data['posts'] = posts"
   ]
  },
  {
   "cell_type": "code",
   "execution_count": 42,
   "metadata": {},
   "outputs": [
    {
     "data": {
      "text/plain": [
       "{'page_name': 'Chelsea Pines Inn',\n",
       " 'followers': '5506',\n",
       " 'description': 'Discover videos related to Chelsea Pines Inn on TikTok. See more videos about Chelsea, Justin and Chelsea, Chelsea Singing, Chelsea Complaining, Chelsea Awesome, Chelsea Sanctioned.',\n",
       " 'shares': 0,\n",
       " 'comments': 0,\n",
       " 'posts': [{'view_count': '229', 'likes': '41'},\n",
       "  {'view_count': '458', 'likes': '64'},\n",
       "  {'view_count': '422', 'likes': '40'},\n",
       "  {'view_count': '489', 'likes': '79'},\n",
       "  {'view_count': '380', 'likes': '47'},\n",
       "  {'view_count': '216', 'likes': '3'},\n",
       "  {'view_count': '351', 'likes': '57'},\n",
       "  {'view_count': '447', 'likes': '51'},\n",
       "  {'view_count': '255', 'likes': '25'},\n",
       "  {'view_count': '601', 'likes': '46'},\n",
       "  {'view_count': '781', 'likes': '32'},\n",
       "  {'view_count': '357', 'likes': '37'},\n",
       "  {'view_count': '108', 'likes': '3'},\n",
       "  {'view_count': '94', 'likes': '7'},\n",
       "  {'view_count': '318', 'likes': '22'}]}"
      ]
     },
     "execution_count": 42,
     "metadata": {},
     "output_type": "execute_result"
    }
   ],
   "source": [
    "data"
   ]
  }
 ],
 "metadata": {
  "kernelspec": {
   "display_name": "venv",
   "language": "python",
   "name": "python3"
  },
  "language_info": {
   "codemirror_mode": {
    "name": "ipython",
    "version": 3
   },
   "file_extension": ".py",
   "mimetype": "text/x-python",
   "name": "python",
   "nbconvert_exporter": "python",
   "pygments_lexer": "ipython3",
   "version": "3.11.3"
  },
  "orig_nbformat": 4
 },
 "nbformat": 4,
 "nbformat_minor": 2
}
