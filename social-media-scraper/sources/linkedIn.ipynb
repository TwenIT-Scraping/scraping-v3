{
 "cells": [
  {
   "cell_type": "code",
   "execution_count": 151,
   "metadata": {},
   "outputs": [],
   "source": [
    "from datetime import datetime\n",
    "import unicodedata\n",
    "from bs4 import BeautifulSoup\n",
    "from selenium import webdriver\n",
    "from selenium.webdriver.common.by import By\n",
    "from selenium.webdriver.support import expected_conditions as EC\n",
    "from webdriver_manager.chrome import ChromeDriverManager\n",
    "from webdriver_manager.firefox import GeckoDriverManager\n",
    "from selenium.webdriver.chrome.service import Service as ChromeService\n",
    "from selenium.webdriver.firefox.service import Service as FirefoxService\n",
    "from selenium.webdriver.support import expected_conditions as EC\n",
    "from selenium.webdriver.support.wait import WebDriverWait\n",
    "from urllib.parse import urlparse, parse_qs"
   ]
  },
  {
   "cell_type": "code",
   "execution_count": 152,
   "metadata": {},
   "outputs": [],
   "source": [
    "chrome_options = webdriver.ChromeOptions()\n",
    "chrome_options.add_argument('--ignore-certificate-errors')\n",
    "chrome_options.add_argument('--disable-gpu')\n",
    "chrome_options.add_argument(\n",
    "    '--disable-blink-features=AutomationControlled')\n",
    "chrome_options.add_argument('--incognito')\n",
    "# chrome_options.add_argument('--headless')\n",
    "\n",
    "driver = webdriver.Chrome(options=chrome_options)\n",
    "driver.maximize_window()"
   ]
  },
  {
   "cell_type": "code",
   "execution_count": null,
   "metadata": {},
   "outputs": [],
   "source": [
    "driver.get(\"https://www.linkedin.com/\")"
   ]
  },
  {
   "cell_type": "code",
   "execution_count": null,
   "metadata": {},
   "outputs": [],
   "source": [
    "#faire un login manuel pour l'instant"
   ]
  },
  {
   "cell_type": "code",
   "execution_count": 158,
   "metadata": {},
   "outputs": [],
   "source": [
    "driver.get(\"https://www.linkedin.com/company/dream-hotel-group/posts/?feedView=all\")"
   ]
  },
  {
   "cell_type": "code",
   "execution_count": 159,
   "metadata": {},
   "outputs": [],
   "source": [
    "soupe = BeautifulSoup(driver.page_source, 'lxml')"
   ]
  },
  {
   "cell_type": "code",
   "execution_count": 160,
   "metadata": {},
   "outputs": [],
   "source": [
    "post_container = soupe.find('div', class_='scaffold-finite-scroll__content')"
   ]
  },
  {
   "cell_type": "code",
   "execution_count": 161,
   "metadata": {},
   "outputs": [
    {
     "data": {
      "text/plain": [
       "4"
      ]
     },
     "execution_count": 161,
     "metadata": {},
     "output_type": "execute_result"
    }
   ],
   "source": [
    "post_ = post_container.find_all('div', class_='occludable-update')\n",
    "len(post_)"
   ]
  },
  {
   "cell_type": "code",
   "execution_count": 162,
   "metadata": {},
   "outputs": [],
   "source": [
    "posts = []"
   ]
  },
  {
   "cell_type": "code",
   "execution_count": 163,
   "metadata": {},
   "outputs": [],
   "source": [
    "for post in post_:\n",
    "    comments = post.find('li', {'class': \"social-details-social-counts__item social-details-social-counts__comments social-details-social-counts__item--with-social-proof\"}).text.strip().split(' ')[0] if \\\n",
    "        post.find('li', {'class': \"social-details-social-counts__item social-details-social-counts__comments social-details-social-counts__item--with-social-proof\"}) else 0\n",
    "    shares =  post.find('li', {'class':\"social-details-social-counts__item social-details-social-counts__item--with-social-proof\"}).text.strip().split(' ')[0][:-15] if \\\n",
    "        post.find('li', {'class':\"social-details-social-counts__item social-details-social-counts__item--with-social-proof\"}) else 0\n",
    "    title = post.find('span', {'class':\"break-words\"}).text.strip() if post.find('span', {'class':\"break-words\"}) else \"\"  \n",
    "    likes = int(post.find('span', {'class': \"social-details-social-counts__reactions-count\"}).text.strip()) if \\\n",
    "        post.find('span', {'class': \"social-details-social-counts__reactions-count\"}) else 0\n",
    "    posts.append({\n",
    "    \"title\": title,\n",
    "    \"likes\": likes,\n",
    "    \"comments\": comments,\n",
    "    \"shares\": shares\n",
    "})"
   ]
  },
  {
   "cell_type": "code",
   "execution_count": 164,
   "metadata": {},
   "outputs": [
    {
     "data": {
      "text/plain": [
       "[{'title': 'Behind the headlines: Why #DreamHotelGroup said “yes” to Hyatt Hotels Corporation. Read more at https://bit.ly/3CFV2lo via #HotelInvestmentToday and Mary Scoviak (thank you and congrats on the launch 👏🏼) #hotels #hotelnews',\n",
       "  'likes': 146,\n",
       "  'comments': '4',\n",
       "  'shares': '10'},\n",
       " {'title': \"Don't miss Dream Hotel Group's very own Judy Chen next week at NEWH Las Vegas Chapter's State of the State panel discussion about what's hot (and what's not) in the world of #hotels on Thurs, Oc 27. Hint: #DreamLasVegas is h #hotel ot hot HOT. Details below. #dreamteam #hotelnews #development #lasvegashotels #lasvegas #lasvegasevents\",\n",
       "  'likes': 12,\n",
       "  'comments': 0,\n",
       "  'shares': 0},\n",
       " {'title': 'Excited to share some BIG news: earlier today, we announced Dream Hotel Group will be joining the Hyatt Hotels Corporation brand portfolio! We look forward to bringing even more unique lifestyle #hotel experiences to our guests around the world. Stay tuned for more! https://lnkd.in/eAZwkar2 #HyattxDreamHotelGroup',\n",
       "  'likes': 796,\n",
       "  'comments': '18',\n",
       "  'shares': '49'},\n",
       " {'title': '', 'likes': 0, 'comments': 0, 'shares': 0}]"
      ]
     },
     "execution_count": 164,
     "metadata": {},
     "output_type": "execute_result"
    }
   ],
   "source": [
    "posts"
   ]
  },
  {
   "cell_type": "code",
   "execution_count": null,
   "metadata": {},
   "outputs": [],
   "source": []
  }
 ],
 "metadata": {
  "kernelspec": {
   "display_name": "venv",
   "language": "python",
   "name": "python3"
  },
  "language_info": {
   "codemirror_mode": {
    "name": "ipython",
    "version": 3
   },
   "file_extension": ".py",
   "mimetype": "text/x-python",
   "name": "python",
   "nbconvert_exporter": "python",
   "pygments_lexer": "ipython3",
   "version": "3.11.3"
  },
  "orig_nbformat": 4
 },
 "nbformat": 4,
 "nbformat_minor": 2
}
