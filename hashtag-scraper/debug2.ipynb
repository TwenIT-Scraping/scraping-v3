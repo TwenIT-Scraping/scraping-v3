{
 "cells": [
  {
   "cell_type": "code",
   "execution_count": 1,
   "metadata": {},
   "outputs": [],
   "source": [
    "import pytesseract\n",
    "from PIL import Image\n",
    "import base64\n",
    "import io\n",
    "import json\n",
    "from unidecode import unidecode"
   ]
  },
  {
   "cell_type": "code",
   "execution_count": 2,
   "metadata": {},
   "outputs": [],
   "source": [
    "pytesseract.pytesseract.tesseract_cmd = \"C:/Program Files (x86)/pytesseract/tesseract.exe\""
   ]
  },
  {
   "cell_type": "code",
   "execution_count": 3,
   "metadata": {},
   "outputs": [],
   "source": [
    "from bs4 import BeautifulSoup\n",
    "from selenium import webdriver\n",
    "from selenium.webdriver.common.by import By\n",
    "from selenium.webdriver.common.keys import Keys\n",
    "from selenium.webdriver.support.ui import WebDriverWait\n",
    "from selenium.common.exceptions import ElementNotVisibleException, ElementNotSelectableException, NoSuchElementException\n",
    "from selenium.webdriver.support import expected_conditions as EC\n",
    "from selenium.webdriver.common.action_chains import ActionChains\n",
    "import time\n",
    "from random import randint\n",
    "from datetime import datetime, timedelta"
   ]
  },
  {
   "cell_type": "code",
   "execution_count": 4,
   "metadata": {},
   "outputs": [],
   "source": [
    "fb_hashtag = [\n",
    "    {'id': 187,'caption':None,'section':None, 'establishment_name': 'Mondovélo Chambéry', 'establishment_id': 54, 'idprovider': 12, 'category': 'Hashtag', 'source': 'Facebook hashtag', 'url': 'https://www.facebook.com/hashtag/mondovelochambery', 'language': 'fr', 'last_review_date': None},\n",
    "    {'id': 123, 'caption': None, 'section': None, 'establishment_name': 'Madame Vacances', 'establishment_id': 7, 'idprovider': 29, 'category': 'Hashtag', 'source': 'Facebook hashtag', 'url': 'https://www.facebook.com/hashtag/madamevacances', 'language': 'fr', 'last_review_date': None}, \n",
    "    {'id': 95, 'caption': None, 'section': None, 'establishment_name': 'Hotel Chamartín The One', 'establishment_id': 28, 'idprovider': 29, 'category': 'Hashtag', 'source': 'Facebook hashtag', 'url': 'https://www.facebook.com/hashtag/ChamarTeam', 'language': 'es', 'last_review_date': None}, \n",
    "    {'id': 88, 'caption': None, 'section': None, 'establishment_name': 'Hotel Antequera Hills', 'establishment_id': 27, 'idprovider': 29, 'category': 'Hashtag', 'source': 'Facebook hashtag', 'url': 'https://www.facebook.com/hashtag/antequerahills', 'language': 'es', 'last_review_date': None}\n",
    "]"
   ]
  },
  {
   "cell_type": "code",
   "execution_count": 5,
   "metadata": {},
   "outputs": [],
   "source": [
    "chrome_options = webdriver.ChromeOptions()\n",
    "chrome_options.add_argument('disable-translate')\n",
    "chrome_options.add_argument('--lang=fr')"
   ]
  },
  {
   "cell_type": "code",
   "execution_count": 6,
   "metadata": {},
   "outputs": [],
   "source": [
    "driver = webdriver.Chrome(options=chrome_options)"
   ]
  },
  {
   "cell_type": "code",
   "execution_count": 7,
   "metadata": {},
   "outputs": [
    {
     "data": {
      "text/plain": [
       "<selenium.webdriver.support.wait.WebDriverWait (session=\"20766c4238ac1a10414b2558d06a54d4\")>"
      ]
     },
     "execution_count": 7,
     "metadata": {},
     "output_type": "execute_result"
    }
   ],
   "source": [
    "driver.maximize_window()\n",
    "driver.get(\"https://facebook.com/\")\n",
    "WebDriverWait(driver, 10000)"
   ]
  },
  {
   "cell_type": "code",
   "execution_count": 8,
   "metadata": {},
   "outputs": [],
   "source": [
    "credentials = {\n",
    "    \"username\": \"\",\n",
    "    \"phone\":\"\",\n",
    "    \"password\":\"\"\n",
    "}"
   ]
  },
  {
   "cell_type": "code",
   "execution_count": 9,
   "metadata": {},
   "outputs": [],
   "source": [
    "def login():\n",
    "    time.sleep(randint(1, 3))\n",
    "    username_input = driver.find_element(By.XPATH, \"//input[@data-testid='royal_email']\")\n",
    "    password_input = driver.find_element(By.XPATH, \"//input[@data-testid='royal_pass']\")\n",
    "    btn_login = driver.find_element(By.XPATH, \"//button[@data-testid='royal_login_button']\")\n",
    "    username_input.click()\n",
    "    time.sleep(randint(1, 3))\n",
    "    username_input.send_keys(credentials['phone'])\n",
    "    time.sleep(randint(1, 3))\n",
    "    password_input.click()\n",
    "    time.sleep(randint(1, 3))\n",
    "    password_input.send_keys(credentials['password'])\n",
    "    time.sleep(randint(1, 3))\n",
    "    btn_login.click()\n",
    "    WebDriverWait(driver, 8000)"
   ]
  },
  {
   "cell_type": "code",
   "execution_count": 10,
   "metadata": {},
   "outputs": [],
   "source": [
    "login()"
   ]
  },
  {
   "cell_type": "code",
   "execution_count": 11,
   "metadata": {},
   "outputs": [],
   "source": [
    "driver.get(\"https://www.facebook.com/hashtag/ChamarTeam\")"
   ]
  },
  {
   "cell_type": "code",
   "execution_count": 118,
   "metadata": {},
   "outputs": [],
   "source": [
    "x = BeautifulSoup(driver.page_source, 'lxml')"
   ]
  },
  {
   "cell_type": "code",
   "execution_count": 120,
   "metadata": {},
   "outputs": [],
   "source": [
    "with open('hashtag.html', 'w', encoding='utf-8') as openfile:\n",
    "    openfile.write(x.prettify())"
   ]
  },
  {
   "cell_type": "code",
   "execution_count": 12,
   "metadata": {},
   "outputs": [],
   "source": [
    "time.sleep(20)"
   ]
  },
  {
   "cell_type": "code",
   "execution_count": 30,
   "metadata": {},
   "outputs": [
    {
     "data": {
      "text/plain": [
       "'x1i10hfl.xjbqb8w.x1ejq31n.xd10rxx.x1sy0etr.x17r0tee.x972fbf.xcfux6l.x1qhh985.xm0m39n.x9f619.x1ypdohk.xt0psk2.xe8uvvx.xdj266r.x11i5rnm.xat24cr.x1mh8g0r.xexx8yu.x4uap5.x18d9i69.xkhd6sd.x16tdsg8.x1hl2dhg.xggy1nq.x1a2a7pz.x1sur9pj.xkrqix3.xi81zsa.xo1l8bm'"
      ]
     },
     "execution_count": 30,
     "metadata": {},
     "output_type": "execute_result"
    }
   ],
   "source": [
    "\"x1i10hfl xjbqb8w x1ejq31n xd10rxx x1sy0etr x17r0tee x972fbf xcfux6l x1qhh985 xm0m39n x9f619 x1ypdohk xt0psk2 xe8uvvx xdj266r x11i5rnm xat24cr x1mh8g0r xexx8yu x4uap5 x18d9i69 xkhd6sd x16tdsg8 x1hl2dhg xggy1nq x1a2a7pz x1sur9pj xkrqix3 xi81zsa xo1l8bm\".replace(' ', '.')"
   ]
  },
  {
   "cell_type": "code",
   "execution_count": 21,
   "metadata": {},
   "outputs": [],
   "source": [
    "hashtag_post_container = driver.find_element(By.CSS_SELECTOR, \"#mount_0_0_W1 > div > div:nth-child(1) > div > div.x9f619.x1n2onr6.x1ja2u2z > div > div > div.x78zum5.xdt5ytf.x1t2pt76.x1n2onr6.x1ja2u2z.x10cihs4 > div:nth-child(1) > div > div > div > div.x78zum5.xdt5ytf.x1iyjqo2 > div > div > div > div > div > div\")"
   ]
  },
  {
   "cell_type": "code",
   "execution_count": null,
   "metadata": {},
   "outputs": [],
   "source": [
    "\"#mount_0_0_Wh > div > div:nth-child(1) > div > div.x9f619.x1n2onr6.x1ja2u2z > div > div > div.x78zum5.xdt5ytf.x1t2pt76.x1n2onr6.x1ja2u2z.x10cihs4 > div:nth-child(1) > div > div > div > div.x78zum5.xdt5ytf.x1iyjqo2 > div > div > div > div > div\""
   ]
  },
  {
   "cell_type": "markdown",
   "metadata": {},
   "source": [
    "current_height = driver.execute_script('return window.innerHeight;')"
   ]
  },
  {
   "cell_type": "code",
   "execution_count": 23,
   "metadata": {},
   "outputs": [
    {
     "data": {
      "text/plain": [
       "6"
      ]
     },
     "execution_count": 23,
     "metadata": {},
     "output_type": "execute_result"
    }
   ],
   "source": [
    "len(hashtag_post_container.find_elements(By.CSS_SELECTOR, \"#mount_0_0_W1 > div > div:nth-child(1) > div > div.x9f619.x1n2onr6.x1ja2u2z > div > div > div.x78zum5.xdt5ytf.x1t2pt76.x1n2onr6.x1ja2u2z.x10cihs4 > div:nth-child(1) > div > div > div > div.x78zum5.xdt5ytf.x1iyjqo2 > div > div > div > div > div > div > div > div\"))"
   ]
  },
  {
   "cell_type": "code",
   "execution_count": 35,
   "metadata": {},
   "outputs": [],
   "source": [
    "posts = hashtag_post_container.find_elements(By.CSS_SELECTOR, \"#mount_0_0_W1 > div > div:nth-child(1) > div > div.x9f619.x1n2onr6.x1ja2u2z > div > div > div.x78zum5.xdt5ytf.x1t2pt76.x1n2onr6.x1ja2u2z.x10cihs4 > div:nth-child(1) > div > div > div > div.x78zum5.xdt5ytf.x1iyjqo2 > div > div > div > div > div > div > div > div\")"
   ]
  },
  {
   "cell_type": "code",
   "execution_count": 28,
   "metadata": {},
   "outputs": [],
   "source": [
    "page = BeautifulSoup(posts[].get_attribute('innerHTML'), 'lxml')"
   ]
  },
  {
   "cell_type": "code",
   "execution_count": 38,
   "metadata": {},
   "outputs": [],
   "source": [
    "posts[1].location_once_scrolled_into_view\n",
    "driver.execute_script(\"window.scrollBy(0, -150);\")"
   ]
  },
  {
   "cell_type": "code",
   "execution_count": 40,
   "metadata": {},
   "outputs": [],
   "source": [
    "date_link = posts[1].find_element(By.CSS_SELECTOR, \"span.x4k7w5x.x1h91t0o.x1h9r5lt.x1jfb8zj.xv2umb2.x1beo9mf.xaigb6o.x12ejxvf.x3igimt.xarpa2k.xedcshv.x1lytzrv.x1t2pt76.x7ja8zs.x1qrby5j\")\n",
    "date = pytesseract.image_to_string(Image.open(io.BytesIO(date_link.screenshot_as_png))).replace('\\n', '')"
   ]
  },
  {
   "cell_type": "code",
   "execution_count": 41,
   "metadata": {},
   "outputs": [
    {
     "data": {
      "text/plain": [
       "'June 24, 2023'"
      ]
     },
     "execution_count": 41,
     "metadata": {},
     "output_type": "execute_result"
    }
   ],
   "source": [
    "date"
   ]
  },
  {
   "cell_type": "code",
   "execution_count": 42,
   "metadata": {},
   "outputs": [
    {
     "data": {
      "text/plain": [
       "'https://www.facebook.com/mithlesh.mkkr/posts/pfbid07HUYKouXLxpuTqBXnUMZF4GfCews5hwN9Ak6XCQv13wAM53RHvL4cgqVDbiDhYdWl?__cft__[0]=AZXyrvS4VDhGrUX-y2oPosp7pcpu1hyMM1PBLSFLVtyacsU0UpSQ_Cv60ypwIQCl0OWkBtntRnzgvKGOO04M7hqEukviQgaN5_m_y3NJqzS6g5Wwow7HbeTFTpE0W3rXRNPuKGbpy6m563yHiJmioG6pMvkeZgrQFqGbs9WInOWs8W-_AnT0R8t2P_sNYdBnmL7CTYd75iD9lcCx1xxPkDN2pOHBhLYGlKYHCLNsOm9kJg&__tn__=%2CO%2CP-R'"
      ]
     },
     "execution_count": 42,
     "metadata": {},
     "output_type": "execute_result"
    }
   ],
   "source": [
    "ActionChains(driver, duration=randint(1000, 1500)).move_to_element(date_link).perform()\n",
    "BeautifulSoup(date_link.get_attribute('innerHTML'), 'lxml').find('a', href=True)['href']"
   ]
  },
  {
   "cell_type": "code",
   "execution_count": null,
   "metadata": {},
   "outputs": [],
   "source": [
    "posts[1].find_element(By.CSS_SELECTOR, \"a.x1i10hfl.xjbqb8w.x1ejq31n.xd10rxx.x1sy0etr.x17r0tee.x972fbf.xcfux6l.x1qhh985.xm0m39n.x9f619.x1ypdohk.xt0psk2.xe8uvvx.xdj266r.x11i5rnm.xat24cr.x1mh8g0r.xexx8yu.x4uap5.x18d9i69.xkhd6sd.x16tdsg8.x1hl2dhg.xggy1nq.x1a2a7pz.x1sur9pj.xkrqix3.xi81zsa.xo1l8bm\")"
   ]
  },
  {
   "cell_type": "code",
   "execution_count": null,
   "metadata": {},
   "outputs": [],
   "source": [
    "posts[1].find_element(By.CSS_SELECTOR, \"a.x1i10hfl.xjbqb8w.x1ejq31n.xd10rxx.x1sy0etr.x17r0tee.x972fbf.xcfux6l.x1qhh985.xm0m39n.x9f619.x1ypdohk.xt0psk2.xe8uvvx.xdj266r.x11i5rnm.xat24cr.x1mh8g0r.xexx8yu.x4uap5.x18d9i69.xkhd6sd.x16tdsg8.x1hl2dhg.xggy1nq.x1a2a7pz.x1sur9pj.xkrqix3.xi81zsa.xo1l8bm\").get_attribute('href')"
   ]
  }
 ],
 "metadata": {
  "kernelspec": {
   "display_name": "Python 3",
   "language": "python",
   "name": "python3"
  },
  "language_info": {
   "codemirror_mode": {
    "name": "ipython",
    "version": 3
   },
   "file_extension": ".py",
   "mimetype": "text/x-python",
   "name": "python",
   "nbconvert_exporter": "python",
   "pygments_lexer": "ipython3",
   "version": "3.11.3"
  }
 },
 "nbformat": 4,
 "nbformat_minor": 2
}
