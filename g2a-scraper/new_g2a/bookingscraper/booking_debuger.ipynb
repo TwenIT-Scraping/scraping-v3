{
 "cells": [
  {
   "cell_type": "code",
   "execution_count": 1,
   "metadata": {},
   "outputs": [],
   "source": [
    "from selenium import webdriver\n",
    "from selenium.common.exceptions import TimeoutException, NoSuchElementException\n",
    "from selenium.webdriver.common.by import By\n",
    "from selenium.webdriver.support.ui import WebDriverWait\n",
    "from selenium.webdriver.support import expected_conditions as EC\n",
    "from datetime import datetime, timedelta\n",
    "from datetime import datetime\n",
    "from bs4 import BeautifulSoup\n",
    "from urllib.parse import urlparse, parse_qs\n",
    "from pathlib import Path\n",
    "from dotenv import load_dotenv\n",
    "from random import randint\n",
    "import pandas as pd \n",
    "import re, os, time, sys, csv, json\n",
    "\n",
    "from toolkit import ordergenerator as og\n",
    "from toolkit import general_tools as gt\n"
   ]
  },
  {
   "cell_type": "code",
   "execution_count": 2,
   "metadata": {},
   "outputs": [],
   "source": [
    "chrome_options = webdriver.ChromeOptions()\n",
    "chrome_options.add_argument('--ignore-certificate-errors')\n",
    "chrome_options.add_argument('--disable-gpu')\n",
    "chrome_options.add_experimental_option(\"excludeSwitches\", [\"enable-logging\"])\n",
    "# self.chrome_options.add_argument('--headless')\n",
    "chrome_options.add_argument('--incognito')\n",
    "driver = webdriver.Chrome(options=chrome_options)"
   ]
  },
  {
   "cell_type": "code",
   "execution_count": 3,
   "metadata": {},
   "outputs": [],
   "source": [
    "url = \"https://www.booking.com/searchresults.fr.html?label=gog235jc-1DCAYoTUIGc2F2b2llSA1YA2hNiAEBmAENuAEXyAEM2AED6AEB-AECiAIBqAIDuAK37uOQBsACAdICJDJjMjgxMmVhLTIyM2MtNDI1Mi1iYTM4LTA3MmE4MjI3MWFkMdgCBOACAQ&sid=086e078aef1832684e5d5671c99a12b1&aid=356980&dest_id=2557&dest_type=region&nflt=ht_id%3D204%3Brpt%3D1&shw_aparth=0&checkin=2024-10-16&checkout=2024-10-17&selected_currency=EUR&lang=frhttps://www.booking.com/searchresults.fr.html?label=gog235jc-1DCAYoTUIGc2F2b2llSA1YA2hNiAEBmAENuAEXyAEM2AED6AEB-AECiAIBqAIDuAK37uOQBsACAdICJDJjMjgxMmVhLTIyM2MtNDI1Mi1iYTM4LTA3MmE4MjI3MWFkMdgCBOACAQ&sid=086e078aef1832684e5d5671c99a12b1&aid=356980&dest_id=2557&dest_type=region&nflt=ht_id%3D204%3Brpt%3D1&shw_aparth=0&checkin=2024-10-16&checkout=2024-10-17&selected_currency=EUR&lang=fr\""
   ]
  },
  {
   "cell_type": "code",
   "execution_count": 4,
   "metadata": {},
   "outputs": [],
   "source": [
    "driver.get(url)"
   ]
  },
  {
   "cell_type": "code",
   "execution_count": 6,
   "metadata": {},
   "outputs": [],
   "source": [
    "page = driver.page_source"
   ]
  },
  {
   "cell_type": "code",
   "execution_count": 7,
   "metadata": {},
   "outputs": [],
   "source": [
    "soupe = BeautifulSoup(page, 'lxml')\n",
    "cards = soupe.find_all('div', {'data-testid':\"property-card\"})"
   ]
  },
  {
   "cell_type": "code",
   "execution_count": 117,
   "metadata": {},
   "outputs": [
    {
     "data": {
      "text/plain": [
       "165"
      ]
     },
     "execution_count": 117,
     "metadata": {},
     "output_type": "execute_result"
    }
   ],
   "source": [
    "(len(cards) // 5) * 5"
   ]
  },
  {
   "cell_type": "code",
   "execution_count": 118,
   "metadata": {},
   "outputs": [],
   "source": [
    "card = cards[0]"
   ]
  },
  {
   "cell_type": "code",
   "execution_count": 119,
   "metadata": {},
   "outputs": [
    {
     "name": "stdout",
     "output_type": "stream",
     "text": [
      "nom: Le Grand Balcon Hotel\n"
     ]
    }
   ],
   "source": [
    "nom = card.find('div', {'data-testid':'title'}).text\n",
    "print(f'nom: {nom}')"
   ]
  },
  {
   "cell_type": "code",
   "execution_count": 87,
   "metadata": {},
   "outputs": [
    {
     "name": "stdout",
     "output_type": "stream",
     "text": [
      "prix init: 137\n"
     ]
    }
   ],
   "source": [
    "prix_init = card.find('div', {'data-testid':\"availability-rate-information\"}).find('div', {'tabindex':'0'}).find('span', {'class':'f018fa3636 d9315e4fb0'}).text[1:].replace(u'\\xa0', u'')\n",
    "print(f'prix init: {prix_init}')"
   ]
  },
  {
   "cell_type": "code",
   "execution_count": 88,
   "metadata": {},
   "outputs": [
    {
     "name": "stdout",
     "output_type": "stream",
     "text": [
      "prix actuel: 96\n"
     ]
    }
   ],
   "source": [
    "prix_actuel = card.find('div', {'data-testid':\"availability-rate-information\"}).find('span', {'data-testid':'price-and-discounted-price'}).text[1:].replace(u'\\xa0', u'')\n",
    "print(f\"prix actuel: {prix_actuel}\")"
   ]
  },
  {
   "cell_type": "code",
   "execution_count": 89,
   "metadata": {},
   "outputs": [
    {
     "name": "stdout",
     "output_type": "stream",
     "text": [
      "taxes: 35\n"
     ]
    }
   ],
   "source": [
    "taxe_text = card.find('div', {'data-testid':'taxes-and-charges'}).text.replace(u'\\xa0', u'')\n",
    "taxe_text =  0 if 'compri' in taxe_text else taxe_text.split('€')[1]\n",
    "print(f\"taxes: {taxe_text}\")"
   ]
  },
  {
   "cell_type": "code",
   "execution_count": 91,
   "metadata": {},
   "outputs": [
    {
     "name": "stdout",
     "output_type": "stream",
     "text": [
      "adress: Aix-en-Provence\n"
     ]
    }
   ],
   "source": [
    "adress = card.find('span', {'data-testid':'address'}).text\n",
    "print(f'adress: {adress}')"
   ]
  },
  {
   "cell_type": "code",
   "execution_count": 182,
   "metadata": {},
   "outputs": [
    {
     "name": "stdout",
     "output_type": "stream",
     "text": [
      "typologie: Chambre Standard - 1 Lit Queen-Size\n"
     ]
    }
   ],
   "source": [
    "typologie = cards[5].find('h4').text.replace(u'\\xa0', ' ')\n",
    "print(f'typologie: {typologie}')"
   ]
  },
  {
   "cell_type": "code",
   "execution_count": 8,
   "metadata": {},
   "outputs": [],
   "source": [
    "next_button = soupe.find('button', {'class':\"a83ed08757 c21c56c305 f38b6daa18 d691166b09 ab98298258 deab83296e bb803d8689 a16ddf9c57\"})\n",
    "if next_button:\n",
    "    next_page = driver.find_element(By.XPATH, \"//button[@aria-label='Page suivante']\")\n",
    "    next_page.click()\n",
    "    WebDriverWait(driver, 1)"
   ]
  },
  {
   "cell_type": "code",
   "execution_count": 9,
   "metadata": {},
   "outputs": [],
   "source": [
    "btn_vew_more = driver.find_element(By.XPATH, '//*[@id=\"bodyconstraint-inner\"]/div[2]/div/div[2]/div[3]/div[2]/div[2]/div[3]/div/button')"
   ]
  },
  {
   "cell_type": "code",
   "execution_count": 10,
   "metadata": {},
   "outputs": [],
   "source": [
    "btn_vew_more.location_once_scrolled_into_view\n",
    "driver.execute_script(\"window.scrollBy(0, -250);\")"
   ]
  },
  {
   "cell_type": "code",
   "execution_count": 37,
   "metadata": {},
   "outputs": [],
   "source": [
    "driver.get(\"https://www.booking.com/searchresults.fr.html?aid=1610684&label=poitiers-jXH27xmgvrQtl*97lNnM9AS380966959568%3Apl%3Ata%3Ap1%3Ap2%3Aac%3Aap%3Aneg%3Afi%3Atiaud-2007851544456%3Akwd-354694588041%3Alp9056095%3Ali%3Adec%3Adm%3Appccp%3DUmFuZG9tSVYkc2RlIyh9YfqnDqqG8nt10AsofPfvtt0&lang=en-gb&sid=5515b0ac0d548c76157b31c274e5a55d&sb=1&sb_lp=1&src=city&src_elem=sb&error_url=https%3A%2F%2Fwww.booking.com%2Fcity%2Ffr%2Fpoitiers.fr.html%3Faid%3D1610684%26label%3Dpoitiers-jXH27xmgvrQtl%252A97lNnM9AS380966959568%253Apl%253Ata%253Ap1%253Ap2%253Aac%253Aap%253Aneg%253Afi%253Atiaud-2007851544456%253Akwd-354694588041%253Alp9056095%253Ali%253Adec%253Adm%253Appccp%253DUmFuZG9tSVYkc2RlIyh9YfqnDqqG8nt10AsofPfvtt0%26sid%3D5515b0ac0d548c76157b31c274e5a55d%26inac%3D0%26%26&ss=Poitiers&is_ski_area=&ssne=Poitiers&ssne_untouched=Poitiers&city=-1458949&checkin_year=2024&checkin_month=09&checkin_monthday=28&checkout_year=2024&checkout_month=09&checkout_monthday=29&flex_window=0&efdco=1&group_adults=2&group_children=0&no_rooms=1&b_h4u_keep_filters=&from_sf=1&dest_id=-&dest_type=city&lang=fr\")"
   ]
  },
  {
   "cell_type": "code",
   "execution_count": 180,
   "metadata": {},
   "outputs": [
    {
     "data": {
      "text/plain": [
       "89"
      ]
     },
     "execution_count": 180,
     "metadata": {},
     "output_type": "execute_result"
    }
   ],
   "source": [
    "int(''.join(list(filter(str.isdigit, driver.find_element(By.XPATH, \"//h1[@aria-live='assertive']\").text))))"
   ]
  },
  {
   "cell_type": "code",
   "execution_count": 18,
   "metadata": {},
   "outputs": [],
   "source": [
    "driver.find_element(By.XPATH, '//span[contains(text(), \"Afficher plus de résultats\")]').click()"
   ]
  },
  {
   "cell_type": "code",
   "execution_count": 11,
   "metadata": {},
   "outputs": [
    {
     "name": "stdout",
     "output_type": "stream",
     "text": [
      "110\n",
      "131\n"
     ]
    }
   ],
   "source": [
    "def load_page_content():\n",
    "    def scroll_page():\n",
    "        driver.execute_script(\"window.scrollTo(0, document.body.scrollHeight);\")\n",
    "        time.sleep(1)\n",
    "\n",
    "    scroll_page()\n",
    "\n",
    "    while True:\n",
    "        try:\n",
    "            scroll_page()\n",
    "            btn_vew_more = driver.find_element(By.XPATH, '//*[@id=\"bodyconstraint-inner\"]/div[2]/div/div[2]/div[3]/div[2]/div[2]/div[3]/div/button')\n",
    "            if btn_vew_more:\n",
    "                driver.execute_script('arguments[0].scrollIntoView({ behavior: \"smooth\", block: \"center\", inline: \"center\" })', btn_vew_more)\n",
    "                time.sleep(.5)\n",
    "                btn_vew_more.click()\n",
    "        except NoSuchElementException:\n",
    "            break\n",
    "\n",
    "    soupe = BeautifulSoup(driver.page_source, 'lxml')\n",
    "    print(len(soupe.find_all('div', {'data-testid':\"property-card\"})))\n",
    "    print(int(''.join(list(filter(str.isdigit, driver.find_element(By.XPATH, \"//h1[@aria-live='assertive']\").text)))))\n",
    "\n",
    "load_page_content()"
   ]
  },
  {
   "cell_type": "code",
   "execution_count": 33,
   "metadata": {},
   "outputs": [],
   "source": [
    "def get_cards() -> tuple:\n",
    "    card_count = 0\n",
    "    cards = []\n",
    "    try:\n",
    "        cards = driver.find_elements(By.XPATH, \"//div[@data-testid='property-card']\")\n",
    "        card_count = len(cards)\n",
    "        return cards, card_count \n",
    "    except NoSuchElementException:\n",
    "        return cards, card_count "
   ]
  },
  {
   "cell_type": "code",
   "execution_count": 32,
   "metadata": {},
   "outputs": [],
   "source": [
    "        return cards, card_count \n",
    "\n",
    "    time.sleep(3)\n"
   ]
  },
  {
   "cell_type": "code",
   "execution_count": 1,
   "metadata": {},
   "outputs": [
    {
     "data": {
      "text/plain": [
       "'dba1b3bddf.e99c25fd33.aabf155f9a.f42ee7b31a.a86bcdb87f.b02ceec9d7'"
      ]
     },
     "execution_count": 1,
     "metadata": {},
     "output_type": "execute_result"
    }
   ],
   "source": [
    "\"dba1b3bddf e99c25fd33 aabf155f9a f42ee7b31a a86bcdb87f b02ceec9d7\".replace(\" \", \".\")"
   ]
  },
  {
   "cell_type": "code",
   "execution_count": 34,
   "metadata": {},
   "outputs": [],
   "source": [
    "def scroll_down():\n",
    "    cards, current_card_count = get_cards()\n",
    "    if cards:\n",
    "        scroll_to_last_card()\n",
    "        while True:\n",
    "            cards, new_card_count = get_cards()\n",
    "            if new_card_count == current_card_count:\n",
    "                break\n",
    "            if new_card_count > current_card_count:\n",
    "                scroll_to_last_card()\n"
   ]
  },
  {
   "cell_type": "code",
   "execution_count": 38,
   "metadata": {},
   "outputs": [
    {
     "name": "stdout",
     "output_type": "stream",
     "text": [
      "90\n",
      "90\n"
     ]
    }
   ],
   "source": [
    "def load_page_content():\n",
    "\n",
    "    while True:\n",
    "        try:\n",
    "            scroll_page()\n",
    "            btn_vew_more = driver.find_element(By.XPATH, '//*[@id=\"bodyconstraint-inner\"]/div[2]/div/div[2]/div[3]/div[2]/div[2]/div[3]/div/button')\n",
    "            if btn_vew_more:\n",
    "                driver.execute_script('arguments[0].scrollIntoView({ behavior: \"smooth\", block: \"center\", inline: \"center\" })', btn_vew_more)\n",
    "                time.sleep(.5)\n",
    "                btn_vew_more.click()\n",
    "        except NoSuchElementException:\n",
    "            break\n",
    "\n",
    "    soupe = BeautifulSoup(driver.page_source, 'lxml')\n",
    "    print(len(soupe.find_all('div', {'data-testid':\"property-card\"})))\n",
    "    print(int(''.join(list(filter(str.isdigit, driver.find_element(By.XPATH, \"//h1[@aria-live='assertive']\").text)))))\n",
    "\n",
    "load_page_content()"
   ]
  },
  {
   "cell_type": "code",
   "execution_count": null,
   "metadata": {},
   "outputs": [],
   "source": []
  }
 ],
 "metadata": {
  "kernelspec": {
   "display_name": "venv",
   "language": "python",
   "name": "python3"
  },
  "language_info": {
   "codemirror_mode": {
    "name": "ipython",
    "version": 3
   },
   "file_extension": ".py",
   "mimetype": "text/x-python",
   "name": "python",
   "nbconvert_exporter": "python",
   "pygments_lexer": "ipython3",
   "version": "3.11.3"
  },
  "orig_nbformat": 4
 },
 "nbformat": 4,
 "nbformat_minor": 2
}
